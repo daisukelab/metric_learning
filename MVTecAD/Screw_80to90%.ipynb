{
 "cells": [
  {
   "cell_type": "code",
   "execution_count": null,
   "metadata": {},
   "outputs": [],
   "source": [
    "import sys; sys.path.append('..')\n",
    "from mvtecad_test import *\n",
    "from fastai.callbacks import SaveModelCallback\n",
    "from PIL import ImageFilter\n",
    "\n",
    "#fastai_progress_as_text()\n",
    "\n",
    "VISUALIZE = True\n",
    "PATH = Path('/mnt/dataset/mvtec_ad')\n",
    "\n",
    "class DefectOnBlobImageList(AnomalyTwinImageList):\n",
    "    BLOB_TH = 20\n",
    "    WIDTH_MIN = 1\n",
    "    WIDTH_MAX = 14\n",
    "    LENGTH_MAX = 30\n",
    "    COLOR = True\n",
    "\n",
    "    @classmethod\n",
    "    def set_params(cls, blob_th=20, width_min=1, width_max=14, length=225//5, color=True):\n",
    "        cls.BLOB_TH = blob_th\n",
    "        cls.WIDTH_MIN, cls.WIDTH_MAX = width_min, width_max\n",
    "        cls.LENGTH_MAX, cls.COLOR = length, color\n",
    "\n",
    "    def anomaly_twin(self, image):\n",
    "        \"\"\"Default anomaly twin maker.\"\"\"\n",
    "        np_img = np.array(image.filter(ImageFilter.SMOOTH)).astype(np.float32)\n",
    "        scar_max = self.LENGTH_MAX\n",
    "        half = self.SIZE // 2\n",
    "        # Randomly choose point on object blob\n",
    "        ys, xs = np.where(np.sum(np.abs(np.diff(np_img, axis=0)), axis=2) > self.BLOB_TH)\n",
    "        x = random.choice(xs)\n",
    "        ys_x = ys[np.where(xs == x)[0]]\n",
    "        y = random.randint(ys_x.min(), ys_x.max())\n",
    "        # Randomly choose other parameters\n",
    "        dx, dy = random.randint(0, scar_max), random.randint(0, scar_max)\n",
    "        x2, y2 = x + dx if x < half else x - dx, y + dy if y < half else y - dy\n",
    "        c = (random.randint(0, 256), random.randint(0, 224), random.randint(0, 256))\n",
    "        if not self.COLOR: c = (c[0], c[0], c[0])\n",
    "        w = random.randint(self.WIDTH_MIN, self.WIDTH_MAX)\n",
    "        ImageDraw.Draw(image).line((x, y, x2,y2), fill=c, width=w)\n",
    "        return image\n",
    "\n",
    "# 'capsule',\n",
    "mvtecad = MVTecADTest(PATH, artificial_image_list_cls=DefectOnBlobImageList,\n",
    "                      testcases = [ 'screw',], img_size=224)#, skip_data_creation=True)\n",
    "DefectOnBlobImageList.set_params(blob_th=20, width_min=1, width_max=16, length=30, color=False)"
   ]
  },
  {
   "cell_type": "code",
   "execution_count": null,
   "metadata": {},
   "outputs": [],
   "source": [
    "mvtecad.set_test(0, 0)\n",
    "data = mvtecad.databunch()\n",
    "data.show_batch()"
   ]
  },
  {
   "cell_type": "code",
   "execution_count": null,
   "metadata": {
    "scrolled": false
   },
   "outputs": [],
   "source": [
    "def learner_ArcFace(data):\n",
    "    learn = cnn_learner(data, models.resnet34, metrics=accuracy)\n",
    "    learn.model = XFaceNet(learn.model, data, ArcMarginProduct, m=0.5)\n",
    "    learn.callback_fns.append(partial(LabelCatcher))\n",
    "    learn.fit_one_cycle(10, max_lr=1e-2)\n",
    "    learn.fit_one_cycle(10, max_lr=1e-4)\n",
    "    learn.unfreeze()\n",
    "    learn.fit_one_cycle(20, max_lr=slice(1e-6, 1e-5), callbacks=[SaveModelCallback(learn)])\n",
    "    return learn\n",
    "\n",
    "model_defs = {\n",
    "    'ArcFace': learner_ArcFace,\n",
    "}\n",
    "\n",
    "for name, learner_fn in model_defs.items():\n",
    "    for i, tc in enumerate(mvtecad.testcases):\n",
    "        mvtecad.set_test(i, 0)\n",
    "        mvtecad.test(name, learner_fn, vis_class=None)"
   ]
  },
  {
   "cell_type": "code",
   "execution_count": null,
   "metadata": {},
   "outputs": [],
   "source": [
    "paper_table2_compatible_result(mvtecad, reorder=False)"
   ]
  },
  {
   "cell_type": "code",
   "execution_count": null,
   "metadata": {},
   "outputs": [],
   "source": [
    "\n"
   ]
  }
 ],
 "metadata": {
  "kernelspec": {
   "display_name": "Python 3",
   "language": "python",
   "name": "python3"
  },
  "language_info": {
   "codemirror_mode": {
    "name": "ipython",
    "version": 3
   },
   "file_extension": ".py",
   "mimetype": "text/x-python",
   "name": "python",
   "nbconvert_exporter": "python",
   "pygments_lexer": "ipython3",
   "version": "3.7.5"
  }
 },
 "nbformat": 4,
 "nbformat_minor": 2
}
