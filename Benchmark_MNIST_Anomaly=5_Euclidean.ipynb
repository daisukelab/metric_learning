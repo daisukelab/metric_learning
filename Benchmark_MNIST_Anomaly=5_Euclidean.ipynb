{
 "cells": [
  {
   "cell_type": "code",
   "execution_count": 1,
   "metadata": {},
   "outputs": [],
   "source": [
    "from utils import *\n",
    "\n",
    "VISUALIZE_EMBEDDINGS = True"
   ]
  },
  {
   "cell_type": "markdown",
   "metadata": {},
   "source": [
    "## Prepare Data"
   ]
  },
  {
   "cell_type": "code",
   "execution_count": 2,
   "metadata": {},
   "outputs": [],
   "source": [
    "all_data = prepare_full_MNIST_databunch()\n",
    "toytest = ToyAnomalyDetection(all_data, n_anomaly_labels=5, n_cases=10, distance='euclidean')"
   ]
  },
  {
   "cell_type": "markdown",
   "metadata": {},
   "source": [
    "## 1. Conventional softmax model"
   ]
  },
  {
   "cell_type": "code",
   "execution_count": 3,
   "metadata": {},
   "outputs": [
    {
     "data": {
      "text/html": [
       "Total time: 00:14 <p><table border=\"1\" class=\"dataframe\">\n",
       "  <thead>\n",
       "    <tr style=\"text-align: left;\">\n",
       "      <th>epoch</th>\n",
       "      <th>train_loss</th>\n",
       "      <th>valid_loss</th>\n",
       "      <th>accuracy</th>\n",
       "      <th>time</th>\n",
       "    </tr>\n",
       "  </thead>\n",
       "  <tbody>\n",
       "    <tr>\n",
       "      <td>0</td>\n",
       "      <td>0.561386</td>\n",
       "      <td>0.412727</td>\n",
       "      <td>0.866000</td>\n",
       "      <td>00:14</td>\n",
       "    </tr>\n",
       "  </tbody>\n",
       "</table>"
      ],
      "text/plain": [
       "<IPython.core.display.HTML object>"
      ]
     },
     "metadata": {},
     "output_type": "display_data"
    },
    {
     "data": {
      "text/html": [
       "Total time: 00:49 <p><table border=\"1\" class=\"dataframe\">\n",
       "  <thead>\n",
       "    <tr style=\"text-align: left;\">\n",
       "      <th>epoch</th>\n",
       "      <th>train_loss</th>\n",
       "      <th>valid_loss</th>\n",
       "      <th>accuracy</th>\n",
       "      <th>time</th>\n",
       "    </tr>\n",
       "  </thead>\n",
       "  <tbody>\n",
       "    <tr>\n",
       "      <td>0</td>\n",
       "      <td>0.129702</td>\n",
       "      <td>0.042874</td>\n",
       "      <td>0.988000</td>\n",
       "      <td>00:16</td>\n",
       "    </tr>\n",
       "    <tr>\n",
       "      <td>1</td>\n",
       "      <td>0.046028</td>\n",
       "      <td>0.043134</td>\n",
       "      <td>0.989200</td>\n",
       "      <td>00:16</td>\n",
       "    </tr>\n",
       "    <tr>\n",
       "      <td>2</td>\n",
       "      <td>0.035801</td>\n",
       "      <td>0.016364</td>\n",
       "      <td>0.994800</td>\n",
       "      <td>00:16</td>\n",
       "    </tr>\n",
       "  </tbody>\n",
       "</table>"
      ],
      "text/plain": [
       "<IPython.core.display.HTML object>"
      ]
     },
     "metadata": {},
     "output_type": "display_data"
    },
    {
     "data": {
      "image/png": "[encoded data removed]",
      "text/plain": [
       "<Figure size 432x288 with 2 Axes>"
      ]
     },
     "metadata": {},
     "output_type": "display_data"
    }
   ],
   "source": [
    "# Define model learner\n",
    "def learner_conventional(train_data):\n",
    "    learn = cnn_learner(train_data, models.resnet18, metrics=accuracy)\n",
    "    learn.fit_one_cycle(1)\n",
    "    learn.unfreeze()\n",
    "    learn.fit_one_cycle(3)\n",
    "    return learn\n",
    "\n",
    "def visualize_embeddings(learn, title):\n",
    "    embs = get_embeddings(body_feature_model(learn.model), all_data.valid_dl)\n",
    "    show_2D_tSNE(embs, [int(y) for y in all_data.valid_ds.y], title=title)\n",
    "\n",
    "if VISUALIZE_EMBEDDINGS:\n",
    "    learn = learner_conventional(all_data)\n",
    "    visualize_embeddings(learn, 'Simply trained ResNet18 (t-SNE)')    "
   ]
  },
  {
   "cell_type": "code",
   "execution_count": 4,
   "metadata": {},
   "outputs": [
    {
     "name": "stdout",
     "output_type": "stream",
     "text": [
      "Testing Conventional for case #0\n"
     ]
    },
    {
     "data": {
      "text/html": [
       "Total time: 00:07 <p><table border=\"1\" class=\"dataframe\">\n",
       "  <thead>\n",
       "    <tr style=\"text-align: left;\">\n",
       "      <th>epoch</th>\n",
       "      <th>train_loss</th>\n",
       "      <th>valid_loss</th>\n",
       "      <th>accuracy</th>\n",
       "      <th>time</th>\n",
       "    </tr>\n",
       "  </thead>\n",
       "  <tbody>\n",
       "    <tr>\n",
       "      <td>0</td>\n",
       "      <td>0.509094</td>\n",
       "      <td>0.440575</td>\n",
       "      <td>0.844065</td>\n",
       "      <td>00:07</td>\n",
       "    </tr>\n",
       "  </tbody>\n",
       "</table>"
      ],
      "text/plain": [
       "<IPython.core.display.HTML object>"
      ]
     },
     "metadata": {},
     "output_type": "display_data"
    },
    {
     "data": {
      "text/html": [
       "Total time: 00:25 <p><table border=\"1\" class=\"dataframe\">\n",
       "  <thead>\n",
       "    <tr style=\"text-align: left;\">\n",
       "      <th>epoch</th>\n",
       "      <th>train_loss</th>\n",
       "      <th>valid_loss</th>\n",
       "      <th>accuracy</th>\n",
       "      <th>time</th>\n",
       "    </tr>\n",
       "  </thead>\n",
       "  <tbody>\n",
       "    <tr>\n",
       "      <td>0</td>\n",
       "      <td>0.101733</td>\n",
       "      <td>0.034869</td>\n",
       "      <td>0.988274</td>\n",
       "      <td>00:08</td>\n",
       "    </tr>\n",
       "    <tr>\n",
       "      <td>1</td>\n",
       "      <td>0.042019</td>\n",
       "      <td>0.013863</td>\n",
       "      <td>0.996709</td>\n",
       "      <td>00:08</td>\n",
       "    </tr>\n",
       "    <tr>\n",
       "      <td>2</td>\n",
       "      <td>0.014671</td>\n",
       "      <td>0.011158</td>\n",
       "      <td>0.996709</td>\n",
       "      <td>00:08</td>\n",
       "    </tr>\n",
       "  </tbody>\n",
       "</table>"
      ],
      "text/plain": [
       "<IPython.core.display.HTML object>"
      ]
     },
     "metadata": {},
     "output_type": "display_data"
    },
    {
     "name": "stdout",
     "output_type": "stream",
     "text": [
      "Evaluation size => test:(4999, 512), train(14700, 512)\n",
      "Calculated distances in shape (4999, 14700)\n",
      "Testing Conventional for case #1\n"
     ]
    },
    {
     "data": {
      "text/html": [
       "Total time: 00:07 <p><table border=\"1\" class=\"dataframe\">\n",
       "  <thead>\n",
       "    <tr style=\"text-align: left;\">\n",
       "      <th>epoch</th>\n",
       "      <th>train_loss</th>\n",
       "      <th>valid_loss</th>\n",
       "      <th>accuracy</th>\n",
       "      <th>time</th>\n",
       "    </tr>\n",
       "  </thead>\n",
       "  <tbody>\n",
       "    <tr>\n",
       "      <td>0</td>\n",
       "      <td>0.463725</td>\n",
       "      <td>0.366276</td>\n",
       "      <td>0.869873</td>\n",
       "      <td>00:07</td>\n",
       "    </tr>\n",
       "  </tbody>\n",
       "</table>"
      ],
      "text/plain": [
       "<IPython.core.display.HTML object>"
      ]
     },
     "metadata": {},
     "output_type": "display_data"
    },
    {
     "data": {
      "text/html": [
       "Total time: 00:25 <p><table border=\"1\" class=\"dataframe\">\n",
       "  <thead>\n",
       "    <tr style=\"text-align: left;\">\n",
       "      <th>epoch</th>\n",
       "      <th>train_loss</th>\n",
       "      <th>valid_loss</th>\n",
       "      <th>accuracy</th>\n",
       "      <th>time</th>\n",
       "    </tr>\n",
       "  </thead>\n",
       "  <tbody>\n",
       "    <tr>\n",
       "      <td>0</td>\n",
       "      <td>0.103957</td>\n",
       "      <td>0.033396</td>\n",
       "      <td>0.989291</td>\n",
       "      <td>00:08</td>\n",
       "    </tr>\n",
       "    <tr>\n",
       "      <td>1</td>\n",
       "      <td>0.027770</td>\n",
       "      <td>0.015233</td>\n",
       "      <td>0.995959</td>\n",
       "      <td>00:08</td>\n",
       "    </tr>\n",
       "    <tr>\n",
       "      <td>2</td>\n",
       "      <td>0.020509</td>\n",
       "      <td>0.008454</td>\n",
       "      <td>0.996767</td>\n",
       "      <td>00:08</td>\n",
       "    </tr>\n",
       "  </tbody>\n",
       "</table>"
      ],
      "text/plain": [
       "<IPython.core.display.HTML object>"
      ]
     },
     "metadata": {},
     "output_type": "display_data"
    },
    {
     "name": "stdout",
     "output_type": "stream",
     "text": [
      "Evaluation size => test:(4999, 512), train(14951, 512)\n",
      "Calculated distances in shape (4999, 14951)\n",
      "Testing Conventional for case #2\n"
     ]
    },
    {
     "data": {
      "text/html": [
       "Total time: 00:07 <p><table border=\"1\" class=\"dataframe\">\n",
       "  <thead>\n",
       "    <tr style=\"text-align: left;\">\n",
       "      <th>epoch</th>\n",
       "      <th>train_loss</th>\n",
       "      <th>valid_loss</th>\n",
       "      <th>accuracy</th>\n",
       "      <th>time</th>\n",
       "    </tr>\n",
       "  </thead>\n",
       "  <tbody>\n",
       "    <tr>\n",
       "      <td>0</td>\n",
       "      <td>0.361343</td>\n",
       "      <td>0.320170</td>\n",
       "      <td>0.886656</td>\n",
       "      <td>00:07</td>\n",
       "    </tr>\n",
       "  </tbody>\n",
       "</table>"
      ],
      "text/plain": [
       "<IPython.core.display.HTML object>"
      ]
     },
     "metadata": {},
     "output_type": "display_data"
    },
    {
     "data": {
      "text/html": [
       "Total time: 00:26 <p><table border=\"1\" class=\"dataframe\">\n",
       "  <thead>\n",
       "    <tr style=\"text-align: left;\">\n",
       "      <th>epoch</th>\n",
       "      <th>train_loss</th>\n",
       "      <th>valid_loss</th>\n",
       "      <th>accuracy</th>\n",
       "      <th>time</th>\n",
       "    </tr>\n",
       "  </thead>\n",
       "  <tbody>\n",
       "    <tr>\n",
       "      <td>0</td>\n",
       "      <td>0.081936</td>\n",
       "      <td>0.037131</td>\n",
       "      <td>0.988490</td>\n",
       "      <td>00:08</td>\n",
       "    </tr>\n",
       "    <tr>\n",
       "      <td>1</td>\n",
       "      <td>0.040120</td>\n",
       "      <td>0.015369</td>\n",
       "      <td>0.996293</td>\n",
       "      <td>00:08</td>\n",
       "    </tr>\n",
       "    <tr>\n",
       "      <td>2</td>\n",
       "      <td>0.018317</td>\n",
       "      <td>0.008221</td>\n",
       "      <td>0.997854</td>\n",
       "      <td>00:08</td>\n",
       "    </tr>\n",
       "  </tbody>\n",
       "</table>"
      ],
      "text/plain": [
       "<IPython.core.display.HTML object>"
      ]
     },
     "metadata": {},
     "output_type": "display_data"
    },
    {
     "name": "stdout",
     "output_type": "stream",
     "text": [
      "Evaluation size => test:(4999, 512), train(15363, 512)\n",
      "Calculated distances in shape (4999, 15363)\n",
      "Testing Conventional for case #3\n"
     ]
    },
    {
     "data": {
      "text/html": [
       "Total time: 00:07 <p><table border=\"1\" class=\"dataframe\">\n",
       "  <thead>\n",
       "    <tr style=\"text-align: left;\">\n",
       "      <th>epoch</th>\n",
       "      <th>train_loss</th>\n",
       "      <th>valid_loss</th>\n",
       "      <th>accuracy</th>\n",
       "      <th>time</th>\n",
       "    </tr>\n",
       "  </thead>\n",
       "  <tbody>\n",
       "    <tr>\n",
       "      <td>0</td>\n",
       "      <td>0.400156</td>\n",
       "      <td>0.318420</td>\n",
       "      <td>0.895906</td>\n",
       "      <td>00:07</td>\n",
       "    </tr>\n",
       "  </tbody>\n",
       "</table>"
      ],
      "text/plain": [
       "<IPython.core.display.HTML object>"
      ]
     },
     "metadata": {},
     "output_type": "display_data"
    },
    {
     "data": {
      "text/html": [
       "Total time: 00:26 <p><table border=\"1\" class=\"dataframe\">\n",
       "  <thead>\n",
       "    <tr style=\"text-align: left;\">\n",
       "      <th>epoch</th>\n",
       "      <th>train_loss</th>\n",
       "      <th>valid_loss</th>\n",
       "      <th>accuracy</th>\n",
       "      <th>time</th>\n",
       "    </tr>\n",
       "  </thead>\n",
       "  <tbody>\n",
       "    <tr>\n",
       "      <td>0</td>\n",
       "      <td>0.080215</td>\n",
       "      <td>0.058685</td>\n",
       "      <td>0.981871</td>\n",
       "      <td>00:08</td>\n",
       "    </tr>\n",
       "    <tr>\n",
       "      <td>1</td>\n",
       "      <td>0.034888</td>\n",
       "      <td>0.009467</td>\n",
       "      <td>0.997271</td>\n",
       "      <td>00:08</td>\n",
       "    </tr>\n",
       "    <tr>\n",
       "      <td>2</td>\n",
       "      <td>0.016349</td>\n",
       "      <td>0.006739</td>\n",
       "      <td>0.997466</td>\n",
       "      <td>00:08</td>\n",
       "    </tr>\n",
       "  </tbody>\n",
       "</table>"
      ],
      "text/plain": [
       "<IPython.core.display.HTML object>"
      ]
     },
     "metadata": {},
     "output_type": "display_data"
    },
    {
     "name": "stdout",
     "output_type": "stream",
     "text": [
      "Evaluation size => test:(4999, 512), train(15210, 512)\n",
      "Calculated distances in shape (4999, 15210)\n",
      "Testing Conventional for case #4\n"
     ]
    },
    {
     "data": {
      "text/html": [
       "Total time: 00:07 <p><table border=\"1\" class=\"dataframe\">\n",
       "  <thead>\n",
       "    <tr style=\"text-align: left;\">\n",
       "      <th>epoch</th>\n",
       "      <th>train_loss</th>\n",
       "      <th>valid_loss</th>\n",
       "      <th>accuracy</th>\n",
       "      <th>time</th>\n",
       "    </tr>\n",
       "  </thead>\n",
       "  <tbody>\n",
       "    <tr>\n",
       "      <td>0</td>\n",
       "      <td>0.354183</td>\n",
       "      <td>0.287294</td>\n",
       "      <td>0.902439</td>\n",
       "      <td>00:07</td>\n",
       "    </tr>\n",
       "  </tbody>\n",
       "</table>"
      ],
      "text/plain": [
       "<IPython.core.display.HTML object>"
      ]
     },
     "metadata": {},
     "output_type": "display_data"
    },
    {
     "data": {
      "text/html": [
       "Total time: 00:26 <p><table border=\"1\" class=\"dataframe\">\n",
       "  <thead>\n",
       "    <tr style=\"text-align: left;\">\n",
       "      <th>epoch</th>\n",
       "      <th>train_loss</th>\n",
       "      <th>valid_loss</th>\n",
       "      <th>accuracy</th>\n",
       "      <th>time</th>\n",
       "    </tr>\n",
       "  </thead>\n",
       "  <tbody>\n",
       "    <tr>\n",
       "      <td>0</td>\n",
       "      <td>0.068441</td>\n",
       "      <td>0.026152</td>\n",
       "      <td>0.992838</td>\n",
       "      <td>00:08</td>\n",
       "    </tr>\n",
       "    <tr>\n",
       "      <td>1</td>\n",
       "      <td>0.022074</td>\n",
       "      <td>0.013910</td>\n",
       "      <td>0.995741</td>\n",
       "      <td>00:08</td>\n",
       "    </tr>\n",
       "    <tr>\n",
       "      <td>2</td>\n",
       "      <td>0.012801</td>\n",
       "      <td>0.005264</td>\n",
       "      <td>0.998258</td>\n",
       "      <td>00:08</td>\n",
       "    </tr>\n",
       "  </tbody>\n",
       "</table>"
      ],
      "text/plain": [
       "<IPython.core.display.HTML object>"
      ]
     },
     "metadata": {},
     "output_type": "display_data"
    },
    {
     "name": "stdout",
     "output_type": "stream",
     "text": [
      "Evaluation size => test:(4999, 512), train(15350, 512)\n",
      "Calculated distances in shape (4999, 15350)\n",
      "Testing Conventional for case #5\n"
     ]
    },
    {
     "data": {
      "text/html": [
       "Total time: 00:07 <p><table border=\"1\" class=\"dataframe\">\n",
       "  <thead>\n",
       "    <tr style=\"text-align: left;\">\n",
       "      <th>epoch</th>\n",
       "      <th>train_loss</th>\n",
       "      <th>valid_loss</th>\n",
       "      <th>accuracy</th>\n",
       "      <th>time</th>\n",
       "    </tr>\n",
       "  </thead>\n",
       "  <tbody>\n",
       "    <tr>\n",
       "      <td>0</td>\n",
       "      <td>0.280206</td>\n",
       "      <td>0.218291</td>\n",
       "      <td>0.927612</td>\n",
       "      <td>00:07</td>\n",
       "    </tr>\n",
       "  </tbody>\n",
       "</table>"
      ],
      "text/plain": [
       "<IPython.core.display.HTML object>"
      ]
     },
     "metadata": {},
     "output_type": "display_data"
    },
    {
     "data": {
      "text/html": [
       "Total time: 00:26 <p><table border=\"1\" class=\"dataframe\">\n",
       "  <thead>\n",
       "    <tr style=\"text-align: left;\">\n",
       "      <th>epoch</th>\n",
       "      <th>train_loss</th>\n",
       "      <th>valid_loss</th>\n",
       "      <th>accuracy</th>\n",
       "      <th>time</th>\n",
       "    </tr>\n",
       "  </thead>\n",
       "  <tbody>\n",
       "    <tr>\n",
       "      <td>0</td>\n",
       "      <td>0.065230</td>\n",
       "      <td>0.010307</td>\n",
       "      <td>0.997665</td>\n",
       "      <td>00:08</td>\n",
       "    </tr>\n",
       "    <tr>\n",
       "      <td>1</td>\n",
       "      <td>0.023312</td>\n",
       "      <td>0.009670</td>\n",
       "      <td>0.996692</td>\n",
       "      <td>00:08</td>\n",
       "    </tr>\n",
       "    <tr>\n",
       "      <td>2</td>\n",
       "      <td>0.010744</td>\n",
       "      <td>0.002234</td>\n",
       "      <td>0.999416</td>\n",
       "      <td>00:08</td>\n",
       "    </tr>\n",
       "  </tbody>\n",
       "</table>"
      ],
      "text/plain": [
       "<IPython.core.display.HTML object>"
      ]
     },
     "metadata": {},
     "output_type": "display_data"
    },
    {
     "name": "stdout",
     "output_type": "stream",
     "text": [
      "Evaluation size => test:(4999, 512), train(15297, 512)\n",
      "Calculated distances in shape (4999, 15297)\n",
      "Testing Conventional for case #6\n"
     ]
    },
    {
     "data": {
      "text/html": [
       "Total time: 00:07 <p><table border=\"1\" class=\"dataframe\">\n",
       "  <thead>\n",
       "    <tr style=\"text-align: left;\">\n",
       "      <th>epoch</th>\n",
       "      <th>train_loss</th>\n",
       "      <th>valid_loss</th>\n",
       "      <th>accuracy</th>\n",
       "      <th>time</th>\n",
       "    </tr>\n",
       "  </thead>\n",
       "  <tbody>\n",
       "    <tr>\n",
       "      <td>0</td>\n",
       "      <td>0.415543</td>\n",
       "      <td>0.306558</td>\n",
       "      <td>0.890913</td>\n",
       "      <td>00:07</td>\n",
       "    </tr>\n",
       "  </tbody>\n",
       "</table>"
      ],
      "text/plain": [
       "<IPython.core.display.HTML object>"
      ]
     },
     "metadata": {},
     "output_type": "display_data"
    },
    {
     "data": {
      "text/html": [
       "Total time: 00:25 <p><table border=\"1\" class=\"dataframe\">\n",
       "  <thead>\n",
       "    <tr style=\"text-align: left;\">\n",
       "      <th>epoch</th>\n",
       "      <th>train_loss</th>\n",
       "      <th>valid_loss</th>\n",
       "      <th>accuracy</th>\n",
       "      <th>time</th>\n",
       "    </tr>\n",
       "  </thead>\n",
       "  <tbody>\n",
       "    <tr>\n",
       "      <td>0</td>\n",
       "      <td>0.064030</td>\n",
       "      <td>0.016060</td>\n",
       "      <td>0.995248</td>\n",
       "      <td>00:08</td>\n",
       "    </tr>\n",
       "    <tr>\n",
       "      <td>1</td>\n",
       "      <td>0.033580</td>\n",
       "      <td>0.011614</td>\n",
       "      <td>0.997228</td>\n",
       "      <td>00:08</td>\n",
       "    </tr>\n",
       "    <tr>\n",
       "      <td>2</td>\n",
       "      <td>0.012415</td>\n",
       "      <td>0.005765</td>\n",
       "      <td>0.998020</td>\n",
       "      <td>00:08</td>\n",
       "    </tr>\n",
       "  </tbody>\n",
       "</table>"
      ],
      "text/plain": [
       "<IPython.core.display.HTML object>"
      ]
     },
     "metadata": {},
     "output_type": "display_data"
    },
    {
     "name": "stdout",
     "output_type": "stream",
     "text": [
      "Evaluation size => test:(4999, 512), train(15046, 512)\n",
      "Calculated distances in shape (4999, 15046)\n",
      "Testing Conventional for case #7\n"
     ]
    },
    {
     "data": {
      "text/html": [
       "Total time: 00:07 <p><table border=\"1\" class=\"dataframe\">\n",
       "  <thead>\n",
       "    <tr style=\"text-align: left;\">\n",
       "      <th>epoch</th>\n",
       "      <th>train_loss</th>\n",
       "      <th>valid_loss</th>\n",
       "      <th>accuracy</th>\n",
       "      <th>time</th>\n",
       "    </tr>\n",
       "  </thead>\n",
       "  <tbody>\n",
       "    <tr>\n",
       "      <td>0</td>\n",
       "      <td>0.519536</td>\n",
       "      <td>0.406264</td>\n",
       "      <td>0.856996</td>\n",
       "      <td>00:07</td>\n",
       "    </tr>\n",
       "  </tbody>\n",
       "</table>"
      ],
      "text/plain": [
       "<IPython.core.display.HTML object>"
      ]
     },
     "metadata": {},
     "output_type": "display_data"
    },
    {
     "data": {
      "text/html": [
       "Total time: 00:25 <p><table border=\"1\" class=\"dataframe\">\n",
       "  <thead>\n",
       "    <tr style=\"text-align: left;\">\n",
       "      <th>epoch</th>\n",
       "      <th>train_loss</th>\n",
       "      <th>valid_loss</th>\n",
       "      <th>accuracy</th>\n",
       "      <th>time</th>\n",
       "    </tr>\n",
       "  </thead>\n",
       "  <tbody>\n",
       "    <tr>\n",
       "      <td>0</td>\n",
       "      <td>0.073825</td>\n",
       "      <td>0.019803</td>\n",
       "      <td>0.994460</td>\n",
       "      <td>00:08</td>\n",
       "    </tr>\n",
       "    <tr>\n",
       "      <td>1</td>\n",
       "      <td>0.030959</td>\n",
       "      <td>0.012146</td>\n",
       "      <td>0.996922</td>\n",
       "      <td>00:08</td>\n",
       "    </tr>\n",
       "    <tr>\n",
       "      <td>2</td>\n",
       "      <td>0.011852</td>\n",
       "      <td>0.007159</td>\n",
       "      <td>0.998153</td>\n",
       "      <td>00:08</td>\n",
       "    </tr>\n",
       "  </tbody>\n",
       "</table>"
      ],
      "text/plain": [
       "<IPython.core.display.HTML object>"
      ]
     },
     "metadata": {},
     "output_type": "display_data"
    },
    {
     "name": "stdout",
     "output_type": "stream",
     "text": [
      "Evaluation size => test:(4999, 512), train(14634, 512)\n",
      "Calculated distances in shape (4999, 14634)\n",
      "Testing Conventional for case #8\n"
     ]
    },
    {
     "data": {
      "text/html": [
       "Total time: 00:07 <p><table border=\"1\" class=\"dataframe\">\n",
       "  <thead>\n",
       "    <tr style=\"text-align: left;\">\n",
       "      <th>epoch</th>\n",
       "      <th>train_loss</th>\n",
       "      <th>valid_loss</th>\n",
       "      <th>accuracy</th>\n",
       "      <th>time</th>\n",
       "    </tr>\n",
       "  </thead>\n",
       "  <tbody>\n",
       "    <tr>\n",
       "      <td>0</td>\n",
       "      <td>0.424514</td>\n",
       "      <td>0.342512</td>\n",
       "      <td>0.882341</td>\n",
       "      <td>00:07</td>\n",
       "    </tr>\n",
       "  </tbody>\n",
       "</table>"
      ],
      "text/plain": [
       "<IPython.core.display.HTML object>"
      ]
     },
     "metadata": {},
     "output_type": "display_data"
    },
    {
     "data": {
      "text/html": [
       "Total time: 00:25 <p><table border=\"1\" class=\"dataframe\">\n",
       "  <thead>\n",
       "    <tr style=\"text-align: left;\">\n",
       "      <th>epoch</th>\n",
       "      <th>train_loss</th>\n",
       "      <th>valid_loss</th>\n",
       "      <th>accuracy</th>\n",
       "      <th>time</th>\n",
       "    </tr>\n",
       "  </thead>\n",
       "  <tbody>\n",
       "    <tr>\n",
       "      <td>0</td>\n",
       "      <td>0.079336</td>\n",
       "      <td>0.022554</td>\n",
       "      <td>0.993019</td>\n",
       "      <td>00:08</td>\n",
       "    </tr>\n",
       "    <tr>\n",
       "      <td>1</td>\n",
       "      <td>0.036531</td>\n",
       "      <td>0.014512</td>\n",
       "      <td>0.995277</td>\n",
       "      <td>00:08</td>\n",
       "    </tr>\n",
       "    <tr>\n",
       "      <td>2</td>\n",
       "      <td>0.017480</td>\n",
       "      <td>0.006227</td>\n",
       "      <td>0.998152</td>\n",
       "      <td>00:08</td>\n",
       "    </tr>\n",
       "  </tbody>\n",
       "</table>"
      ],
      "text/plain": [
       "<IPython.core.display.HTML object>"
      ]
     },
     "metadata": {},
     "output_type": "display_data"
    },
    {
     "name": "stdout",
     "output_type": "stream",
     "text": [
      "Evaluation size => test:(4999, 512), train(14787, 512)\n",
      "Calculated distances in shape (4999, 14787)\n",
      "Testing Conventional for case #9\n"
     ]
    },
    {
     "data": {
      "text/html": [
       "Total time: 00:07 <p><table border=\"1\" class=\"dataframe\">\n",
       "  <thead>\n",
       "    <tr style=\"text-align: left;\">\n",
       "      <th>epoch</th>\n",
       "      <th>train_loss</th>\n",
       "      <th>valid_loss</th>\n",
       "      <th>accuracy</th>\n",
       "      <th>time</th>\n",
       "    </tr>\n",
       "  </thead>\n",
       "  <tbody>\n",
       "    <tr>\n",
       "      <td>0</td>\n",
       "      <td>0.442109</td>\n",
       "      <td>0.349107</td>\n",
       "      <td>0.880017</td>\n",
       "      <td>00:07</td>\n",
       "    </tr>\n",
       "  </tbody>\n",
       "</table>"
      ],
      "text/plain": [
       "<IPython.core.display.HTML object>"
      ]
     },
     "metadata": {},
     "output_type": "display_data"
    },
    {
     "data": {
      "text/html": [
       "Total time: 00:25 <p><table border=\"1\" class=\"dataframe\">\n",
       "  <thead>\n",
       "    <tr style=\"text-align: left;\">\n",
       "      <th>epoch</th>\n",
       "      <th>train_loss</th>\n",
       "      <th>valid_loss</th>\n",
       "      <th>accuracy</th>\n",
       "      <th>time</th>\n",
       "    </tr>\n",
       "  </thead>\n",
       "  <tbody>\n",
       "    <tr>\n",
       "      <td>0</td>\n",
       "      <td>0.079397</td>\n",
       "      <td>0.039385</td>\n",
       "      <td>0.986347</td>\n",
       "      <td>00:08</td>\n",
       "    </tr>\n",
       "    <tr>\n",
       "      <td>1</td>\n",
       "      <td>0.029875</td>\n",
       "      <td>0.019963</td>\n",
       "      <td>0.994828</td>\n",
       "      <td>00:08</td>\n",
       "    </tr>\n",
       "    <tr>\n",
       "      <td>2</td>\n",
       "      <td>0.015588</td>\n",
       "      <td>0.006721</td>\n",
       "      <td>0.998138</td>\n",
       "      <td>00:08</td>\n",
       "    </tr>\n",
       "  </tbody>\n",
       "</table>"
      ],
      "text/plain": [
       "<IPython.core.display.HTML object>"
      ]
     },
     "metadata": {},
     "output_type": "display_data"
    },
    {
     "name": "stdout",
     "output_type": "stream",
     "text": [
      "Evaluation size => test:(4999, 512), train(14647, 512)\n",
      "Calculated distances in shape (4999, 14647)\n"
     ]
    }
   ],
   "source": [
    "# Test model\n",
    "toytest.do_tests('Conventional', learner_conventional)"
   ]
  },
  {
   "cell_type": "code",
   "execution_count": 5,
   "metadata": {},
   "outputs": [
    {
     "data": {
      "text/html": [
       "<div>\n",
       "<style scoped>\n",
       "    .dataframe tbody tr th:only-of-type {\n",
       "        vertical-align: middle;\n",
       "    }\n",
       "\n",
       "    .dataframe tbody tr th {\n",
       "        vertical-align: top;\n",
       "    }\n",
       "\n",
       "    .dataframe thead th {\n",
       "        text-align: right;\n",
       "    }\n",
       "</style>\n",
       "<table border=\"1\" class=\"dataframe\">\n",
       "  <thead>\n",
       "    <tr style=\"text-align: right;\">\n",
       "      <th></th>\n",
       "      <th>x</th>\n",
       "      <th>y</th>\n",
       "      <th>distance</th>\n",
       "      <th>train_idx</th>\n",
       "      <th>train_x</th>\n",
       "      <th>train_y</th>\n",
       "    </tr>\n",
       "  </thead>\n",
       "  <tbody>\n",
       "    <tr>\n",
       "      <th>800</th>\n",
       "      <td>2/img2_001546.png</td>\n",
       "      <td>2</td>\n",
       "      <td>0.234307</td>\n",
       "      <td>14056</td>\n",
       "      <td>8/img8_013680.png</td>\n",
       "      <td>8</td>\n",
       "    </tr>\n",
       "    <tr>\n",
       "      <th>2110</th>\n",
       "      <td>4/img4_004519.png</td>\n",
       "      <td>4</td>\n",
       "      <td>0.344690</td>\n",
       "      <td>3111</td>\n",
       "      <td>9/img9_020445.png</td>\n",
       "      <td>9</td>\n",
       "    </tr>\n",
       "    <tr>\n",
       "      <th>2224</th>\n",
       "      <td>4/img4_003172.png</td>\n",
       "      <td>4</td>\n",
       "      <td>0.358347</td>\n",
       "      <td>4202</td>\n",
       "      <td>9/img9_036024.png</td>\n",
       "      <td>9</td>\n",
       "    </tr>\n",
       "    <tr>\n",
       "      <th>2284</th>\n",
       "      <td>4/img4_000139.png</td>\n",
       "      <td>4</td>\n",
       "      <td>0.387698</td>\n",
       "      <td>4007</td>\n",
       "      <td>9/img9_046701.png</td>\n",
       "      <td>9</td>\n",
       "    </tr>\n",
       "    <tr>\n",
       "      <th>2204</th>\n",
       "      <td>4/img4_004860.png</td>\n",
       "      <td>4</td>\n",
       "      <td>0.395675</td>\n",
       "      <td>5581</td>\n",
       "      <td>9/img9_031299.png</td>\n",
       "      <td>9</td>\n",
       "    </tr>\n",
       "  </tbody>\n",
       "</table>\n",
       "</div>"
      ],
      "text/plain": [
       "                      x  y  distance  train_idx            train_x train_y\n",
       "800   2/img2_001546.png  2  0.234307      14056  8/img8_013680.png       8\n",
       "2110  4/img4_004519.png  4  0.344690       3111  9/img9_020445.png       9\n",
       "2224  4/img4_003172.png  4  0.358347       4202  9/img9_036024.png       9\n",
       "2284  4/img4_000139.png  4  0.387698       4007  9/img9_046701.png       9\n",
       "2204  4/img4_004860.png  4  0.395675       5581  9/img9_031299.png       9"
      ]
     },
     "execution_count": 5,
     "metadata": {},
     "output_type": "execute_result"
    }
   ],
   "source": [
    "distance_df, (auc, fpr, tpr), worst_test_info = toytest.results['Conventional'][0]\n",
    "worst_test_info"
   ]
  },
  {
   "cell_type": "code",
   "execution_count": 6,
   "metadata": {},
   "outputs": [
    {
     "data": {
      "image/png": "[encoded data removed]",
      "text/plain": [
       "<Figure size 1296x504 with 10 Axes>"
      ]
     },
     "metadata": {},
     "output_type": "display_data"
    }
   ],
   "source": [
    "toytest.show_worst_test_images('Conventional', worst_test_info, 0)"
   ]
  },
  {
   "cell_type": "markdown",
   "metadata": {},
   "source": [
    "## 2. L2-constrained Softmax Loss\n",
    "\n",
    "- R. Ranjan, C. D. Castillo, and R. Chellappa. L2-constrained softmax loss for discriminative face verification. arXiv preprint arXiv:1703.09507, 2017. https://arxiv.org/pdf/1703.09507.pdf"
   ]
  },
  {
   "cell_type": "code",
   "execution_count": 7,
   "metadata": {},
   "outputs": [
    {
     "data": {
      "text/html": [
       "Total time: 00:14 <p><table border=\"1\" class=\"dataframe\">\n",
       "  <thead>\n",
       "    <tr style=\"text-align: left;\">\n",
       "      <th>epoch</th>\n",
       "      <th>train_loss</th>\n",
       "      <th>valid_loss</th>\n",
       "      <th>accuracy</th>\n",
       "      <th>time</th>\n",
       "    </tr>\n",
       "  </thead>\n",
       "  <tbody>\n",
       "    <tr>\n",
       "      <td>0</td>\n",
       "      <td>1.068220</td>\n",
       "      <td>1.003692</td>\n",
       "      <td>0.880800</td>\n",
       "      <td>00:14</td>\n",
       "    </tr>\n",
       "  </tbody>\n",
       "</table>"
      ],
      "text/plain": [
       "<IPython.core.display.HTML object>"
      ]
     },
     "metadata": {},
     "output_type": "display_data"
    },
    {
     "data": {
      "text/html": [
       "Total time: 01:26 <p><table border=\"1\" class=\"dataframe\">\n",
       "  <thead>\n",
       "    <tr style=\"text-align: left;\">\n",
       "      <th>epoch</th>\n",
       "      <th>train_loss</th>\n",
       "      <th>valid_loss</th>\n",
       "      <th>accuracy</th>\n",
       "      <th>time</th>\n",
       "    </tr>\n",
       "  </thead>\n",
       "  <tbody>\n",
       "    <tr>\n",
       "      <td>0</td>\n",
       "      <td>0.817395</td>\n",
       "      <td>0.762780</td>\n",
       "      <td>0.987100</td>\n",
       "      <td>00:16</td>\n",
       "    </tr>\n",
       "    <tr>\n",
       "      <td>1</td>\n",
       "      <td>0.806318</td>\n",
       "      <td>0.761746</td>\n",
       "      <td>0.987000</td>\n",
       "      <td>00:17</td>\n",
       "    </tr>\n",
       "    <tr>\n",
       "      <td>2</td>\n",
       "      <td>0.787669</td>\n",
       "      <td>0.749139</td>\n",
       "      <td>0.993400</td>\n",
       "      <td>00:17</td>\n",
       "    </tr>\n",
       "    <tr>\n",
       "      <td>3</td>\n",
       "      <td>0.780962</td>\n",
       "      <td>0.747024</td>\n",
       "      <td>0.994700</td>\n",
       "      <td>00:16</td>\n",
       "    </tr>\n",
       "    <tr>\n",
       "      <td>4</td>\n",
       "      <td>0.773764</td>\n",
       "      <td>0.746176</td>\n",
       "      <td>0.995300</td>\n",
       "      <td>00:17</td>\n",
       "    </tr>\n",
       "  </tbody>\n",
       "</table>"
      ],
      "text/plain": [
       "<IPython.core.display.HTML object>"
      ]
     },
     "metadata": {},
     "output_type": "display_data"
    },
    {
     "data": {
      "image/png": "[encoded data removed]",
      "text/plain": [
       "<Figure size 432x288 with 2 Axes>"
      ]
     },
     "metadata": {},
     "output_type": "display_data"
    }
   ],
   "source": [
    "# Define model learner\n",
    "class L2ConstraintedNet(nn.Module):\n",
    "    def __init__(self, org_model, alpha=16, num_classes=1000):\n",
    "        super().__init__()\n",
    "        self.org_model = org_model\n",
    "        self.alpha = alpha\n",
    "\n",
    "    def forward(self, x):\n",
    "        x = self.org_model(x)\n",
    "        \n",
    "        l2 = torch.sqrt((x**2).sum())\n",
    "        x = self.alpha * (x / l2)\n",
    "        return x\n",
    "\n",
    "def learner_L2ConstraintedNet(train_data):\n",
    "    learn = cnn_learner(train_data, models.resnet18, metrics=accuracy)\n",
    "    learn.model = L2ConstraintedNet(learn.model)\n",
    "    learn.fit_one_cycle(1)\n",
    "    learn.unfreeze()\n",
    "    learn.fit_one_cycle(5)\n",
    "    return learn\n",
    "\n",
    "if VISUALIZE_EMBEDDINGS:\n",
    "    visualize_embeddings(learner_L2ConstraintedNet(all_data), 'L2 constrainted ResNet18 (t-SNE)')"
   ]
  },
  {
   "cell_type": "code",
   "execution_count": 8,
   "metadata": {
    "scrolled": true
   },
   "outputs": [
    {
     "name": "stdout",
     "output_type": "stream",
     "text": [
      "Testing L2-constrainted for case #0\n"
     ]
    },
    {
     "data": {
      "text/html": [
       "Total time: 00:08 <p><table border=\"1\" class=\"dataframe\">\n",
       "  <thead>\n",
       "    <tr style=\"text-align: left;\">\n",
       "      <th>epoch</th>\n",
       "      <th>train_loss</th>\n",
       "      <th>valid_loss</th>\n",
       "      <th>accuracy</th>\n",
       "      <th>time</th>\n",
       "    </tr>\n",
       "  </thead>\n",
       "  <tbody>\n",
       "    <tr>\n",
       "      <td>0</td>\n",
       "      <td>0.710286</td>\n",
       "      <td>0.667354</td>\n",
       "      <td>0.847562</td>\n",
       "      <td>00:08</td>\n",
       "    </tr>\n",
       "  </tbody>\n",
       "</table>"
      ],
      "text/plain": [
       "<IPython.core.display.HTML object>"
      ]
     },
     "metadata": {},
     "output_type": "display_data"
    },
    {
     "data": {
      "text/html": [
       "Total time: 00:44 <p><table border=\"1\" class=\"dataframe\">\n",
       "  <thead>\n",
       "    <tr style=\"text-align: left;\">\n",
       "      <th>epoch</th>\n",
       "      <th>train_loss</th>\n",
       "      <th>valid_loss</th>\n",
       "      <th>accuracy</th>\n",
       "      <th>time</th>\n",
       "    </tr>\n",
       "  </thead>\n",
       "  <tbody>\n",
       "    <tr>\n",
       "      <td>0</td>\n",
       "      <td>0.418500</td>\n",
       "      <td>0.372789</td>\n",
       "      <td>0.992388</td>\n",
       "      <td>00:09</td>\n",
       "    </tr>\n",
       "    <tr>\n",
       "      <td>1</td>\n",
       "      <td>0.399284</td>\n",
       "      <td>0.375467</td>\n",
       "      <td>0.989303</td>\n",
       "      <td>00:08</td>\n",
       "    </tr>\n",
       "    <tr>\n",
       "      <td>2</td>\n",
       "      <td>0.387889</td>\n",
       "      <td>0.364320</td>\n",
       "      <td>0.995474</td>\n",
       "      <td>00:08</td>\n",
       "    </tr>\n",
       "    <tr>\n",
       "      <td>3</td>\n",
       "      <td>0.376063</td>\n",
       "      <td>0.360443</td>\n",
       "      <td>0.997737</td>\n",
       "      <td>00:08</td>\n",
       "    </tr>\n",
       "    <tr>\n",
       "      <td>4</td>\n",
       "      <td>0.376065</td>\n",
       "      <td>0.361519</td>\n",
       "      <td>0.997326</td>\n",
       "      <td>00:09</td>\n",
       "    </tr>\n",
       "  </tbody>\n",
       "</table>"
      ],
      "text/plain": [
       "<IPython.core.display.HTML object>"
      ]
     },
     "metadata": {},
     "output_type": "display_data"
    },
    {
     "name": "stdout",
     "output_type": "stream",
     "text": [
      "Evaluation size => test:(4999, 512), train(14700, 512)\n",
      "Calculated distances in shape (4999, 14700)\n",
      "Testing L2-constrainted for case #1\n"
     ]
    },
    {
     "data": {
      "text/html": [
       "Total time: 00:08 <p><table border=\"1\" class=\"dataframe\">\n",
       "  <thead>\n",
       "    <tr style=\"text-align: left;\">\n",
       "      <th>epoch</th>\n",
       "      <th>train_loss</th>\n",
       "      <th>valid_loss</th>\n",
       "      <th>accuracy</th>\n",
       "      <th>time</th>\n",
       "    </tr>\n",
       "  </thead>\n",
       "  <tbody>\n",
       "    <tr>\n",
       "      <td>0</td>\n",
       "      <td>0.670559</td>\n",
       "      <td>0.637028</td>\n",
       "      <td>0.864821</td>\n",
       "      <td>00:08</td>\n",
       "    </tr>\n",
       "  </tbody>\n",
       "</table>"
      ],
      "text/plain": [
       "<IPython.core.display.HTML object>"
      ]
     },
     "metadata": {},
     "output_type": "display_data"
    },
    {
     "data": {
      "text/html": [
       "Total time: 00:48 <p><table border=\"1\" class=\"dataframe\">\n",
       "  <thead>\n",
       "    <tr style=\"text-align: left;\">\n",
       "      <th>epoch</th>\n",
       "      <th>train_loss</th>\n",
       "      <th>valid_loss</th>\n",
       "      <th>accuracy</th>\n",
       "      <th>time</th>\n",
       "    </tr>\n",
       "  </thead>\n",
       "  <tbody>\n",
       "    <tr>\n",
       "      <td>0</td>\n",
       "      <td>0.411591</td>\n",
       "      <td>0.399451</td>\n",
       "      <td>0.972520</td>\n",
       "      <td>00:09</td>\n",
       "    </tr>\n",
       "    <tr>\n",
       "      <td>1</td>\n",
       "      <td>0.404377</td>\n",
       "      <td>0.366176</td>\n",
       "      <td>0.994342</td>\n",
       "      <td>00:10</td>\n",
       "    </tr>\n",
       "    <tr>\n",
       "      <td>2</td>\n",
       "      <td>0.385963</td>\n",
       "      <td>0.365466</td>\n",
       "      <td>0.993736</td>\n",
       "      <td>00:09</td>\n",
       "    </tr>\n",
       "    <tr>\n",
       "      <td>3</td>\n",
       "      <td>0.378335</td>\n",
       "      <td>0.360976</td>\n",
       "      <td>0.996969</td>\n",
       "      <td>00:09</td>\n",
       "    </tr>\n",
       "    <tr>\n",
       "      <td>4</td>\n",
       "      <td>0.373596</td>\n",
       "      <td>0.358983</td>\n",
       "      <td>0.997575</td>\n",
       "      <td>00:09</td>\n",
       "    </tr>\n",
       "  </tbody>\n",
       "</table>"
      ],
      "text/plain": [
       "<IPython.core.display.HTML object>"
      ]
     },
     "metadata": {},
     "output_type": "display_data"
    },
    {
     "name": "stdout",
     "output_type": "stream",
     "text": [
      "Evaluation size => test:(4999, 512), train(14951, 512)\n",
      "Calculated distances in shape (4999, 14951)\n",
      "Testing L2-constrainted for case #2\n"
     ]
    },
    {
     "data": {
      "text/html": [
       "Total time: 00:07 <p><table border=\"1\" class=\"dataframe\">\n",
       "  <thead>\n",
       "    <tr style=\"text-align: left;\">\n",
       "      <th>epoch</th>\n",
       "      <th>train_loss</th>\n",
       "      <th>valid_loss</th>\n",
       "      <th>accuracy</th>\n",
       "      <th>time</th>\n",
       "    </tr>\n",
       "  </thead>\n",
       "  <tbody>\n",
       "    <tr>\n",
       "      <td>0</td>\n",
       "      <td>0.627572</td>\n",
       "      <td>0.596645</td>\n",
       "      <td>0.886851</td>\n",
       "      <td>00:07</td>\n",
       "    </tr>\n",
       "  </tbody>\n",
       "</table>"
      ],
      "text/plain": [
       "<IPython.core.display.HTML object>"
      ]
     },
     "metadata": {},
     "output_type": "display_data"
    },
    {
     "data": {
      "text/html": [
       "Total time: 00:44 <p><table border=\"1\" class=\"dataframe\">\n",
       "  <thead>\n",
       "    <tr style=\"text-align: left;\">\n",
       "      <th>epoch</th>\n",
       "      <th>train_loss</th>\n",
       "      <th>valid_loss</th>\n",
       "      <th>accuracy</th>\n",
       "      <th>time</th>\n",
       "    </tr>\n",
       "  </thead>\n",
       "  <tbody>\n",
       "    <tr>\n",
       "      <td>0</td>\n",
       "      <td>0.410422</td>\n",
       "      <td>0.373386</td>\n",
       "      <td>0.992977</td>\n",
       "      <td>00:08</td>\n",
       "    </tr>\n",
       "    <tr>\n",
       "      <td>1</td>\n",
       "      <td>0.396574</td>\n",
       "      <td>0.368555</td>\n",
       "      <td>0.994147</td>\n",
       "      <td>00:08</td>\n",
       "    </tr>\n",
       "    <tr>\n",
       "      <td>2</td>\n",
       "      <td>0.385383</td>\n",
       "      <td>0.363747</td>\n",
       "      <td>0.996098</td>\n",
       "      <td>00:08</td>\n",
       "    </tr>\n",
       "    <tr>\n",
       "      <td>3</td>\n",
       "      <td>0.378634</td>\n",
       "      <td>0.360084</td>\n",
       "      <td>0.997659</td>\n",
       "      <td>00:08</td>\n",
       "    </tr>\n",
       "    <tr>\n",
       "      <td>4</td>\n",
       "      <td>0.375758</td>\n",
       "      <td>0.359128</td>\n",
       "      <td>0.997659</td>\n",
       "      <td>00:08</td>\n",
       "    </tr>\n",
       "  </tbody>\n",
       "</table>"
      ],
      "text/plain": [
       "<IPython.core.display.HTML object>"
      ]
     },
     "metadata": {},
     "output_type": "display_data"
    },
    {
     "name": "stdout",
     "output_type": "stream",
     "text": [
      "Evaluation size => test:(4999, 512), train(15363, 512)\n",
      "Calculated distances in shape (4999, 15363)\n",
      "Testing L2-constrainted for case #3\n"
     ]
    },
    {
     "data": {
      "text/html": [
       "Total time: 00:07 <p><table border=\"1\" class=\"dataframe\">\n",
       "  <thead>\n",
       "    <tr style=\"text-align: left;\">\n",
       "      <th>epoch</th>\n",
       "      <th>train_loss</th>\n",
       "      <th>valid_loss</th>\n",
       "      <th>accuracy</th>\n",
       "      <th>time</th>\n",
       "    </tr>\n",
       "  </thead>\n",
       "  <tbody>\n",
       "    <tr>\n",
       "      <td>0</td>\n",
       "      <td>0.634422</td>\n",
       "      <td>0.579003</td>\n",
       "      <td>0.902729</td>\n",
       "      <td>00:07</td>\n",
       "    </tr>\n",
       "  </tbody>\n",
       "</table>"
      ],
      "text/plain": [
       "<IPython.core.display.HTML object>"
      ]
     },
     "metadata": {},
     "output_type": "display_data"
    },
    {
     "data": {
      "text/html": [
       "Total time: 00:45 <p><table border=\"1\" class=\"dataframe\">\n",
       "  <thead>\n",
       "    <tr style=\"text-align: left;\">\n",
       "      <th>epoch</th>\n",
       "      <th>train_loss</th>\n",
       "      <th>valid_loss</th>\n",
       "      <th>accuracy</th>\n",
       "      <th>time</th>\n",
       "    </tr>\n",
       "  </thead>\n",
       "  <tbody>\n",
       "    <tr>\n",
       "      <td>0</td>\n",
       "      <td>0.414501</td>\n",
       "      <td>0.372666</td>\n",
       "      <td>0.991813</td>\n",
       "      <td>00:08</td>\n",
       "    </tr>\n",
       "    <tr>\n",
       "      <td>1</td>\n",
       "      <td>0.393059</td>\n",
       "      <td>0.366528</td>\n",
       "      <td>0.994542</td>\n",
       "      <td>00:08</td>\n",
       "    </tr>\n",
       "    <tr>\n",
       "      <td>2</td>\n",
       "      <td>0.385122</td>\n",
       "      <td>0.368061</td>\n",
       "      <td>0.992788</td>\n",
       "      <td>00:08</td>\n",
       "    </tr>\n",
       "    <tr>\n",
       "      <td>3</td>\n",
       "      <td>0.377987</td>\n",
       "      <td>0.361689</td>\n",
       "      <td>0.996491</td>\n",
       "      <td>00:09</td>\n",
       "    </tr>\n",
       "    <tr>\n",
       "      <td>4</td>\n",
       "      <td>0.374176</td>\n",
       "      <td>0.358927</td>\n",
       "      <td>0.998051</td>\n",
       "      <td>00:09</td>\n",
       "    </tr>\n",
       "  </tbody>\n",
       "</table>"
      ],
      "text/plain": [
       "<IPython.core.display.HTML object>"
      ]
     },
     "metadata": {},
     "output_type": "display_data"
    },
    {
     "name": "stdout",
     "output_type": "stream",
     "text": [
      "Evaluation size => test:(4999, 512), train(15210, 512)\n",
      "Calculated distances in shape (4999, 15210)\n",
      "Testing L2-constrainted for case #4\n"
     ]
    },
    {
     "data": {
      "text/html": [
       "Total time: 00:08 <p><table border=\"1\" class=\"dataframe\">\n",
       "  <thead>\n",
       "    <tr style=\"text-align: left;\">\n",
       "      <th>epoch</th>\n",
       "      <th>train_loss</th>\n",
       "      <th>valid_loss</th>\n",
       "      <th>accuracy</th>\n",
       "      <th>time</th>\n",
       "    </tr>\n",
       "  </thead>\n",
       "  <tbody>\n",
       "    <tr>\n",
       "      <td>0</td>\n",
       "      <td>0.619389</td>\n",
       "      <td>0.562139</td>\n",
       "      <td>0.915602</td>\n",
       "      <td>00:08</td>\n",
       "    </tr>\n",
       "  </tbody>\n",
       "</table>"
      ],
      "text/plain": [
       "<IPython.core.display.HTML object>"
      ]
     },
     "metadata": {},
     "output_type": "display_data"
    },
    {
     "data": {
      "text/html": [
       "Total time: 00:44 <p><table border=\"1\" class=\"dataframe\">\n",
       "  <thead>\n",
       "    <tr style=\"text-align: left;\">\n",
       "      <th>epoch</th>\n",
       "      <th>train_loss</th>\n",
       "      <th>valid_loss</th>\n",
       "      <th>accuracy</th>\n",
       "      <th>time</th>\n",
       "    </tr>\n",
       "  </thead>\n",
       "  <tbody>\n",
       "    <tr>\n",
       "      <td>0</td>\n",
       "      <td>0.405668</td>\n",
       "      <td>0.370416</td>\n",
       "      <td>0.993806</td>\n",
       "      <td>00:08</td>\n",
       "    </tr>\n",
       "    <tr>\n",
       "      <td>1</td>\n",
       "      <td>0.389539</td>\n",
       "      <td>0.364176</td>\n",
       "      <td>0.995161</td>\n",
       "      <td>00:08</td>\n",
       "    </tr>\n",
       "    <tr>\n",
       "      <td>2</td>\n",
       "      <td>0.382798</td>\n",
       "      <td>0.359947</td>\n",
       "      <td>0.996903</td>\n",
       "      <td>00:08</td>\n",
       "    </tr>\n",
       "    <tr>\n",
       "      <td>3</td>\n",
       "      <td>0.376310</td>\n",
       "      <td>0.357327</td>\n",
       "      <td>0.999032</td>\n",
       "      <td>00:08</td>\n",
       "    </tr>\n",
       "    <tr>\n",
       "      <td>4</td>\n",
       "      <td>0.372945</td>\n",
       "      <td>0.357857</td>\n",
       "      <td>0.998258</td>\n",
       "      <td>00:08</td>\n",
       "    </tr>\n",
       "  </tbody>\n",
       "</table>"
      ],
      "text/plain": [
       "<IPython.core.display.HTML object>"
      ]
     },
     "metadata": {},
     "output_type": "display_data"
    },
    {
     "name": "stdout",
     "output_type": "stream",
     "text": [
      "Evaluation size => test:(4999, 512), train(15350, 512)\n",
      "Calculated distances in shape (4999, 15350)\n",
      "Testing L2-constrainted for case #5\n"
     ]
    },
    {
     "data": {
      "text/html": [
       "Total time: 00:07 <p><table border=\"1\" class=\"dataframe\">\n",
       "  <thead>\n",
       "    <tr style=\"text-align: left;\">\n",
       "      <th>epoch</th>\n",
       "      <th>train_loss</th>\n",
       "      <th>valid_loss</th>\n",
       "      <th>accuracy</th>\n",
       "      <th>time</th>\n",
       "    </tr>\n",
       "  </thead>\n",
       "  <tbody>\n",
       "    <tr>\n",
       "      <td>0</td>\n",
       "      <td>0.575776</td>\n",
       "      <td>0.528433</td>\n",
       "      <td>0.932672</td>\n",
       "      <td>00:07</td>\n",
       "    </tr>\n",
       "  </tbody>\n",
       "</table>"
      ],
      "text/plain": [
       "<IPython.core.display.HTML object>"
      ]
     },
     "metadata": {},
     "output_type": "display_data"
    },
    {
     "data": {
      "text/html": [
       "Total time: 00:45 <p><table border=\"1\" class=\"dataframe\">\n",
       "  <thead>\n",
       "    <tr style=\"text-align: left;\">\n",
       "      <th>epoch</th>\n",
       "      <th>train_loss</th>\n",
       "      <th>valid_loss</th>\n",
       "      <th>accuracy</th>\n",
       "      <th>time</th>\n",
       "    </tr>\n",
       "  </thead>\n",
       "  <tbody>\n",
       "    <tr>\n",
       "      <td>0</td>\n",
       "      <td>0.400451</td>\n",
       "      <td>0.366367</td>\n",
       "      <td>0.995719</td>\n",
       "      <td>00:08</td>\n",
       "    </tr>\n",
       "    <tr>\n",
       "      <td>1</td>\n",
       "      <td>0.392623</td>\n",
       "      <td>0.359224</td>\n",
       "      <td>0.998054</td>\n",
       "      <td>00:08</td>\n",
       "    </tr>\n",
       "    <tr>\n",
       "      <td>2</td>\n",
       "      <td>0.377922</td>\n",
       "      <td>0.358313</td>\n",
       "      <td>0.998249</td>\n",
       "      <td>00:09</td>\n",
       "    </tr>\n",
       "    <tr>\n",
       "      <td>3</td>\n",
       "      <td>0.374488</td>\n",
       "      <td>0.356455</td>\n",
       "      <td>0.999222</td>\n",
       "      <td>00:09</td>\n",
       "    </tr>\n",
       "    <tr>\n",
       "      <td>4</td>\n",
       "      <td>0.374458</td>\n",
       "      <td>0.356005</td>\n",
       "      <td>0.999805</td>\n",
       "      <td>00:09</td>\n",
       "    </tr>\n",
       "  </tbody>\n",
       "</table>"
      ],
      "text/plain": [
       "<IPython.core.display.HTML object>"
      ]
     },
     "metadata": {},
     "output_type": "display_data"
    },
    {
     "name": "stdout",
     "output_type": "stream",
     "text": [
      "Evaluation size => test:(4999, 512), train(15297, 512)\n",
      "Calculated distances in shape (4999, 15297)\n",
      "Testing L2-constrainted for case #6\n"
     ]
    },
    {
     "data": {
      "text/html": [
       "Total time: 00:07 <p><table border=\"1\" class=\"dataframe\">\n",
       "  <thead>\n",
       "    <tr style=\"text-align: left;\">\n",
       "      <th>epoch</th>\n",
       "      <th>train_loss</th>\n",
       "      <th>valid_loss</th>\n",
       "      <th>accuracy</th>\n",
       "      <th>time</th>\n",
       "    </tr>\n",
       "  </thead>\n",
       "  <tbody>\n",
       "    <tr>\n",
       "      <td>0</td>\n",
       "      <td>0.635159</td>\n",
       "      <td>0.580606</td>\n",
       "      <td>0.904177</td>\n",
       "      <td>00:07</td>\n",
       "    </tr>\n",
       "  </tbody>\n",
       "</table>"
      ],
      "text/plain": [
       "<IPython.core.display.HTML object>"
      ]
     },
     "metadata": {},
     "output_type": "display_data"
    },
    {
     "data": {
      "text/html": [
       "Total time: 00:43 <p><table border=\"1\" class=\"dataframe\">\n",
       "  <thead>\n",
       "    <tr style=\"text-align: left;\">\n",
       "      <th>epoch</th>\n",
       "      <th>train_loss</th>\n",
       "      <th>valid_loss</th>\n",
       "      <th>accuracy</th>\n",
       "      <th>time</th>\n",
       "    </tr>\n",
       "  </thead>\n",
       "  <tbody>\n",
       "    <tr>\n",
       "      <td>0</td>\n",
       "      <td>0.404769</td>\n",
       "      <td>0.369449</td>\n",
       "      <td>0.993863</td>\n",
       "      <td>00:08</td>\n",
       "    </tr>\n",
       "    <tr>\n",
       "      <td>1</td>\n",
       "      <td>0.390824</td>\n",
       "      <td>0.363448</td>\n",
       "      <td>0.996040</td>\n",
       "      <td>00:08</td>\n",
       "    </tr>\n",
       "    <tr>\n",
       "      <td>2</td>\n",
       "      <td>0.384700</td>\n",
       "      <td>0.362323</td>\n",
       "      <td>0.996832</td>\n",
       "      <td>00:08</td>\n",
       "    </tr>\n",
       "    <tr>\n",
       "      <td>3</td>\n",
       "      <td>0.376264</td>\n",
       "      <td>0.359036</td>\n",
       "      <td>0.998218</td>\n",
       "      <td>00:08</td>\n",
       "    </tr>\n",
       "    <tr>\n",
       "      <td>4</td>\n",
       "      <td>0.375698</td>\n",
       "      <td>0.359223</td>\n",
       "      <td>0.997624</td>\n",
       "      <td>00:08</td>\n",
       "    </tr>\n",
       "  </tbody>\n",
       "</table>"
      ],
      "text/plain": [
       "<IPython.core.display.HTML object>"
      ]
     },
     "metadata": {},
     "output_type": "display_data"
    },
    {
     "name": "stdout",
     "output_type": "stream",
     "text": [
      "Evaluation size => test:(4999, 512), train(15046, 512)\n",
      "Calculated distances in shape (4999, 15046)\n",
      "Testing L2-constrainted for case #7\n"
     ]
    },
    {
     "data": {
      "text/html": [
       "Total time: 00:07 <p><table border=\"1\" class=\"dataframe\">\n",
       "  <thead>\n",
       "    <tr style=\"text-align: left;\">\n",
       "      <th>epoch</th>\n",
       "      <th>train_loss</th>\n",
       "      <th>valid_loss</th>\n",
       "      <th>accuracy</th>\n",
       "      <th>time</th>\n",
       "    </tr>\n",
       "  </thead>\n",
       "  <tbody>\n",
       "    <tr>\n",
       "      <td>0</td>\n",
       "      <td>0.712035</td>\n",
       "      <td>0.666038</td>\n",
       "      <td>0.854739</td>\n",
       "      <td>00:07</td>\n",
       "    </tr>\n",
       "  </tbody>\n",
       "</table>"
      ],
      "text/plain": [
       "<IPython.core.display.HTML object>"
      ]
     },
     "metadata": {},
     "output_type": "display_data"
    },
    {
     "data": {
      "text/html": [
       "Total time: 00:42 <p><table border=\"1\" class=\"dataframe\">\n",
       "  <thead>\n",
       "    <tr style=\"text-align: left;\">\n",
       "      <th>epoch</th>\n",
       "      <th>train_loss</th>\n",
       "      <th>valid_loss</th>\n",
       "      <th>accuracy</th>\n",
       "      <th>time</th>\n",
       "    </tr>\n",
       "  </thead>\n",
       "  <tbody>\n",
       "    <tr>\n",
       "      <td>0</td>\n",
       "      <td>0.408262</td>\n",
       "      <td>0.375414</td>\n",
       "      <td>0.989536</td>\n",
       "      <td>00:08</td>\n",
       "    </tr>\n",
       "    <tr>\n",
       "      <td>1</td>\n",
       "      <td>0.393291</td>\n",
       "      <td>0.365765</td>\n",
       "      <td>0.993229</td>\n",
       "      <td>00:08</td>\n",
       "    </tr>\n",
       "    <tr>\n",
       "      <td>2</td>\n",
       "      <td>0.386714</td>\n",
       "      <td>0.364135</td>\n",
       "      <td>0.996307</td>\n",
       "      <td>00:08</td>\n",
       "    </tr>\n",
       "    <tr>\n",
       "      <td>3</td>\n",
       "      <td>0.377494</td>\n",
       "      <td>0.361247</td>\n",
       "      <td>0.996307</td>\n",
       "      <td>00:08</td>\n",
       "    </tr>\n",
       "    <tr>\n",
       "      <td>4</td>\n",
       "      <td>0.372837</td>\n",
       "      <td>0.359744</td>\n",
       "      <td>0.997538</td>\n",
       "      <td>00:08</td>\n",
       "    </tr>\n",
       "  </tbody>\n",
       "</table>"
      ],
      "text/plain": [
       "<IPython.core.display.HTML object>"
      ]
     },
     "metadata": {},
     "output_type": "display_data"
    },
    {
     "name": "stdout",
     "output_type": "stream",
     "text": [
      "Evaluation size => test:(4999, 512), train(14634, 512)\n",
      "Calculated distances in shape (4999, 14634)\n",
      "Testing L2-constrainted for case #8\n"
     ]
    },
    {
     "data": {
      "text/html": [
       "Total time: 00:07 <p><table border=\"1\" class=\"dataframe\">\n",
       "  <thead>\n",
       "    <tr style=\"text-align: left;\">\n",
       "      <th>epoch</th>\n",
       "      <th>train_loss</th>\n",
       "      <th>valid_loss</th>\n",
       "      <th>accuracy</th>\n",
       "      <th>time</th>\n",
       "    </tr>\n",
       "  </thead>\n",
       "  <tbody>\n",
       "    <tr>\n",
       "      <td>0</td>\n",
       "      <td>0.664641</td>\n",
       "      <td>0.629097</td>\n",
       "      <td>0.876386</td>\n",
       "      <td>00:07</td>\n",
       "    </tr>\n",
       "  </tbody>\n",
       "</table>"
      ],
      "text/plain": [
       "<IPython.core.display.HTML object>"
      ]
     },
     "metadata": {},
     "output_type": "display_data"
    },
    {
     "data": {
      "text/html": [
       "Total time: 00:42 <p><table border=\"1\" class=\"dataframe\">\n",
       "  <thead>\n",
       "    <tr style=\"text-align: left;\">\n",
       "      <th>epoch</th>\n",
       "      <th>train_loss</th>\n",
       "      <th>valid_loss</th>\n",
       "      <th>accuracy</th>\n",
       "      <th>time</th>\n",
       "    </tr>\n",
       "  </thead>\n",
       "  <tbody>\n",
       "    <tr>\n",
       "      <td>0</td>\n",
       "      <td>0.415097</td>\n",
       "      <td>0.384447</td>\n",
       "      <td>0.986858</td>\n",
       "      <td>00:08</td>\n",
       "    </tr>\n",
       "    <tr>\n",
       "      <td>1</td>\n",
       "      <td>0.394638</td>\n",
       "      <td>0.366891</td>\n",
       "      <td>0.994045</td>\n",
       "      <td>00:08</td>\n",
       "    </tr>\n",
       "    <tr>\n",
       "      <td>2</td>\n",
       "      <td>0.384734</td>\n",
       "      <td>0.362029</td>\n",
       "      <td>0.996715</td>\n",
       "      <td>00:08</td>\n",
       "    </tr>\n",
       "    <tr>\n",
       "      <td>3</td>\n",
       "      <td>0.377967</td>\n",
       "      <td>0.361313</td>\n",
       "      <td>0.996715</td>\n",
       "      <td>00:08</td>\n",
       "    </tr>\n",
       "    <tr>\n",
       "      <td>4</td>\n",
       "      <td>0.374961</td>\n",
       "      <td>0.359630</td>\n",
       "      <td>0.997536</td>\n",
       "      <td>00:08</td>\n",
       "    </tr>\n",
       "  </tbody>\n",
       "</table>"
      ],
      "text/plain": [
       "<IPython.core.display.HTML object>"
      ]
     },
     "metadata": {},
     "output_type": "display_data"
    },
    {
     "name": "stdout",
     "output_type": "stream",
     "text": [
      "Evaluation size => test:(4999, 512), train(14787, 512)\n",
      "Calculated distances in shape (4999, 14787)\n",
      "Testing L2-constrainted for case #9\n"
     ]
    },
    {
     "data": {
      "text/html": [
       "Total time: 00:07 <p><table border=\"1\" class=\"dataframe\">\n",
       "  <thead>\n",
       "    <tr style=\"text-align: left;\">\n",
       "      <th>epoch</th>\n",
       "      <th>train_loss</th>\n",
       "      <th>valid_loss</th>\n",
       "      <th>accuracy</th>\n",
       "      <th>time</th>\n",
       "    </tr>\n",
       "  </thead>\n",
       "  <tbody>\n",
       "    <tr>\n",
       "      <td>0</td>\n",
       "      <td>0.660141</td>\n",
       "      <td>0.599445</td>\n",
       "      <td>0.897600</td>\n",
       "      <td>00:07</td>\n",
       "    </tr>\n",
       "  </tbody>\n",
       "</table>"
      ],
      "text/plain": [
       "<IPython.core.display.HTML object>"
      ]
     },
     "metadata": {},
     "output_type": "display_data"
    },
    {
     "data": {
      "text/html": [
       "Total time: 00:42 <p><table border=\"1\" class=\"dataframe\">\n",
       "  <thead>\n",
       "    <tr style=\"text-align: left;\">\n",
       "      <th>epoch</th>\n",
       "      <th>train_loss</th>\n",
       "      <th>valid_loss</th>\n",
       "      <th>accuracy</th>\n",
       "      <th>time</th>\n",
       "    </tr>\n",
       "  </thead>\n",
       "  <tbody>\n",
       "    <tr>\n",
       "      <td>0</td>\n",
       "      <td>0.412285</td>\n",
       "      <td>0.380631</td>\n",
       "      <td>0.987381</td>\n",
       "      <td>00:08</td>\n",
       "    </tr>\n",
       "    <tr>\n",
       "      <td>1</td>\n",
       "      <td>0.394728</td>\n",
       "      <td>0.363184</td>\n",
       "      <td>0.996069</td>\n",
       "      <td>00:08</td>\n",
       "    </tr>\n",
       "    <tr>\n",
       "      <td>2</td>\n",
       "      <td>0.383498</td>\n",
       "      <td>0.363728</td>\n",
       "      <td>0.995449</td>\n",
       "      <td>00:08</td>\n",
       "    </tr>\n",
       "    <tr>\n",
       "      <td>3</td>\n",
       "      <td>0.376010</td>\n",
       "      <td>0.357361</td>\n",
       "      <td>0.998345</td>\n",
       "      <td>00:08</td>\n",
       "    </tr>\n",
       "    <tr>\n",
       "      <td>4</td>\n",
       "      <td>0.374236</td>\n",
       "      <td>0.358049</td>\n",
       "      <td>0.998552</td>\n",
       "      <td>00:08</td>\n",
       "    </tr>\n",
       "  </tbody>\n",
       "</table>"
      ],
      "text/plain": [
       "<IPython.core.display.HTML object>"
      ]
     },
     "metadata": {},
     "output_type": "display_data"
    },
    {
     "name": "stdout",
     "output_type": "stream",
     "text": [
      "Evaluation size => test:(4999, 512), train(14647, 512)\n",
      "Calculated distances in shape (4999, 14647)\n"
     ]
    }
   ],
   "source": [
    "toytest.do_tests('L2-constrainted', learner_L2ConstraintedNet)"
   ]
  },
  {
   "cell_type": "markdown",
   "metadata": {},
   "source": [
    "## 3. ArcFace\n",
    "\n",
    "- J. Deng, J. Guo, and S. Zafeiriou. Arcface: Additive angular margin loss for deep face recognition. arXiv preprint arXiv:1801.07698, 2018. https://arxiv.org/pdf/1801.07698.pdf\n",
    "- Pytorch implementation: https://github.com/ronghuaiyang/arcface-pytorch"
   ]
  },
  {
   "cell_type": "code",
   "execution_count": 9,
   "metadata": {},
   "outputs": [],
   "source": [
    "try:\n",
    "    from metrics import *\n",
    "except:\n",
    "    ! wget https://raw.githubusercontent.com/ronghuaiyang/arcface-pytorch/master/models/metrics.py\n",
    "    from metrics import *"
   ]
  },
  {
   "cell_type": "code",
   "execution_count": 10,
   "metadata": {},
   "outputs": [
    {
     "data": {
      "text/html": [
       "Total time: 00:15 <p><table border=\"1\" class=\"dataframe\">\n",
       "  <thead>\n",
       "    <tr style=\"text-align: left;\">\n",
       "      <th>epoch</th>\n",
       "      <th>train_loss</th>\n",
       "      <th>valid_loss</th>\n",
       "      <th>accuracy</th>\n",
       "      <th>time</th>\n",
       "    </tr>\n",
       "  </thead>\n",
       "  <tbody>\n",
       "    <tr>\n",
       "      <td>0</td>\n",
       "      <td>4.860809</td>\n",
       "      <td>3.213019</td>\n",
       "      <td>0.787200</td>\n",
       "      <td>00:15</td>\n",
       "    </tr>\n",
       "  </tbody>\n",
       "</table>"
      ],
      "text/plain": [
       "<IPython.core.display.HTML object>"
      ]
     },
     "metadata": {},
     "output_type": "display_data"
    },
    {
     "data": {
      "text/html": [
       "Total time: 01:26 <p><table border=\"1\" class=\"dataframe\">\n",
       "  <thead>\n",
       "    <tr style=\"text-align: left;\">\n",
       "      <th>epoch</th>\n",
       "      <th>train_loss</th>\n",
       "      <th>valid_loss</th>\n",
       "      <th>accuracy</th>\n",
       "      <th>time</th>\n",
       "    </tr>\n",
       "  </thead>\n",
       "  <tbody>\n",
       "    <tr>\n",
       "      <td>0</td>\n",
       "      <td>1.062143</td>\n",
       "      <td>0.459500</td>\n",
       "      <td>0.981400</td>\n",
       "      <td>00:17</td>\n",
       "    </tr>\n",
       "    <tr>\n",
       "      <td>1</td>\n",
       "      <td>0.915657</td>\n",
       "      <td>0.407310</td>\n",
       "      <td>0.985800</td>\n",
       "      <td>00:17</td>\n",
       "    </tr>\n",
       "    <tr>\n",
       "      <td>2</td>\n",
       "      <td>0.530892</td>\n",
       "      <td>0.271375</td>\n",
       "      <td>0.990100</td>\n",
       "      <td>00:17</td>\n",
       "    </tr>\n",
       "    <tr>\n",
       "      <td>3</td>\n",
       "      <td>0.302700</td>\n",
       "      <td>0.184990</td>\n",
       "      <td>0.992400</td>\n",
       "      <td>00:17</td>\n",
       "    </tr>\n",
       "    <tr>\n",
       "      <td>4</td>\n",
       "      <td>0.285813</td>\n",
       "      <td>0.164071</td>\n",
       "      <td>0.993900</td>\n",
       "      <td>00:17</td>\n",
       "    </tr>\n",
       "  </tbody>\n",
       "</table>"
      ],
      "text/plain": [
       "<IPython.core.display.HTML object>"
      ]
     },
     "metadata": {},
     "output_type": "display_data"
    },
    {
     "data": {
      "image/png": "[encoded data removed]",
      "text/plain": [
       "<Figure size 432x288 with 2 Axes>"
      ]
     },
     "metadata": {},
     "output_type": "display_data"
    }
   ],
   "source": [
    "class LabelCatcher(LearnerCallback):\n",
    "    last_labels = None\n",
    "\n",
    "    def __init__(self, learn:Learner):\n",
    "        super().__init__(learn)\n",
    "        \n",
    "    def on_batch_begin(self, last_input, last_target, train, **kwargs):\n",
    "        LabelCatcher.last_labels = last_target\n",
    "        return {'last_input': last_input, 'last_target': last_target} \n",
    "\n",
    "\n",
    "class XFaceNet(nn.Module):\n",
    "    def __init__(self, org_model, data, xface_product=ArcMarginProduct, m=0.5):\n",
    "        super().__init__()\n",
    "        self.org_model = org_model\n",
    "        self.feature_model = body_feature_model(org_model)\n",
    "        self.metric_fc = xface_product(512, data.c, m=m).cuda()\n",
    "    \n",
    "    def forward(self, x):\n",
    "        x = self.feature_model(x)\n",
    "        x = self.metric_fc(x, LabelCatcher.last_labels)\n",
    "        return x\n",
    "\n",
    "\n",
    "def learner_ArcFace(train_data):\n",
    "    learn = cnn_learner(train_data, models.resnet18, metrics=accuracy)\n",
    "    learn.model = XFaceNet(learn.model, train_data, ArcMarginProduct, m=0.5)\n",
    "    learn.callback_fns.append(partial(LabelCatcher))\n",
    "    learn.fit_one_cycle(1)\n",
    "    learn.unfreeze()\n",
    "    learn.fit_one_cycle(5)\n",
    "    return learn\n",
    "\n",
    "if VISUALIZE_EMBEDDINGS:\n",
    "    visualize_embeddings(learner_ArcFace(all_data), 'ArcFace (t-SNE)')"
   ]
  },
  {
   "cell_type": "code",
   "execution_count": 11,
   "metadata": {},
   "outputs": [
    {
     "name": "stdout",
     "output_type": "stream",
     "text": [
      "Testing ArcFace for case #0\n"
     ]
    },
    {
     "data": {
      "text/html": [
       "Total time: 00:07 <p><table border=\"1\" class=\"dataframe\">\n",
       "  <thead>\n",
       "    <tr style=\"text-align: left;\">\n",
       "      <th>epoch</th>\n",
       "      <th>train_loss</th>\n",
       "      <th>valid_loss</th>\n",
       "      <th>accuracy</th>\n",
       "      <th>time</th>\n",
       "    </tr>\n",
       "  </thead>\n",
       "  <tbody>\n",
       "    <tr>\n",
       "      <td>0</td>\n",
       "      <td>4.875751</td>\n",
       "      <td>3.997014</td>\n",
       "      <td>0.757663</td>\n",
       "      <td>00:07</td>\n",
       "    </tr>\n",
       "  </tbody>\n",
       "</table>"
      ],
      "text/plain": [
       "<IPython.core.display.HTML object>"
      ]
     },
     "metadata": {},
     "output_type": "display_data"
    },
    {
     "data": {
      "text/html": [
       "Total time: 00:43 <p><table border=\"1\" class=\"dataframe\">\n",
       "  <thead>\n",
       "    <tr style=\"text-align: left;\">\n",
       "      <th>epoch</th>\n",
       "      <th>train_loss</th>\n",
       "      <th>valid_loss</th>\n",
       "      <th>accuracy</th>\n",
       "      <th>time</th>\n",
       "    </tr>\n",
       "  </thead>\n",
       "  <tbody>\n",
       "    <tr>\n",
       "      <td>0</td>\n",
       "      <td>0.881642</td>\n",
       "      <td>0.611486</td>\n",
       "      <td>0.974902</td>\n",
       "      <td>00:08</td>\n",
       "    </tr>\n",
       "    <tr>\n",
       "      <td>1</td>\n",
       "      <td>0.746773</td>\n",
       "      <td>0.529769</td>\n",
       "      <td>0.983748</td>\n",
       "      <td>00:08</td>\n",
       "    </tr>\n",
       "    <tr>\n",
       "      <td>2</td>\n",
       "      <td>0.393592</td>\n",
       "      <td>0.273751</td>\n",
       "      <td>0.991771</td>\n",
       "      <td>00:08</td>\n",
       "    </tr>\n",
       "    <tr>\n",
       "      <td>3</td>\n",
       "      <td>0.230070</td>\n",
       "      <td>0.082309</td>\n",
       "      <td>0.997120</td>\n",
       "      <td>00:08</td>\n",
       "    </tr>\n",
       "    <tr>\n",
       "      <td>4</td>\n",
       "      <td>0.163818</td>\n",
       "      <td>0.073596</td>\n",
       "      <td>0.996914</td>\n",
       "      <td>00:08</td>\n",
       "    </tr>\n",
       "  </tbody>\n",
       "</table>"
      ],
      "text/plain": [
       "<IPython.core.display.HTML object>"
      ]
     },
     "metadata": {},
     "output_type": "display_data"
    },
    {
     "name": "stdout",
     "output_type": "stream",
     "text": [
      "Evaluation size => test:(4999, 512), train(14700, 512)\n",
      "Calculated distances in shape (4999, 14700)\n",
      "Testing ArcFace for case #1\n"
     ]
    },
    {
     "data": {
      "text/html": [
       "Total time: 00:07 <p><table border=\"1\" class=\"dataframe\">\n",
       "  <thead>\n",
       "    <tr style=\"text-align: left;\">\n",
       "      <th>epoch</th>\n",
       "      <th>train_loss</th>\n",
       "      <th>valid_loss</th>\n",
       "      <th>accuracy</th>\n",
       "      <th>time</th>\n",
       "    </tr>\n",
       "  </thead>\n",
       "  <tbody>\n",
       "    <tr>\n",
       "      <td>0</td>\n",
       "      <td>4.282003</td>\n",
       "      <td>3.484705</td>\n",
       "      <td>0.795514</td>\n",
       "      <td>00:07</td>\n",
       "    </tr>\n",
       "  </tbody>\n",
       "</table>"
      ],
      "text/plain": [
       "<IPython.core.display.HTML object>"
      ]
     },
     "metadata": {},
     "output_type": "display_data"
    },
    {
     "data": {
      "text/html": [
       "Total time: 00:44 <p><table border=\"1\" class=\"dataframe\">\n",
       "  <thead>\n",
       "    <tr style=\"text-align: left;\">\n",
       "      <th>epoch</th>\n",
       "      <th>train_loss</th>\n",
       "      <th>valid_loss</th>\n",
       "      <th>accuracy</th>\n",
       "      <th>time</th>\n",
       "    </tr>\n",
       "  </thead>\n",
       "  <tbody>\n",
       "    <tr>\n",
       "      <td>0</td>\n",
       "      <td>0.824072</td>\n",
       "      <td>0.609483</td>\n",
       "      <td>0.976763</td>\n",
       "      <td>00:08</td>\n",
       "    </tr>\n",
       "    <tr>\n",
       "      <td>1</td>\n",
       "      <td>0.585321</td>\n",
       "      <td>0.234710</td>\n",
       "      <td>0.991513</td>\n",
       "      <td>00:08</td>\n",
       "    </tr>\n",
       "    <tr>\n",
       "      <td>2</td>\n",
       "      <td>0.430937</td>\n",
       "      <td>0.354495</td>\n",
       "      <td>0.988685</td>\n",
       "      <td>00:08</td>\n",
       "    </tr>\n",
       "    <tr>\n",
       "      <td>3</td>\n",
       "      <td>0.170368</td>\n",
       "      <td>0.120378</td>\n",
       "      <td>0.995757</td>\n",
       "      <td>00:08</td>\n",
       "    </tr>\n",
       "    <tr>\n",
       "      <td>4</td>\n",
       "      <td>0.168730</td>\n",
       "      <td>0.110284</td>\n",
       "      <td>0.996161</td>\n",
       "      <td>00:08</td>\n",
       "    </tr>\n",
       "  </tbody>\n",
       "</table>"
      ],
      "text/plain": [
       "<IPython.core.display.HTML object>"
      ]
     },
     "metadata": {},
     "output_type": "display_data"
    },
    {
     "name": "stdout",
     "output_type": "stream",
     "text": [
      "Evaluation size => test:(4999, 512), train(14951, 512)\n",
      "Calculated distances in shape (4999, 14951)\n",
      "Testing ArcFace for case #2\n"
     ]
    },
    {
     "data": {
      "text/html": [
       "Total time: 00:07 <p><table border=\"1\" class=\"dataframe\">\n",
       "  <thead>\n",
       "    <tr style=\"text-align: left;\">\n",
       "      <th>epoch</th>\n",
       "      <th>train_loss</th>\n",
       "      <th>valid_loss</th>\n",
       "      <th>accuracy</th>\n",
       "      <th>time</th>\n",
       "    </tr>\n",
       "  </thead>\n",
       "  <tbody>\n",
       "    <tr>\n",
       "      <td>0</td>\n",
       "      <td>3.677913</td>\n",
       "      <td>3.039375</td>\n",
       "      <td>0.817792</td>\n",
       "      <td>00:07</td>\n",
       "    </tr>\n",
       "  </tbody>\n",
       "</table>"
      ],
      "text/plain": [
       "<IPython.core.display.HTML object>"
      ]
     },
     "metadata": {},
     "output_type": "display_data"
    },
    {
     "data": {
      "text/html": [
       "Total time: 00:45 <p><table border=\"1\" class=\"dataframe\">\n",
       "  <thead>\n",
       "    <tr style=\"text-align: left;\">\n",
       "      <th>epoch</th>\n",
       "      <th>train_loss</th>\n",
       "      <th>valid_loss</th>\n",
       "      <th>accuracy</th>\n",
       "      <th>time</th>\n",
       "    </tr>\n",
       "  </thead>\n",
       "  <tbody>\n",
       "    <tr>\n",
       "      <td>0</td>\n",
       "      <td>0.808936</td>\n",
       "      <td>0.599809</td>\n",
       "      <td>0.977565</td>\n",
       "      <td>00:09</td>\n",
       "    </tr>\n",
       "    <tr>\n",
       "      <td>1</td>\n",
       "      <td>0.546026</td>\n",
       "      <td>0.174912</td>\n",
       "      <td>0.993367</td>\n",
       "      <td>00:09</td>\n",
       "    </tr>\n",
       "    <tr>\n",
       "      <td>2</td>\n",
       "      <td>0.273220</td>\n",
       "      <td>0.186518</td>\n",
       "      <td>0.994343</td>\n",
       "      <td>00:09</td>\n",
       "    </tr>\n",
       "    <tr>\n",
       "      <td>3</td>\n",
       "      <td>0.231932</td>\n",
       "      <td>0.086691</td>\n",
       "      <td>0.997074</td>\n",
       "      <td>00:09</td>\n",
       "    </tr>\n",
       "    <tr>\n",
       "      <td>4</td>\n",
       "      <td>0.196256</td>\n",
       "      <td>0.072728</td>\n",
       "      <td>0.997659</td>\n",
       "      <td>00:09</td>\n",
       "    </tr>\n",
       "  </tbody>\n",
       "</table>"
      ],
      "text/plain": [
       "<IPython.core.display.HTML object>"
      ]
     },
     "metadata": {},
     "output_type": "display_data"
    },
    {
     "name": "stdout",
     "output_type": "stream",
     "text": [
      "Evaluation size => test:(4999, 512), train(15363, 512)\n",
      "Calculated distances in shape (4999, 15363)\n",
      "Testing ArcFace for case #3\n"
     ]
    },
    {
     "data": {
      "text/html": [
       "Total time: 00:07 <p><table border=\"1\" class=\"dataframe\">\n",
       "  <thead>\n",
       "    <tr style=\"text-align: left;\">\n",
       "      <th>epoch</th>\n",
       "      <th>train_loss</th>\n",
       "      <th>valid_loss</th>\n",
       "      <th>accuracy</th>\n",
       "      <th>time</th>\n",
       "    </tr>\n",
       "  </thead>\n",
       "  <tbody>\n",
       "    <tr>\n",
       "      <td>0</td>\n",
       "      <td>3.704208</td>\n",
       "      <td>2.664556</td>\n",
       "      <td>0.823197</td>\n",
       "      <td>00:07</td>\n",
       "    </tr>\n",
       "  </tbody>\n",
       "</table>"
      ],
      "text/plain": [
       "<IPython.core.display.HTML object>"
      ]
     },
     "metadata": {},
     "output_type": "display_data"
    },
    {
     "data": {
      "text/html": [
       "Total time: 00:45 <p><table border=\"1\" class=\"dataframe\">\n",
       "  <thead>\n",
       "    <tr style=\"text-align: left;\">\n",
       "      <th>epoch</th>\n",
       "      <th>train_loss</th>\n",
       "      <th>valid_loss</th>\n",
       "      <th>accuracy</th>\n",
       "      <th>time</th>\n",
       "    </tr>\n",
       "  </thead>\n",
       "  <tbody>\n",
       "    <tr>\n",
       "      <td>0</td>\n",
       "      <td>0.793968</td>\n",
       "      <td>0.241852</td>\n",
       "      <td>0.988109</td>\n",
       "      <td>00:09</td>\n",
       "    </tr>\n",
       "    <tr>\n",
       "      <td>1</td>\n",
       "      <td>0.615182</td>\n",
       "      <td>0.135702</td>\n",
       "      <td>0.994737</td>\n",
       "      <td>00:08</td>\n",
       "    </tr>\n",
       "    <tr>\n",
       "      <td>2</td>\n",
       "      <td>0.358263</td>\n",
       "      <td>0.123481</td>\n",
       "      <td>0.994932</td>\n",
       "      <td>00:08</td>\n",
       "    </tr>\n",
       "    <tr>\n",
       "      <td>3</td>\n",
       "      <td>0.173294</td>\n",
       "      <td>0.098466</td>\n",
       "      <td>0.996686</td>\n",
       "      <td>00:09</td>\n",
       "    </tr>\n",
       "    <tr>\n",
       "      <td>4</td>\n",
       "      <td>0.129079</td>\n",
       "      <td>0.064326</td>\n",
       "      <td>0.997661</td>\n",
       "      <td>00:08</td>\n",
       "    </tr>\n",
       "  </tbody>\n",
       "</table>"
      ],
      "text/plain": [
       "<IPython.core.display.HTML object>"
      ]
     },
     "metadata": {},
     "output_type": "display_data"
    },
    {
     "name": "stdout",
     "output_type": "stream",
     "text": [
      "Evaluation size => test:(4999, 512), train(15210, 512)\n",
      "Calculated distances in shape (4999, 15210)\n",
      "Testing ArcFace for case #4\n"
     ]
    },
    {
     "data": {
      "text/html": [
       "Total time: 00:07 <p><table border=\"1\" class=\"dataframe\">\n",
       "  <thead>\n",
       "    <tr style=\"text-align: left;\">\n",
       "      <th>epoch</th>\n",
       "      <th>train_loss</th>\n",
       "      <th>valid_loss</th>\n",
       "      <th>accuracy</th>\n",
       "      <th>time</th>\n",
       "    </tr>\n",
       "  </thead>\n",
       "  <tbody>\n",
       "    <tr>\n",
       "      <td>0</td>\n",
       "      <td>3.338448</td>\n",
       "      <td>2.296947</td>\n",
       "      <td>0.850755</td>\n",
       "      <td>00:07</td>\n",
       "    </tr>\n",
       "  </tbody>\n",
       "</table>"
      ],
      "text/plain": [
       "<IPython.core.display.HTML object>"
      ]
     },
     "metadata": {},
     "output_type": "display_data"
    },
    {
     "data": {
      "text/html": [
       "Total time: 00:45 <p><table border=\"1\" class=\"dataframe\">\n",
       "  <thead>\n",
       "    <tr style=\"text-align: left;\">\n",
       "      <th>epoch</th>\n",
       "      <th>train_loss</th>\n",
       "      <th>valid_loss</th>\n",
       "      <th>accuracy</th>\n",
       "      <th>time</th>\n",
       "    </tr>\n",
       "  </thead>\n",
       "  <tbody>\n",
       "    <tr>\n",
       "      <td>0</td>\n",
       "      <td>0.700824</td>\n",
       "      <td>0.184021</td>\n",
       "      <td>0.990515</td>\n",
       "      <td>00:09</td>\n",
       "    </tr>\n",
       "    <tr>\n",
       "      <td>1</td>\n",
       "      <td>0.436553</td>\n",
       "      <td>0.109044</td>\n",
       "      <td>0.995741</td>\n",
       "      <td>00:09</td>\n",
       "    </tr>\n",
       "    <tr>\n",
       "      <td>2</td>\n",
       "      <td>0.300031</td>\n",
       "      <td>0.073237</td>\n",
       "      <td>0.997871</td>\n",
       "      <td>00:09</td>\n",
       "    </tr>\n",
       "    <tr>\n",
       "      <td>3</td>\n",
       "      <td>0.176964</td>\n",
       "      <td>0.069712</td>\n",
       "      <td>0.996322</td>\n",
       "      <td>00:09</td>\n",
       "    </tr>\n",
       "    <tr>\n",
       "      <td>4</td>\n",
       "      <td>0.090805</td>\n",
       "      <td>0.037530</td>\n",
       "      <td>0.997677</td>\n",
       "      <td>00:09</td>\n",
       "    </tr>\n",
       "  </tbody>\n",
       "</table>"
      ],
      "text/plain": [
       "<IPython.core.display.HTML object>"
      ]
     },
     "metadata": {},
     "output_type": "display_data"
    },
    {
     "name": "stdout",
     "output_type": "stream",
     "text": [
      "Evaluation size => test:(4999, 512), train(15350, 512)\n",
      "Calculated distances in shape (4999, 15350)\n",
      "Testing ArcFace for case #5\n"
     ]
    },
    {
     "data": {
      "text/html": [
       "Total time: 00:07 <p><table border=\"1\" class=\"dataframe\">\n",
       "  <thead>\n",
       "    <tr style=\"text-align: left;\">\n",
       "      <th>epoch</th>\n",
       "      <th>train_loss</th>\n",
       "      <th>valid_loss</th>\n",
       "      <th>accuracy</th>\n",
       "      <th>time</th>\n",
       "    </tr>\n",
       "  </thead>\n",
       "  <tbody>\n",
       "    <tr>\n",
       "      <td>0</td>\n",
       "      <td>2.657687</td>\n",
       "      <td>1.864736</td>\n",
       "      <td>0.875073</td>\n",
       "      <td>00:07</td>\n",
       "    </tr>\n",
       "  </tbody>\n",
       "</table>"
      ],
      "text/plain": [
       "<IPython.core.display.HTML object>"
      ]
     },
     "metadata": {},
     "output_type": "display_data"
    },
    {
     "data": {
      "text/html": [
       "Total time: 00:45 <p><table border=\"1\" class=\"dataframe\">\n",
       "  <thead>\n",
       "    <tr style=\"text-align: left;\">\n",
       "      <th>epoch</th>\n",
       "      <th>train_loss</th>\n",
       "      <th>valid_loss</th>\n",
       "      <th>accuracy</th>\n",
       "      <th>time</th>\n",
       "    </tr>\n",
       "  </thead>\n",
       "  <tbody>\n",
       "    <tr>\n",
       "      <td>0</td>\n",
       "      <td>0.658154</td>\n",
       "      <td>0.293778</td>\n",
       "      <td>0.985990</td>\n",
       "      <td>00:09</td>\n",
       "    </tr>\n",
       "    <tr>\n",
       "      <td>1</td>\n",
       "      <td>0.533369</td>\n",
       "      <td>0.132328</td>\n",
       "      <td>0.994941</td>\n",
       "      <td>00:08</td>\n",
       "    </tr>\n",
       "    <tr>\n",
       "      <td>2</td>\n",
       "      <td>0.246994</td>\n",
       "      <td>0.091103</td>\n",
       "      <td>0.996303</td>\n",
       "      <td>00:09</td>\n",
       "    </tr>\n",
       "    <tr>\n",
       "      <td>3</td>\n",
       "      <td>0.116571</td>\n",
       "      <td>0.031067</td>\n",
       "      <td>0.998832</td>\n",
       "      <td>00:09</td>\n",
       "    </tr>\n",
       "    <tr>\n",
       "      <td>4</td>\n",
       "      <td>0.080670</td>\n",
       "      <td>0.048049</td>\n",
       "      <td>0.998443</td>\n",
       "      <td>00:08</td>\n",
       "    </tr>\n",
       "  </tbody>\n",
       "</table>"
      ],
      "text/plain": [
       "<IPython.core.display.HTML object>"
      ]
     },
     "metadata": {},
     "output_type": "display_data"
    },
    {
     "name": "stdout",
     "output_type": "stream",
     "text": [
      "Evaluation size => test:(4999, 512), train(15297, 512)\n",
      "Calculated distances in shape (4999, 15297)\n",
      "Testing ArcFace for case #6\n"
     ]
    },
    {
     "data": {
      "text/html": [
       "Total time: 00:07 <p><table border=\"1\" class=\"dataframe\">\n",
       "  <thead>\n",
       "    <tr style=\"text-align: left;\">\n",
       "      <th>epoch</th>\n",
       "      <th>train_loss</th>\n",
       "      <th>valid_loss</th>\n",
       "      <th>accuracy</th>\n",
       "      <th>time</th>\n",
       "    </tr>\n",
       "  </thead>\n",
       "  <tbody>\n",
       "    <tr>\n",
       "      <td>0</td>\n",
       "      <td>3.674413</td>\n",
       "      <td>2.440916</td>\n",
       "      <td>0.837062</td>\n",
       "      <td>00:07</td>\n",
       "    </tr>\n",
       "  </tbody>\n",
       "</table>"
      ],
      "text/plain": [
       "<IPython.core.display.HTML object>"
      ]
     },
     "metadata": {},
     "output_type": "display_data"
    },
    {
     "data": {
      "text/html": [
       "Total time: 00:44 <p><table border=\"1\" class=\"dataframe\">\n",
       "  <thead>\n",
       "    <tr style=\"text-align: left;\">\n",
       "      <th>epoch</th>\n",
       "      <th>train_loss</th>\n",
       "      <th>valid_loss</th>\n",
       "      <th>accuracy</th>\n",
       "      <th>time</th>\n",
       "    </tr>\n",
       "  </thead>\n",
       "  <tbody>\n",
       "    <tr>\n",
       "      <td>0</td>\n",
       "      <td>0.641728</td>\n",
       "      <td>0.161911</td>\n",
       "      <td>0.992873</td>\n",
       "      <td>00:08</td>\n",
       "    </tr>\n",
       "    <tr>\n",
       "      <td>1</td>\n",
       "      <td>0.517988</td>\n",
       "      <td>0.219067</td>\n",
       "      <td>0.992675</td>\n",
       "      <td>00:08</td>\n",
       "    </tr>\n",
       "    <tr>\n",
       "      <td>2</td>\n",
       "      <td>0.392904</td>\n",
       "      <td>0.152396</td>\n",
       "      <td>0.995050</td>\n",
       "      <td>00:08</td>\n",
       "    </tr>\n",
       "    <tr>\n",
       "      <td>3</td>\n",
       "      <td>0.142768</td>\n",
       "      <td>0.123536</td>\n",
       "      <td>0.996040</td>\n",
       "      <td>00:08</td>\n",
       "    </tr>\n",
       "    <tr>\n",
       "      <td>4</td>\n",
       "      <td>0.157651</td>\n",
       "      <td>0.120157</td>\n",
       "      <td>0.996040</td>\n",
       "      <td>00:08</td>\n",
       "    </tr>\n",
       "  </tbody>\n",
       "</table>"
      ],
      "text/plain": [
       "<IPython.core.display.HTML object>"
      ]
     },
     "metadata": {},
     "output_type": "display_data"
    },
    {
     "name": "stdout",
     "output_type": "stream",
     "text": [
      "Evaluation size => test:(4999, 512), train(15046, 512)\n",
      "Calculated distances in shape (4999, 15046)\n",
      "Testing ArcFace for case #7\n"
     ]
    },
    {
     "data": {
      "text/html": [
       "Total time: 00:07 <p><table border=\"1\" class=\"dataframe\">\n",
       "  <thead>\n",
       "    <tr style=\"text-align: left;\">\n",
       "      <th>epoch</th>\n",
       "      <th>train_loss</th>\n",
       "      <th>valid_loss</th>\n",
       "      <th>accuracy</th>\n",
       "      <th>time</th>\n",
       "    </tr>\n",
       "  </thead>\n",
       "  <tbody>\n",
       "    <tr>\n",
       "      <td>0</td>\n",
       "      <td>4.811576</td>\n",
       "      <td>3.437826</td>\n",
       "      <td>0.777595</td>\n",
       "      <td>00:07</td>\n",
       "    </tr>\n",
       "  </tbody>\n",
       "</table>"
      ],
      "text/plain": [
       "<IPython.core.display.HTML object>"
      ]
     },
     "metadata": {},
     "output_type": "display_data"
    },
    {
     "data": {
      "text/html": [
       "Total time: 00:43 <p><table border=\"1\" class=\"dataframe\">\n",
       "  <thead>\n",
       "    <tr style=\"text-align: left;\">\n",
       "      <th>epoch</th>\n",
       "      <th>train_loss</th>\n",
       "      <th>valid_loss</th>\n",
       "      <th>accuracy</th>\n",
       "      <th>time</th>\n",
       "    </tr>\n",
       "  </thead>\n",
       "  <tbody>\n",
       "    <tr>\n",
       "      <td>0</td>\n",
       "      <td>0.681821</td>\n",
       "      <td>0.286009</td>\n",
       "      <td>0.987074</td>\n",
       "      <td>00:08</td>\n",
       "    </tr>\n",
       "    <tr>\n",
       "      <td>1</td>\n",
       "      <td>0.575880</td>\n",
       "      <td>0.295072</td>\n",
       "      <td>0.990767</td>\n",
       "      <td>00:08</td>\n",
       "    </tr>\n",
       "    <tr>\n",
       "      <td>2</td>\n",
       "      <td>0.377118</td>\n",
       "      <td>0.101523</td>\n",
       "      <td>0.996307</td>\n",
       "      <td>00:08</td>\n",
       "    </tr>\n",
       "    <tr>\n",
       "      <td>3</td>\n",
       "      <td>0.216382</td>\n",
       "      <td>0.117949</td>\n",
       "      <td>0.996102</td>\n",
       "      <td>00:08</td>\n",
       "    </tr>\n",
       "    <tr>\n",
       "      <td>4</td>\n",
       "      <td>0.121208</td>\n",
       "      <td>0.092387</td>\n",
       "      <td>0.996922</td>\n",
       "      <td>00:08</td>\n",
       "    </tr>\n",
       "  </tbody>\n",
       "</table>"
      ],
      "text/plain": [
       "<IPython.core.display.HTML object>"
      ]
     },
     "metadata": {},
     "output_type": "display_data"
    },
    {
     "name": "stdout",
     "output_type": "stream",
     "text": [
      "Evaluation size => test:(4999, 512), train(14634, 512)\n",
      "Calculated distances in shape (4999, 14634)\n",
      "Testing ArcFace for case #8\n"
     ]
    },
    {
     "data": {
      "text/html": [
       "Total time: 00:07 <p><table border=\"1\" class=\"dataframe\">\n",
       "  <thead>\n",
       "    <tr style=\"text-align: left;\">\n",
       "      <th>epoch</th>\n",
       "      <th>train_loss</th>\n",
       "      <th>valid_loss</th>\n",
       "      <th>accuracy</th>\n",
       "      <th>time</th>\n",
       "    </tr>\n",
       "  </thead>\n",
       "  <tbody>\n",
       "    <tr>\n",
       "      <td>0</td>\n",
       "      <td>4.230720</td>\n",
       "      <td>3.089879</td>\n",
       "      <td>0.816016</td>\n",
       "      <td>00:07</td>\n",
       "    </tr>\n",
       "  </tbody>\n",
       "</table>"
      ],
      "text/plain": [
       "<IPython.core.display.HTML object>"
      ]
     },
     "metadata": {},
     "output_type": "display_data"
    },
    {
     "data": {
      "text/html": [
       "Total time: 00:43 <p><table border=\"1\" class=\"dataframe\">\n",
       "  <thead>\n",
       "    <tr style=\"text-align: left;\">\n",
       "      <th>epoch</th>\n",
       "      <th>train_loss</th>\n",
       "      <th>valid_loss</th>\n",
       "      <th>accuracy</th>\n",
       "      <th>time</th>\n",
       "    </tr>\n",
       "  </thead>\n",
       "  <tbody>\n",
       "    <tr>\n",
       "      <td>0</td>\n",
       "      <td>0.803794</td>\n",
       "      <td>0.547559</td>\n",
       "      <td>0.978234</td>\n",
       "      <td>00:08</td>\n",
       "    </tr>\n",
       "    <tr>\n",
       "      <td>1</td>\n",
       "      <td>0.470812</td>\n",
       "      <td>0.305765</td>\n",
       "      <td>0.990554</td>\n",
       "      <td>00:08</td>\n",
       "    </tr>\n",
       "    <tr>\n",
       "      <td>2</td>\n",
       "      <td>0.342651</td>\n",
       "      <td>0.128746</td>\n",
       "      <td>0.996304</td>\n",
       "      <td>00:08</td>\n",
       "    </tr>\n",
       "    <tr>\n",
       "      <td>3</td>\n",
       "      <td>0.180020</td>\n",
       "      <td>0.157885</td>\n",
       "      <td>0.995072</td>\n",
       "      <td>00:08</td>\n",
       "    </tr>\n",
       "    <tr>\n",
       "      <td>4</td>\n",
       "      <td>0.094389</td>\n",
       "      <td>0.115796</td>\n",
       "      <td>0.996304</td>\n",
       "      <td>00:08</td>\n",
       "    </tr>\n",
       "  </tbody>\n",
       "</table>"
      ],
      "text/plain": [
       "<IPython.core.display.HTML object>"
      ]
     },
     "metadata": {},
     "output_type": "display_data"
    },
    {
     "name": "stdout",
     "output_type": "stream",
     "text": [
      "Evaluation size => test:(4999, 512), train(14787, 512)\n",
      "Calculated distances in shape (4999, 14787)\n",
      "Testing ArcFace for case #9\n"
     ]
    },
    {
     "data": {
      "text/html": [
       "Total time: 00:07 <p><table border=\"1\" class=\"dataframe\">\n",
       "  <thead>\n",
       "    <tr style=\"text-align: left;\">\n",
       "      <th>epoch</th>\n",
       "      <th>train_loss</th>\n",
       "      <th>valid_loss</th>\n",
       "      <th>accuracy</th>\n",
       "      <th>time</th>\n",
       "    </tr>\n",
       "  </thead>\n",
       "  <tbody>\n",
       "    <tr>\n",
       "      <td>0</td>\n",
       "      <td>3.947207</td>\n",
       "      <td>2.739065</td>\n",
       "      <td>0.827265</td>\n",
       "      <td>00:07</td>\n",
       "    </tr>\n",
       "  </tbody>\n",
       "</table>"
      ],
      "text/plain": [
       "<IPython.core.display.HTML object>"
      ]
     },
     "metadata": {},
     "output_type": "display_data"
    },
    {
     "data": {
      "text/html": [
       "Total time: 00:43 <p><table border=\"1\" class=\"dataframe\">\n",
       "  <thead>\n",
       "    <tr style=\"text-align: left;\">\n",
       "      <th>epoch</th>\n",
       "      <th>train_loss</th>\n",
       "      <th>valid_loss</th>\n",
       "      <th>accuracy</th>\n",
       "      <th>time</th>\n",
       "    </tr>\n",
       "  </thead>\n",
       "  <tbody>\n",
       "    <tr>\n",
       "      <td>0</td>\n",
       "      <td>0.854491</td>\n",
       "      <td>0.440744</td>\n",
       "      <td>0.980761</td>\n",
       "      <td>00:08</td>\n",
       "    </tr>\n",
       "    <tr>\n",
       "      <td>1</td>\n",
       "      <td>0.627594</td>\n",
       "      <td>0.330390</td>\n",
       "      <td>0.988829</td>\n",
       "      <td>00:08</td>\n",
       "    </tr>\n",
       "    <tr>\n",
       "      <td>2</td>\n",
       "      <td>0.411378</td>\n",
       "      <td>0.200336</td>\n",
       "      <td>0.993380</td>\n",
       "      <td>00:08</td>\n",
       "    </tr>\n",
       "    <tr>\n",
       "      <td>3</td>\n",
       "      <td>0.184039</td>\n",
       "      <td>0.065304</td>\n",
       "      <td>0.995242</td>\n",
       "      <td>00:08</td>\n",
       "    </tr>\n",
       "    <tr>\n",
       "      <td>4</td>\n",
       "      <td>0.149911</td>\n",
       "      <td>0.040419</td>\n",
       "      <td>0.998345</td>\n",
       "      <td>00:08</td>\n",
       "    </tr>\n",
       "  </tbody>\n",
       "</table>"
      ],
      "text/plain": [
       "<IPython.core.display.HTML object>"
      ]
     },
     "metadata": {},
     "output_type": "display_data"
    },
    {
     "name": "stdout",
     "output_type": "stream",
     "text": [
      "Evaluation size => test:(4999, 512), train(14647, 512)\n",
      "Calculated distances in shape (4999, 14647)\n"
     ]
    }
   ],
   "source": [
    "toytest.do_tests('ArcFace', learner_ArcFace)"
   ]
  },
  {
   "cell_type": "markdown",
   "metadata": {},
   "source": [
    "## 4. CosFace\n",
    "- H. Wang, Y. Wang, Z. Zhou, X. Ji, D. Gong, J. Zhou, Z. Li, and W. Liu, CosFace: Large Margin Cosine Loss for Deep Face Recognition, arXiv preprint arXiv:1801.09414, 2018. https://arxiv.org/pdf/1801.09414.pdf\n",
    "- Pytorch implementation: https://github.com/ronghuaiyang/arcface-pytorch"
   ]
  },
  {
   "cell_type": "code",
   "execution_count": 12,
   "metadata": {},
   "outputs": [
    {
     "data": {
      "text/html": [
       "Total time: 00:14 <p><table border=\"1\" class=\"dataframe\">\n",
       "  <thead>\n",
       "    <tr style=\"text-align: left;\">\n",
       "      <th>epoch</th>\n",
       "      <th>train_loss</th>\n",
       "      <th>valid_loss</th>\n",
       "      <th>accuracy</th>\n",
       "      <th>time</th>\n",
       "    </tr>\n",
       "  </thead>\n",
       "  <tbody>\n",
       "    <tr>\n",
       "      <td>0</td>\n",
       "      <td>4.173792</td>\n",
       "      <td>2.928971</td>\n",
       "      <td>0.765200</td>\n",
       "      <td>00:14</td>\n",
       "    </tr>\n",
       "  </tbody>\n",
       "</table>"
      ],
      "text/plain": [
       "<IPython.core.display.HTML object>"
      ]
     },
     "metadata": {},
     "output_type": "display_data"
    },
    {
     "data": {
      "text/html": [
       "Total time: 01:24 <p><table border=\"1\" class=\"dataframe\">\n",
       "  <thead>\n",
       "    <tr style=\"text-align: left;\">\n",
       "      <th>epoch</th>\n",
       "      <th>train_loss</th>\n",
       "      <th>valid_loss</th>\n",
       "      <th>accuracy</th>\n",
       "      <th>time</th>\n",
       "    </tr>\n",
       "  </thead>\n",
       "  <tbody>\n",
       "    <tr>\n",
       "      <td>0</td>\n",
       "      <td>0.921600</td>\n",
       "      <td>0.745434</td>\n",
       "      <td>0.964700</td>\n",
       "      <td>00:16</td>\n",
       "    </tr>\n",
       "    <tr>\n",
       "      <td>1</td>\n",
       "      <td>0.642424</td>\n",
       "      <td>0.456384</td>\n",
       "      <td>0.980500</td>\n",
       "      <td>00:16</td>\n",
       "    </tr>\n",
       "    <tr>\n",
       "      <td>2</td>\n",
       "      <td>0.489409</td>\n",
       "      <td>0.235744</td>\n",
       "      <td>0.989800</td>\n",
       "      <td>00:16</td>\n",
       "    </tr>\n",
       "    <tr>\n",
       "      <td>3</td>\n",
       "      <td>0.270213</td>\n",
       "      <td>0.167479</td>\n",
       "      <td>0.993000</td>\n",
       "      <td>00:16</td>\n",
       "    </tr>\n",
       "    <tr>\n",
       "      <td>4</td>\n",
       "      <td>0.161769</td>\n",
       "      <td>0.135498</td>\n",
       "      <td>0.994100</td>\n",
       "      <td>00:16</td>\n",
       "    </tr>\n",
       "  </tbody>\n",
       "</table>"
      ],
      "text/plain": [
       "<IPython.core.display.HTML object>"
      ]
     },
     "metadata": {},
     "output_type": "display_data"
    },
    {
     "data": {
      "image/png": "[encoded data removed]",
      "text/plain": [
       "<Figure size 432x288 with 2 Axes>"
      ]
     },
     "metadata": {},
     "output_type": "display_data"
    }
   ],
   "source": [
    "def learner_CosFace(train_data):\n",
    "    learn = cnn_learner(train_data, models.resnet18, metrics=accuracy)\n",
    "    learn.model = XFaceNet(learn.model, train_data, AddMarginProduct, m=0.4)\n",
    "    learn.callback_fns.append(partial(LabelCatcher))\n",
    "    learn.fit_one_cycle(1)\n",
    "    learn.unfreeze()\n",
    "    learn.fit_one_cycle(5)\n",
    "    return learn\n",
    "\n",
    "if VISUALIZE_EMBEDDINGS:\n",
    "    visualize_embeddings(learner_CosFace(all_data), 'CosFace (t-SNE)')"
   ]
  },
  {
   "cell_type": "code",
   "execution_count": 13,
   "metadata": {},
   "outputs": [
    {
     "name": "stdout",
     "output_type": "stream",
     "text": [
      "Testing CosFace for case #0\n"
     ]
    },
    {
     "data": {
      "text/html": [
       "Total time: 00:07 <p><table border=\"1\" class=\"dataframe\">\n",
       "  <thead>\n",
       "    <tr style=\"text-align: left;\">\n",
       "      <th>epoch</th>\n",
       "      <th>train_loss</th>\n",
       "      <th>valid_loss</th>\n",
       "      <th>accuracy</th>\n",
       "      <th>time</th>\n",
       "    </tr>\n",
       "  </thead>\n",
       "  <tbody>\n",
       "    <tr>\n",
       "      <td>0</td>\n",
       "      <td>4.095674</td>\n",
       "      <td>3.350993</td>\n",
       "      <td>0.765480</td>\n",
       "      <td>00:07</td>\n",
       "    </tr>\n",
       "  </tbody>\n",
       "</table>"
      ],
      "text/plain": [
       "<IPython.core.display.HTML object>"
      ]
     },
     "metadata": {},
     "output_type": "display_data"
    },
    {
     "data": {
      "text/html": [
       "Total time: 00:43 <p><table border=\"1\" class=\"dataframe\">\n",
       "  <thead>\n",
       "    <tr style=\"text-align: left;\">\n",
       "      <th>epoch</th>\n",
       "      <th>train_loss</th>\n",
       "      <th>valid_loss</th>\n",
       "      <th>accuracy</th>\n",
       "      <th>time</th>\n",
       "    </tr>\n",
       "  </thead>\n",
       "  <tbody>\n",
       "    <tr>\n",
       "      <td>0</td>\n",
       "      <td>0.782419</td>\n",
       "      <td>0.362075</td>\n",
       "      <td>0.977782</td>\n",
       "      <td>00:08</td>\n",
       "    </tr>\n",
       "    <tr>\n",
       "      <td>1</td>\n",
       "      <td>0.483197</td>\n",
       "      <td>0.213447</td>\n",
       "      <td>0.990537</td>\n",
       "      <td>00:08</td>\n",
       "    </tr>\n",
       "    <tr>\n",
       "      <td>2</td>\n",
       "      <td>0.320645</td>\n",
       "      <td>0.175493</td>\n",
       "      <td>0.993006</td>\n",
       "      <td>00:08</td>\n",
       "    </tr>\n",
       "    <tr>\n",
       "      <td>3</td>\n",
       "      <td>0.184471</td>\n",
       "      <td>0.077140</td>\n",
       "      <td>0.994651</td>\n",
       "      <td>00:08</td>\n",
       "    </tr>\n",
       "    <tr>\n",
       "      <td>4</td>\n",
       "      <td>0.167547</td>\n",
       "      <td>0.103828</td>\n",
       "      <td>0.995474</td>\n",
       "      <td>00:09</td>\n",
       "    </tr>\n",
       "  </tbody>\n",
       "</table>"
      ],
      "text/plain": [
       "<IPython.core.display.HTML object>"
      ]
     },
     "metadata": {},
     "output_type": "display_data"
    },
    {
     "name": "stdout",
     "output_type": "stream",
     "text": [
      "Evaluation size => test:(4999, 512), train(14700, 512)\n",
      "Calculated distances in shape (4999, 14700)\n",
      "Testing CosFace for case #1\n"
     ]
    },
    {
     "data": {
      "text/html": [
       "Total time: 00:07 <p><table border=\"1\" class=\"dataframe\">\n",
       "  <thead>\n",
       "    <tr style=\"text-align: left;\">\n",
       "      <th>epoch</th>\n",
       "      <th>train_loss</th>\n",
       "      <th>valid_loss</th>\n",
       "      <th>accuracy</th>\n",
       "      <th>time</th>\n",
       "    </tr>\n",
       "  </thead>\n",
       "  <tbody>\n",
       "    <tr>\n",
       "      <td>0</td>\n",
       "      <td>3.588017</td>\n",
       "      <td>2.961049</td>\n",
       "      <td>0.787028</td>\n",
       "      <td>00:07</td>\n",
       "    </tr>\n",
       "  </tbody>\n",
       "</table>"
      ],
      "text/plain": [
       "<IPython.core.display.HTML object>"
      ]
     },
     "metadata": {},
     "output_type": "display_data"
    },
    {
     "data": {
      "text/html": [
       "Total time: 01:05 <p><table border=\"1\" class=\"dataframe\">\n",
       "  <thead>\n",
       "    <tr style=\"text-align: left;\">\n",
       "      <th>epoch</th>\n",
       "      <th>train_loss</th>\n",
       "      <th>valid_loss</th>\n",
       "      <th>accuracy</th>\n",
       "      <th>time</th>\n",
       "    </tr>\n",
       "  </thead>\n",
       "  <tbody>\n",
       "    <tr>\n",
       "      <td>0</td>\n",
       "      <td>0.719036</td>\n",
       "      <td>0.415930</td>\n",
       "      <td>0.978379</td>\n",
       "      <td>00:09</td>\n",
       "    </tr>\n",
       "    <tr>\n",
       "      <td>1</td>\n",
       "      <td>0.507110</td>\n",
       "      <td>0.344912</td>\n",
       "      <td>0.985452</td>\n",
       "      <td>00:17</td>\n",
       "    </tr>\n",
       "    <tr>\n",
       "      <td>2</td>\n",
       "      <td>0.300742</td>\n",
       "      <td>0.096006</td>\n",
       "      <td>0.994544</td>\n",
       "      <td>00:10</td>\n",
       "    </tr>\n",
       "    <tr>\n",
       "      <td>3</td>\n",
       "      <td>0.184582</td>\n",
       "      <td>0.085269</td>\n",
       "      <td>0.996161</td>\n",
       "      <td>00:16</td>\n",
       "    </tr>\n",
       "    <tr>\n",
       "      <td>4</td>\n",
       "      <td>0.140313</td>\n",
       "      <td>0.078791</td>\n",
       "      <td>0.996161</td>\n",
       "      <td>00:10</td>\n",
       "    </tr>\n",
       "  </tbody>\n",
       "</table>"
      ],
      "text/plain": [
       "<IPython.core.display.HTML object>"
      ]
     },
     "metadata": {},
     "output_type": "display_data"
    },
    {
     "name": "stdout",
     "output_type": "stream",
     "text": [
      "Evaluation size => test:(4999, 512), train(14951, 512)\n",
      "Calculated distances in shape (4999, 14951)\n",
      "Testing CosFace for case #2\n"
     ]
    },
    {
     "data": {
      "text/html": [
       "Total time: 00:08 <p><table border=\"1\" class=\"dataframe\">\n",
       "  <thead>\n",
       "    <tr style=\"text-align: left;\">\n",
       "      <th>epoch</th>\n",
       "      <th>train_loss</th>\n",
       "      <th>valid_loss</th>\n",
       "      <th>accuracy</th>\n",
       "      <th>time</th>\n",
       "    </tr>\n",
       "  </thead>\n",
       "  <tbody>\n",
       "    <tr>\n",
       "      <td>0</td>\n",
       "      <td>3.027972</td>\n",
       "      <td>2.671901</td>\n",
       "      <td>0.804136</td>\n",
       "      <td>00:08</td>\n",
       "    </tr>\n",
       "  </tbody>\n",
       "</table>"
      ],
      "text/plain": [
       "<IPython.core.display.HTML object>"
      ]
     },
     "metadata": {},
     "output_type": "display_data"
    },
    {
     "data": {
      "text/html": [
       "Total time: 00:49 <p><table border=\"1\" class=\"dataframe\">\n",
       "  <thead>\n",
       "    <tr style=\"text-align: left;\">\n",
       "      <th>epoch</th>\n",
       "      <th>train_loss</th>\n",
       "      <th>valid_loss</th>\n",
       "      <th>accuracy</th>\n",
       "      <th>time</th>\n",
       "    </tr>\n",
       "  </thead>\n",
       "  <tbody>\n",
       "    <tr>\n",
       "      <td>0</td>\n",
       "      <td>0.732015</td>\n",
       "      <td>0.289035</td>\n",
       "      <td>0.982833</td>\n",
       "      <td>00:09</td>\n",
       "    </tr>\n",
       "    <tr>\n",
       "      <td>1</td>\n",
       "      <td>0.478787</td>\n",
       "      <td>0.275217</td>\n",
       "      <td>0.988685</td>\n",
       "      <td>00:09</td>\n",
       "    </tr>\n",
       "    <tr>\n",
       "      <td>2</td>\n",
       "      <td>0.317774</td>\n",
       "      <td>0.199518</td>\n",
       "      <td>0.990441</td>\n",
       "      <td>00:09</td>\n",
       "    </tr>\n",
       "    <tr>\n",
       "      <td>3</td>\n",
       "      <td>0.180007</td>\n",
       "      <td>0.086706</td>\n",
       "      <td>0.995513</td>\n",
       "      <td>00:09</td>\n",
       "    </tr>\n",
       "    <tr>\n",
       "      <td>4</td>\n",
       "      <td>0.117043</td>\n",
       "      <td>0.071336</td>\n",
       "      <td>0.996684</td>\n",
       "      <td>00:09</td>\n",
       "    </tr>\n",
       "  </tbody>\n",
       "</table>"
      ],
      "text/plain": [
       "<IPython.core.display.HTML object>"
      ]
     },
     "metadata": {},
     "output_type": "display_data"
    },
    {
     "name": "stdout",
     "output_type": "stream",
     "text": [
      "Evaluation size => test:(4999, 512), train(15363, 512)\n",
      "Calculated distances in shape (4999, 15363)\n",
      "Testing CosFace for case #3\n"
     ]
    },
    {
     "data": {
      "text/html": [
       "Total time: 00:07 <p><table border=\"1\" class=\"dataframe\">\n",
       "  <thead>\n",
       "    <tr style=\"text-align: left;\">\n",
       "      <th>epoch</th>\n",
       "      <th>train_loss</th>\n",
       "      <th>valid_loss</th>\n",
       "      <th>accuracy</th>\n",
       "      <th>time</th>\n",
       "    </tr>\n",
       "  </thead>\n",
       "  <tbody>\n",
       "    <tr>\n",
       "      <td>0</td>\n",
       "      <td>3.127794</td>\n",
       "      <td>2.337598</td>\n",
       "      <td>0.820468</td>\n",
       "      <td>00:07</td>\n",
       "    </tr>\n",
       "  </tbody>\n",
       "</table>"
      ],
      "text/plain": [
       "<IPython.core.display.HTML object>"
      ]
     },
     "metadata": {},
     "output_type": "display_data"
    },
    {
     "data": {
      "text/html": [
       "Total time: 00:44 <p><table border=\"1\" class=\"dataframe\">\n",
       "  <thead>\n",
       "    <tr style=\"text-align: left;\">\n",
       "      <th>epoch</th>\n",
       "      <th>train_loss</th>\n",
       "      <th>valid_loss</th>\n",
       "      <th>accuracy</th>\n",
       "      <th>time</th>\n",
       "    </tr>\n",
       "  </thead>\n",
       "  <tbody>\n",
       "    <tr>\n",
       "      <td>0</td>\n",
       "      <td>0.691788</td>\n",
       "      <td>0.378834</td>\n",
       "      <td>0.979922</td>\n",
       "      <td>00:08</td>\n",
       "    </tr>\n",
       "    <tr>\n",
       "      <td>1</td>\n",
       "      <td>0.489584</td>\n",
       "      <td>0.430864</td>\n",
       "      <td>0.981092</td>\n",
       "      <td>00:08</td>\n",
       "    </tr>\n",
       "    <tr>\n",
       "      <td>2</td>\n",
       "      <td>0.283051</td>\n",
       "      <td>0.109454</td>\n",
       "      <td>0.995127</td>\n",
       "      <td>00:08</td>\n",
       "    </tr>\n",
       "    <tr>\n",
       "      <td>3</td>\n",
       "      <td>0.189590</td>\n",
       "      <td>0.063420</td>\n",
       "      <td>0.996686</td>\n",
       "      <td>00:08</td>\n",
       "    </tr>\n",
       "    <tr>\n",
       "      <td>4</td>\n",
       "      <td>0.100958</td>\n",
       "      <td>0.048967</td>\n",
       "      <td>0.997076</td>\n",
       "      <td>00:08</td>\n",
       "    </tr>\n",
       "  </tbody>\n",
       "</table>"
      ],
      "text/plain": [
       "<IPython.core.display.HTML object>"
      ]
     },
     "metadata": {},
     "output_type": "display_data"
    },
    {
     "name": "stdout",
     "output_type": "stream",
     "text": [
      "Evaluation size => test:(4999, 512), train(15210, 512)\n",
      "Calculated distances in shape (4999, 15210)\n",
      "Testing CosFace for case #4\n"
     ]
    },
    {
     "data": {
      "text/html": [
       "Total time: 00:07 <p><table border=\"1\" class=\"dataframe\">\n",
       "  <thead>\n",
       "    <tr style=\"text-align: left;\">\n",
       "      <th>epoch</th>\n",
       "      <th>train_loss</th>\n",
       "      <th>valid_loss</th>\n",
       "      <th>accuracy</th>\n",
       "      <th>time</th>\n",
       "    </tr>\n",
       "  </thead>\n",
       "  <tbody>\n",
       "    <tr>\n",
       "      <td>0</td>\n",
       "      <td>2.620106</td>\n",
       "      <td>1.991867</td>\n",
       "      <td>0.839528</td>\n",
       "      <td>00:07</td>\n",
       "    </tr>\n",
       "  </tbody>\n",
       "</table>"
      ],
      "text/plain": [
       "<IPython.core.display.HTML object>"
      ]
     },
     "metadata": {},
     "output_type": "display_data"
    },
    {
     "data": {
      "text/html": [
       "Total time: 00:44 <p><table border=\"1\" class=\"dataframe\">\n",
       "  <thead>\n",
       "    <tr style=\"text-align: left;\">\n",
       "      <th>epoch</th>\n",
       "      <th>train_loss</th>\n",
       "      <th>valid_loss</th>\n",
       "      <th>accuracy</th>\n",
       "      <th>time</th>\n",
       "    </tr>\n",
       "  </thead>\n",
       "  <tbody>\n",
       "    <tr>\n",
       "      <td>0</td>\n",
       "      <td>0.557947</td>\n",
       "      <td>0.253009</td>\n",
       "      <td>0.985869</td>\n",
       "      <td>00:08</td>\n",
       "    </tr>\n",
       "    <tr>\n",
       "      <td>1</td>\n",
       "      <td>0.397067</td>\n",
       "      <td>0.080220</td>\n",
       "      <td>0.995548</td>\n",
       "      <td>00:08</td>\n",
       "    </tr>\n",
       "    <tr>\n",
       "      <td>2</td>\n",
       "      <td>0.262022</td>\n",
       "      <td>0.197607</td>\n",
       "      <td>0.992451</td>\n",
       "      <td>00:09</td>\n",
       "    </tr>\n",
       "    <tr>\n",
       "      <td>3</td>\n",
       "      <td>0.118400</td>\n",
       "      <td>0.082572</td>\n",
       "      <td>0.996516</td>\n",
       "      <td>00:08</td>\n",
       "    </tr>\n",
       "    <tr>\n",
       "      <td>4</td>\n",
       "      <td>0.069745</td>\n",
       "      <td>0.044018</td>\n",
       "      <td>0.997096</td>\n",
       "      <td>00:08</td>\n",
       "    </tr>\n",
       "  </tbody>\n",
       "</table>"
      ],
      "text/plain": [
       "<IPython.core.display.HTML object>"
      ]
     },
     "metadata": {},
     "output_type": "display_data"
    },
    {
     "name": "stdout",
     "output_type": "stream",
     "text": [
      "Evaluation size => test:(4999, 512), train(15350, 512)\n",
      "Calculated distances in shape (4999, 15350)\n",
      "Testing CosFace for case #5\n"
     ]
    },
    {
     "data": {
      "text/html": [
       "Total time: 00:07 <p><table border=\"1\" class=\"dataframe\">\n",
       "  <thead>\n",
       "    <tr style=\"text-align: left;\">\n",
       "      <th>epoch</th>\n",
       "      <th>train_loss</th>\n",
       "      <th>valid_loss</th>\n",
       "      <th>accuracy</th>\n",
       "      <th>time</th>\n",
       "    </tr>\n",
       "  </thead>\n",
       "  <tbody>\n",
       "    <tr>\n",
       "      <td>0</td>\n",
       "      <td>2.208857</td>\n",
       "      <td>1.635384</td>\n",
       "      <td>0.873127</td>\n",
       "      <td>00:07</td>\n",
       "    </tr>\n",
       "  </tbody>\n",
       "</table>"
      ],
      "text/plain": [
       "<IPython.core.display.HTML object>"
      ]
     },
     "metadata": {},
     "output_type": "display_data"
    },
    {
     "data": {
      "text/html": [
       "Total time: 00:44 <p><table border=\"1\" class=\"dataframe\">\n",
       "  <thead>\n",
       "    <tr style=\"text-align: left;\">\n",
       "      <th>epoch</th>\n",
       "      <th>train_loss</th>\n",
       "      <th>valid_loss</th>\n",
       "      <th>accuracy</th>\n",
       "      <th>time</th>\n",
       "    </tr>\n",
       "  </thead>\n",
       "  <tbody>\n",
       "    <tr>\n",
       "      <td>0</td>\n",
       "      <td>0.537332</td>\n",
       "      <td>0.155434</td>\n",
       "      <td>0.991827</td>\n",
       "      <td>00:08</td>\n",
       "    </tr>\n",
       "    <tr>\n",
       "      <td>1</td>\n",
       "      <td>0.342111</td>\n",
       "      <td>0.166062</td>\n",
       "      <td>0.992800</td>\n",
       "      <td>00:08</td>\n",
       "    </tr>\n",
       "    <tr>\n",
       "      <td>2</td>\n",
       "      <td>0.164602</td>\n",
       "      <td>0.052228</td>\n",
       "      <td>0.997859</td>\n",
       "      <td>00:08</td>\n",
       "    </tr>\n",
       "    <tr>\n",
       "      <td>3</td>\n",
       "      <td>0.131095</td>\n",
       "      <td>0.033163</td>\n",
       "      <td>0.997470</td>\n",
       "      <td>00:08</td>\n",
       "    </tr>\n",
       "    <tr>\n",
       "      <td>4</td>\n",
       "      <td>0.044313</td>\n",
       "      <td>0.014535</td>\n",
       "      <td>0.998638</td>\n",
       "      <td>00:09</td>\n",
       "    </tr>\n",
       "  </tbody>\n",
       "</table>"
      ],
      "text/plain": [
       "<IPython.core.display.HTML object>"
      ]
     },
     "metadata": {},
     "output_type": "display_data"
    },
    {
     "name": "stdout",
     "output_type": "stream",
     "text": [
      "Evaluation size => test:(4999, 512), train(15297, 512)\n",
      "Calculated distances in shape (4999, 15297)\n",
      "Testing CosFace for case #6\n"
     ]
    },
    {
     "data": {
      "text/html": [
       "Total time: 00:07 <p><table border=\"1\" class=\"dataframe\">\n",
       "  <thead>\n",
       "    <tr style=\"text-align: left;\">\n",
       "      <th>epoch</th>\n",
       "      <th>train_loss</th>\n",
       "      <th>valid_loss</th>\n",
       "      <th>accuracy</th>\n",
       "      <th>time</th>\n",
       "    </tr>\n",
       "  </thead>\n",
       "  <tbody>\n",
       "    <tr>\n",
       "      <td>0</td>\n",
       "      <td>3.045958</td>\n",
       "      <td>2.314700</td>\n",
       "      <td>0.822411</td>\n",
       "      <td>00:07</td>\n",
       "    </tr>\n",
       "  </tbody>\n",
       "</table>"
      ],
      "text/plain": [
       "<IPython.core.display.HTML object>"
      ]
     },
     "metadata": {},
     "output_type": "display_data"
    },
    {
     "data": {
      "text/html": [
       "Total time: 00:43 <p><table border=\"1\" class=\"dataframe\">\n",
       "  <thead>\n",
       "    <tr style=\"text-align: left;\">\n",
       "      <th>epoch</th>\n",
       "      <th>train_loss</th>\n",
       "      <th>valid_loss</th>\n",
       "      <th>accuracy</th>\n",
       "      <th>time</th>\n",
       "    </tr>\n",
       "  </thead>\n",
       "  <tbody>\n",
       "    <tr>\n",
       "      <td>0</td>\n",
       "      <td>0.526992</td>\n",
       "      <td>0.256332</td>\n",
       "      <td>0.987725</td>\n",
       "      <td>00:08</td>\n",
       "    </tr>\n",
       "    <tr>\n",
       "      <td>1</td>\n",
       "      <td>0.438796</td>\n",
       "      <td>0.173418</td>\n",
       "      <td>0.990497</td>\n",
       "      <td>00:08</td>\n",
       "    </tr>\n",
       "    <tr>\n",
       "      <td>2</td>\n",
       "      <td>0.235368</td>\n",
       "      <td>0.105136</td>\n",
       "      <td>0.994852</td>\n",
       "      <td>00:08</td>\n",
       "    </tr>\n",
       "    <tr>\n",
       "      <td>3</td>\n",
       "      <td>0.132831</td>\n",
       "      <td>0.087034</td>\n",
       "      <td>0.996238</td>\n",
       "      <td>00:08</td>\n",
       "    </tr>\n",
       "    <tr>\n",
       "      <td>4</td>\n",
       "      <td>0.076903</td>\n",
       "      <td>0.086887</td>\n",
       "      <td>0.995842</td>\n",
       "      <td>00:08</td>\n",
       "    </tr>\n",
       "  </tbody>\n",
       "</table>"
      ],
      "text/plain": [
       "<IPython.core.display.HTML object>"
      ]
     },
     "metadata": {},
     "output_type": "display_data"
    },
    {
     "name": "stdout",
     "output_type": "stream",
     "text": [
      "Evaluation size => test:(4999, 512), train(15046, 512)\n",
      "Calculated distances in shape (4999, 15046)\n",
      "Testing CosFace for case #7\n"
     ]
    },
    {
     "data": {
      "text/html": [
       "Total time: 00:07 <p><table border=\"1\" class=\"dataframe\">\n",
       "  <thead>\n",
       "    <tr style=\"text-align: left;\">\n",
       "      <th>epoch</th>\n",
       "      <th>train_loss</th>\n",
       "      <th>valid_loss</th>\n",
       "      <th>accuracy</th>\n",
       "      <th>time</th>\n",
       "    </tr>\n",
       "  </thead>\n",
       "  <tbody>\n",
       "    <tr>\n",
       "      <td>0</td>\n",
       "      <td>3.950852</td>\n",
       "      <td>3.226586</td>\n",
       "      <td>0.752975</td>\n",
       "      <td>00:07</td>\n",
       "    </tr>\n",
       "  </tbody>\n",
       "</table>"
      ],
      "text/plain": [
       "<IPython.core.display.HTML object>"
      ]
     },
     "metadata": {},
     "output_type": "display_data"
    },
    {
     "data": {
      "text/html": [
       "Total time: 00:42 <p><table border=\"1\" class=\"dataframe\">\n",
       "  <thead>\n",
       "    <tr style=\"text-align: left;\">\n",
       "      <th>epoch</th>\n",
       "      <th>train_loss</th>\n",
       "      <th>valid_loss</th>\n",
       "      <th>accuracy</th>\n",
       "      <th>time</th>\n",
       "    </tr>\n",
       "  </thead>\n",
       "  <tbody>\n",
       "    <tr>\n",
       "      <td>0</td>\n",
       "      <td>0.601210</td>\n",
       "      <td>0.369643</td>\n",
       "      <td>0.982355</td>\n",
       "      <td>00:08</td>\n",
       "    </tr>\n",
       "    <tr>\n",
       "      <td>1</td>\n",
       "      <td>0.363524</td>\n",
       "      <td>0.235293</td>\n",
       "      <td>0.990973</td>\n",
       "      <td>00:08</td>\n",
       "    </tr>\n",
       "    <tr>\n",
       "      <td>2</td>\n",
       "      <td>0.269430</td>\n",
       "      <td>0.123728</td>\n",
       "      <td>0.995076</td>\n",
       "      <td>00:08</td>\n",
       "    </tr>\n",
       "    <tr>\n",
       "      <td>3</td>\n",
       "      <td>0.163928</td>\n",
       "      <td>0.072531</td>\n",
       "      <td>0.996922</td>\n",
       "      <td>00:08</td>\n",
       "    </tr>\n",
       "    <tr>\n",
       "      <td>4</td>\n",
       "      <td>0.065083</td>\n",
       "      <td>0.066173</td>\n",
       "      <td>0.996307</td>\n",
       "      <td>00:08</td>\n",
       "    </tr>\n",
       "  </tbody>\n",
       "</table>"
      ],
      "text/plain": [
       "<IPython.core.display.HTML object>"
      ]
     },
     "metadata": {},
     "output_type": "display_data"
    },
    {
     "name": "stdout",
     "output_type": "stream",
     "text": [
      "Evaluation size => test:(4999, 512), train(14634, 512)\n",
      "Calculated distances in shape (4999, 14634)\n",
      "Testing CosFace for case #8\n"
     ]
    },
    {
     "data": {
      "text/html": [
       "Total time: 00:07 <p><table border=\"1\" class=\"dataframe\">\n",
       "  <thead>\n",
       "    <tr style=\"text-align: left;\">\n",
       "      <th>epoch</th>\n",
       "      <th>train_loss</th>\n",
       "      <th>valid_loss</th>\n",
       "      <th>accuracy</th>\n",
       "      <th>time</th>\n",
       "    </tr>\n",
       "  </thead>\n",
       "  <tbody>\n",
       "    <tr>\n",
       "      <td>0</td>\n",
       "      <td>3.455509</td>\n",
       "      <td>2.542813</td>\n",
       "      <td>0.813142</td>\n",
       "      <td>00:07</td>\n",
       "    </tr>\n",
       "  </tbody>\n",
       "</table>"
      ],
      "text/plain": [
       "<IPython.core.display.HTML object>"
      ]
     },
     "metadata": {},
     "output_type": "display_data"
    },
    {
     "data": {
      "text/html": [
       "Total time: 00:43 <p><table border=\"1\" class=\"dataframe\">\n",
       "  <thead>\n",
       "    <tr style=\"text-align: left;\">\n",
       "      <th>epoch</th>\n",
       "      <th>train_loss</th>\n",
       "      <th>valid_loss</th>\n",
       "      <th>accuracy</th>\n",
       "      <th>time</th>\n",
       "    </tr>\n",
       "  </thead>\n",
       "  <tbody>\n",
       "    <tr>\n",
       "      <td>0</td>\n",
       "      <td>0.628478</td>\n",
       "      <td>0.205925</td>\n",
       "      <td>0.988706</td>\n",
       "      <td>00:08</td>\n",
       "    </tr>\n",
       "    <tr>\n",
       "      <td>1</td>\n",
       "      <td>0.367757</td>\n",
       "      <td>0.286111</td>\n",
       "      <td>0.988296</td>\n",
       "      <td>00:08</td>\n",
       "    </tr>\n",
       "    <tr>\n",
       "      <td>2</td>\n",
       "      <td>0.246767</td>\n",
       "      <td>0.192650</td>\n",
       "      <td>0.992197</td>\n",
       "      <td>00:08</td>\n",
       "    </tr>\n",
       "    <tr>\n",
       "      <td>3</td>\n",
       "      <td>0.126186</td>\n",
       "      <td>0.103360</td>\n",
       "      <td>0.994661</td>\n",
       "      <td>00:08</td>\n",
       "    </tr>\n",
       "    <tr>\n",
       "      <td>4</td>\n",
       "      <td>0.085314</td>\n",
       "      <td>0.060797</td>\n",
       "      <td>0.997331</td>\n",
       "      <td>00:08</td>\n",
       "    </tr>\n",
       "  </tbody>\n",
       "</table>"
      ],
      "text/plain": [
       "<IPython.core.display.HTML object>"
      ]
     },
     "metadata": {},
     "output_type": "display_data"
    },
    {
     "name": "stdout",
     "output_type": "stream",
     "text": [
      "Evaluation size => test:(4999, 512), train(14787, 512)\n",
      "Calculated distances in shape (4999, 14787)\n",
      "Testing CosFace for case #9\n"
     ]
    },
    {
     "data": {
      "text/html": [
       "Total time: 00:07 <p><table border=\"1\" class=\"dataframe\">\n",
       "  <thead>\n",
       "    <tr style=\"text-align: left;\">\n",
       "      <th>epoch</th>\n",
       "      <th>train_loss</th>\n",
       "      <th>valid_loss</th>\n",
       "      <th>accuracy</th>\n",
       "      <th>time</th>\n",
       "    </tr>\n",
       "  </thead>\n",
       "  <tbody>\n",
       "    <tr>\n",
       "      <td>0</td>\n",
       "      <td>3.245581</td>\n",
       "      <td>2.449639</td>\n",
       "      <td>0.817336</td>\n",
       "      <td>00:07</td>\n",
       "    </tr>\n",
       "  </tbody>\n",
       "</table>"
      ],
      "text/plain": [
       "<IPython.core.display.HTML object>"
      ]
     },
     "metadata": {},
     "output_type": "display_data"
    },
    {
     "data": {
      "text/html": [
       "Total time: 00:42 <p><table border=\"1\" class=\"dataframe\">\n",
       "  <thead>\n",
       "    <tr style=\"text-align: left;\">\n",
       "      <th>epoch</th>\n",
       "      <th>train_loss</th>\n",
       "      <th>valid_loss</th>\n",
       "      <th>accuracy</th>\n",
       "      <th>time</th>\n",
       "    </tr>\n",
       "  </thead>\n",
       "  <tbody>\n",
       "    <tr>\n",
       "      <td>0</td>\n",
       "      <td>0.748256</td>\n",
       "      <td>0.210349</td>\n",
       "      <td>0.988622</td>\n",
       "      <td>00:08</td>\n",
       "    </tr>\n",
       "    <tr>\n",
       "      <td>1</td>\n",
       "      <td>0.528179</td>\n",
       "      <td>0.109050</td>\n",
       "      <td>0.994208</td>\n",
       "      <td>00:08</td>\n",
       "    </tr>\n",
       "    <tr>\n",
       "      <td>2</td>\n",
       "      <td>0.303574</td>\n",
       "      <td>0.145156</td>\n",
       "      <td>0.993587</td>\n",
       "      <td>00:08</td>\n",
       "    </tr>\n",
       "    <tr>\n",
       "      <td>3</td>\n",
       "      <td>0.147584</td>\n",
       "      <td>0.069559</td>\n",
       "      <td>0.996690</td>\n",
       "      <td>00:08</td>\n",
       "    </tr>\n",
       "    <tr>\n",
       "      <td>4</td>\n",
       "      <td>0.094074</td>\n",
       "      <td>0.055122</td>\n",
       "      <td>0.997311</td>\n",
       "      <td>00:08</td>\n",
       "    </tr>\n",
       "  </tbody>\n",
       "</table>"
      ],
      "text/plain": [
       "<IPython.core.display.HTML object>"
      ]
     },
     "metadata": {},
     "output_type": "display_data"
    },
    {
     "name": "stdout",
     "output_type": "stream",
     "text": [
      "Evaluation size => test:(4999, 512), train(14647, 512)\n",
      "Calculated distances in shape (4999, 14647)\n"
     ]
    }
   ],
   "source": [
    "toytest.do_tests('CosFace', learner_CosFace)"
   ]
  },
  {
   "cell_type": "markdown",
   "metadata": {},
   "source": [
    "## 5. SphereFace\n",
    "\n",
    "- W. Liu, Y. Wen, Z. Yu, M. Li, B. Raj, and L. Song. SphereFace: Deep Hypersphere Embedding for Face Recognition. In CVPR, 2017. https://arxiv.org/pdf/1704.08063.pdf\n",
    "- Pytorch implementation: https://github.com/ronghuaiyang/arcface-pytorch"
   ]
  },
  {
   "cell_type": "code",
   "execution_count": 14,
   "metadata": {},
   "outputs": [
    {
     "data": {
      "text/html": [
       "Total time: 00:15 <p><table border=\"1\" class=\"dataframe\">\n",
       "  <thead>\n",
       "    <tr style=\"text-align: left;\">\n",
       "      <th>epoch</th>\n",
       "      <th>train_loss</th>\n",
       "      <th>valid_loss</th>\n",
       "      <th>accuracy</th>\n",
       "      <th>time</th>\n",
       "    </tr>\n",
       "  </thead>\n",
       "  <tbody>\n",
       "    <tr>\n",
       "      <td>0</td>\n",
       "      <td>1.071929</td>\n",
       "      <td>0.698812</td>\n",
       "      <td>0.812300</td>\n",
       "      <td>00:15</td>\n",
       "    </tr>\n",
       "  </tbody>\n",
       "</table>"
      ],
      "text/plain": [
       "<IPython.core.display.HTML object>"
      ]
     },
     "metadata": {},
     "output_type": "display_data"
    },
    {
     "data": {
      "text/html": [
       "Total time: 01:27 <p><table border=\"1\" class=\"dataframe\">\n",
       "  <thead>\n",
       "    <tr style=\"text-align: left;\">\n",
       "      <th>epoch</th>\n",
       "      <th>train_loss</th>\n",
       "      <th>valid_loss</th>\n",
       "      <th>accuracy</th>\n",
       "      <th>time</th>\n",
       "    </tr>\n",
       "  </thead>\n",
       "  <tbody>\n",
       "    <tr>\n",
       "      <td>0</td>\n",
       "      <td>0.325848</td>\n",
       "      <td>0.079994</td>\n",
       "      <td>0.982200</td>\n",
       "      <td>00:17</td>\n",
       "    </tr>\n",
       "    <tr>\n",
       "      <td>1</td>\n",
       "      <td>0.216289</td>\n",
       "      <td>0.059656</td>\n",
       "      <td>0.990200</td>\n",
       "      <td>00:17</td>\n",
       "    </tr>\n",
       "    <tr>\n",
       "      <td>2</td>\n",
       "      <td>0.118580</td>\n",
       "      <td>0.050233</td>\n",
       "      <td>0.991600</td>\n",
       "      <td>00:17</td>\n",
       "    </tr>\n",
       "    <tr>\n",
       "      <td>3</td>\n",
       "      <td>0.076749</td>\n",
       "      <td>0.030517</td>\n",
       "      <td>0.995400</td>\n",
       "      <td>00:17</td>\n",
       "    </tr>\n",
       "    <tr>\n",
       "      <td>4</td>\n",
       "      <td>0.061022</td>\n",
       "      <td>0.026048</td>\n",
       "      <td>0.995600</td>\n",
       "      <td>00:17</td>\n",
       "    </tr>\n",
       "  </tbody>\n",
       "</table>"
      ],
      "text/plain": [
       "<IPython.core.display.HTML object>"
      ]
     },
     "metadata": {},
     "output_type": "display_data"
    },
    {
     "data": {
      "image/png": "[encoded data removed]",
      "text/plain": [
       "<Figure size 432x288 with 2 Axes>"
      ]
     },
     "metadata": {},
     "output_type": "display_data"
    }
   ],
   "source": [
    "def learner_SphereFace(train_data):\n",
    "    learn = cnn_learner(train_data, models.resnet18, metrics=accuracy)\n",
    "    learn.model = XFaceNet(learn.model, train_data, SphereProduct, m=int(4))\n",
    "    learn.callback_fns.append(partial(LabelCatcher))\n",
    "    learn.fit_one_cycle(1)\n",
    "    learn.unfreeze()\n",
    "    learn.fit_one_cycle(5)\n",
    "    return learn\n",
    "\n",
    "if VISUALIZE_EMBEDDINGS:\n",
    "    visualize_embeddings(learner_SphereFace(all_data), 'SphereFace (t-SNE)')"
   ]
  },
  {
   "cell_type": "code",
   "execution_count": 15,
   "metadata": {},
   "outputs": [
    {
     "name": "stdout",
     "output_type": "stream",
     "text": [
      "Testing ShpereFace for case #0\n"
     ]
    },
    {
     "data": {
      "text/html": [
       "Total time: 00:07 <p><table border=\"1\" class=\"dataframe\">\n",
       "  <thead>\n",
       "    <tr style=\"text-align: left;\">\n",
       "      <th>epoch</th>\n",
       "      <th>train_loss</th>\n",
       "      <th>valid_loss</th>\n",
       "      <th>accuracy</th>\n",
       "      <th>time</th>\n",
       "    </tr>\n",
       "  </thead>\n",
       "  <tbody>\n",
       "    <tr>\n",
       "      <td>0</td>\n",
       "      <td>0.824386</td>\n",
       "      <td>0.660282</td>\n",
       "      <td>0.786258</td>\n",
       "      <td>00:07</td>\n",
       "    </tr>\n",
       "  </tbody>\n",
       "</table>"
      ],
      "text/plain": [
       "<IPython.core.display.HTML object>"
      ]
     },
     "metadata": {},
     "output_type": "display_data"
    },
    {
     "data": {
      "text/html": [
       "Total time: 00:51 <p><table border=\"1\" class=\"dataframe\">\n",
       "  <thead>\n",
       "    <tr style=\"text-align: left;\">\n",
       "      <th>epoch</th>\n",
       "      <th>train_loss</th>\n",
       "      <th>valid_loss</th>\n",
       "      <th>accuracy</th>\n",
       "      <th>time</th>\n",
       "    </tr>\n",
       "  </thead>\n",
       "  <tbody>\n",
       "    <tr>\n",
       "      <td>0</td>\n",
       "      <td>0.190823</td>\n",
       "      <td>0.056351</td>\n",
       "      <td>0.986628</td>\n",
       "      <td>00:08</td>\n",
       "    </tr>\n",
       "    <tr>\n",
       "      <td>1</td>\n",
       "      <td>0.116742</td>\n",
       "      <td>0.022498</td>\n",
       "      <td>0.995474</td>\n",
       "      <td>00:08</td>\n",
       "    </tr>\n",
       "    <tr>\n",
       "      <td>2</td>\n",
       "      <td>0.070089</td>\n",
       "      <td>0.031521</td>\n",
       "      <td>0.993211</td>\n",
       "      <td>00:08</td>\n",
       "    </tr>\n",
       "    <tr>\n",
       "      <td>3</td>\n",
       "      <td>0.059925</td>\n",
       "      <td>0.014341</td>\n",
       "      <td>0.997737</td>\n",
       "      <td>00:08</td>\n",
       "    </tr>\n",
       "    <tr>\n",
       "      <td>4</td>\n",
       "      <td>0.028171</td>\n",
       "      <td>0.012503</td>\n",
       "      <td>0.997531</td>\n",
       "      <td>00:15</td>\n",
       "    </tr>\n",
       "  </tbody>\n",
       "</table>"
      ],
      "text/plain": [
       "<IPython.core.display.HTML object>"
      ]
     },
     "metadata": {},
     "output_type": "display_data"
    },
    {
     "name": "stdout",
     "output_type": "stream",
     "text": [
      "Evaluation size => test:(4999, 512), train(14700, 512)\n",
      "Calculated distances in shape (4999, 14700)\n",
      "Testing ShpereFace for case #1\n"
     ]
    },
    {
     "data": {
      "text/html": [
       "Total time: 00:07 <p><table border=\"1\" class=\"dataframe\">\n",
       "  <thead>\n",
       "    <tr style=\"text-align: left;\">\n",
       "      <th>epoch</th>\n",
       "      <th>train_loss</th>\n",
       "      <th>valid_loss</th>\n",
       "      <th>accuracy</th>\n",
       "      <th>time</th>\n",
       "    </tr>\n",
       "  </thead>\n",
       "  <tbody>\n",
       "    <tr>\n",
       "      <td>0</td>\n",
       "      <td>0.816584</td>\n",
       "      <td>0.628059</td>\n",
       "      <td>0.808244</td>\n",
       "      <td>00:07</td>\n",
       "    </tr>\n",
       "  </tbody>\n",
       "</table>"
      ],
      "text/plain": [
       "<IPython.core.display.HTML object>"
      ]
     },
     "metadata": {},
     "output_type": "display_data"
    },
    {
     "data": {
      "text/html": [
       "Total time: 00:45 <p><table border=\"1\" class=\"dataframe\">\n",
       "  <thead>\n",
       "    <tr style=\"text-align: left;\">\n",
       "      <th>epoch</th>\n",
       "      <th>train_loss</th>\n",
       "      <th>valid_loss</th>\n",
       "      <th>accuracy</th>\n",
       "      <th>time</th>\n",
       "    </tr>\n",
       "  </thead>\n",
       "  <tbody>\n",
       "    <tr>\n",
       "      <td>0</td>\n",
       "      <td>0.169932</td>\n",
       "      <td>0.092234</td>\n",
       "      <td>0.976359</td>\n",
       "      <td>00:08</td>\n",
       "    </tr>\n",
       "    <tr>\n",
       "      <td>1</td>\n",
       "      <td>0.117572</td>\n",
       "      <td>0.093006</td>\n",
       "      <td>0.981208</td>\n",
       "      <td>00:08</td>\n",
       "    </tr>\n",
       "    <tr>\n",
       "      <td>2</td>\n",
       "      <td>0.071247</td>\n",
       "      <td>0.024160</td>\n",
       "      <td>0.995959</td>\n",
       "      <td>00:09</td>\n",
       "    </tr>\n",
       "    <tr>\n",
       "      <td>3</td>\n",
       "      <td>0.043188</td>\n",
       "      <td>0.017194</td>\n",
       "      <td>0.996767</td>\n",
       "      <td>00:09</td>\n",
       "    </tr>\n",
       "    <tr>\n",
       "      <td>4</td>\n",
       "      <td>0.027727</td>\n",
       "      <td>0.011353</td>\n",
       "      <td>0.997979</td>\n",
       "      <td>00:08</td>\n",
       "    </tr>\n",
       "  </tbody>\n",
       "</table>"
      ],
      "text/plain": [
       "<IPython.core.display.HTML object>"
      ]
     },
     "metadata": {},
     "output_type": "display_data"
    },
    {
     "name": "stdout",
     "output_type": "stream",
     "text": [
      "Evaluation size => test:(4999, 512), train(14951, 512)\n",
      "Calculated distances in shape (4999, 14951)\n",
      "Testing ShpereFace for case #2\n"
     ]
    },
    {
     "data": {
      "text/html": [
       "Total time: 00:08 <p><table border=\"1\" class=\"dataframe\">\n",
       "  <thead>\n",
       "    <tr style=\"text-align: left;\">\n",
       "      <th>epoch</th>\n",
       "      <th>train_loss</th>\n",
       "      <th>valid_loss</th>\n",
       "      <th>accuracy</th>\n",
       "      <th>time</th>\n",
       "    </tr>\n",
       "  </thead>\n",
       "  <tbody>\n",
       "    <tr>\n",
       "      <td>0</td>\n",
       "      <td>0.635780</td>\n",
       "      <td>0.482818</td>\n",
       "      <td>0.838471</td>\n",
       "      <td>00:08</td>\n",
       "    </tr>\n",
       "  </tbody>\n",
       "</table>"
      ],
      "text/plain": [
       "<IPython.core.display.HTML object>"
      ]
     },
     "metadata": {},
     "output_type": "display_data"
    },
    {
     "data": {
      "text/html": [
       "Total time: 00:45 <p><table border=\"1\" class=\"dataframe\">\n",
       "  <thead>\n",
       "    <tr style=\"text-align: left;\">\n",
       "      <th>epoch</th>\n",
       "      <th>train_loss</th>\n",
       "      <th>valid_loss</th>\n",
       "      <th>accuracy</th>\n",
       "      <th>time</th>\n",
       "    </tr>\n",
       "  </thead>\n",
       "  <tbody>\n",
       "    <tr>\n",
       "      <td>0</td>\n",
       "      <td>0.154796</td>\n",
       "      <td>0.057658</td>\n",
       "      <td>0.988490</td>\n",
       "      <td>00:09</td>\n",
       "    </tr>\n",
       "    <tr>\n",
       "      <td>1</td>\n",
       "      <td>0.099743</td>\n",
       "      <td>0.063084</td>\n",
       "      <td>0.984003</td>\n",
       "      <td>00:09</td>\n",
       "    </tr>\n",
       "    <tr>\n",
       "      <td>2</td>\n",
       "      <td>0.066571</td>\n",
       "      <td>0.026096</td>\n",
       "      <td>0.995513</td>\n",
       "      <td>00:09</td>\n",
       "    </tr>\n",
       "    <tr>\n",
       "      <td>3</td>\n",
       "      <td>0.035799</td>\n",
       "      <td>0.011654</td>\n",
       "      <td>0.996489</td>\n",
       "      <td>00:09</td>\n",
       "    </tr>\n",
       "    <tr>\n",
       "      <td>4</td>\n",
       "      <td>0.022288</td>\n",
       "      <td>0.013045</td>\n",
       "      <td>0.997269</td>\n",
       "      <td>00:09</td>\n",
       "    </tr>\n",
       "  </tbody>\n",
       "</table>"
      ],
      "text/plain": [
       "<IPython.core.display.HTML object>"
      ]
     },
     "metadata": {},
     "output_type": "display_data"
    },
    {
     "name": "stdout",
     "output_type": "stream",
     "text": [
      "Evaluation size => test:(4999, 512), train(15363, 512)\n",
      "Calculated distances in shape (4999, 15363)\n",
      "Testing ShpereFace for case #3\n"
     ]
    },
    {
     "data": {
      "text/html": [
       "Total time: 00:07 <p><table border=\"1\" class=\"dataframe\">\n",
       "  <thead>\n",
       "    <tr style=\"text-align: left;\">\n",
       "      <th>epoch</th>\n",
       "      <th>train_loss</th>\n",
       "      <th>valid_loss</th>\n",
       "      <th>accuracy</th>\n",
       "      <th>time</th>\n",
       "    </tr>\n",
       "  </thead>\n",
       "  <tbody>\n",
       "    <tr>\n",
       "      <td>0</td>\n",
       "      <td>0.697588</td>\n",
       "      <td>0.518954</td>\n",
       "      <td>0.842495</td>\n",
       "      <td>00:07</td>\n",
       "    </tr>\n",
       "  </tbody>\n",
       "</table>"
      ],
      "text/plain": [
       "<IPython.core.display.HTML object>"
      ]
     },
     "metadata": {},
     "output_type": "display_data"
    },
    {
     "data": {
      "text/html": [
       "Total time: 00:45 <p><table border=\"1\" class=\"dataframe\">\n",
       "  <thead>\n",
       "    <tr style=\"text-align: left;\">\n",
       "      <th>epoch</th>\n",
       "      <th>train_loss</th>\n",
       "      <th>valid_loss</th>\n",
       "      <th>accuracy</th>\n",
       "      <th>time</th>\n",
       "    </tr>\n",
       "  </thead>\n",
       "  <tbody>\n",
       "    <tr>\n",
       "      <td>0</td>\n",
       "      <td>0.154035</td>\n",
       "      <td>0.061965</td>\n",
       "      <td>0.985770</td>\n",
       "      <td>00:09</td>\n",
       "    </tr>\n",
       "    <tr>\n",
       "      <td>1</td>\n",
       "      <td>0.100069</td>\n",
       "      <td>0.022665</td>\n",
       "      <td>0.994347</td>\n",
       "      <td>00:09</td>\n",
       "    </tr>\n",
       "    <tr>\n",
       "      <td>2</td>\n",
       "      <td>0.055642</td>\n",
       "      <td>0.020553</td>\n",
       "      <td>0.997076</td>\n",
       "      <td>00:09</td>\n",
       "    </tr>\n",
       "    <tr>\n",
       "      <td>3</td>\n",
       "      <td>0.043283</td>\n",
       "      <td>0.013669</td>\n",
       "      <td>0.997661</td>\n",
       "      <td>00:09</td>\n",
       "    </tr>\n",
       "    <tr>\n",
       "      <td>4</td>\n",
       "      <td>0.018693</td>\n",
       "      <td>0.009226</td>\n",
       "      <td>0.998441</td>\n",
       "      <td>00:09</td>\n",
       "    </tr>\n",
       "  </tbody>\n",
       "</table>"
      ],
      "text/plain": [
       "<IPython.core.display.HTML object>"
      ]
     },
     "metadata": {},
     "output_type": "display_data"
    },
    {
     "name": "stdout",
     "output_type": "stream",
     "text": [
      "Evaluation size => test:(4999, 512), train(15210, 512)\n",
      "Calculated distances in shape (4999, 15210)\n",
      "Testing ShpereFace for case #4\n"
     ]
    },
    {
     "data": {
      "text/html": [
       "Total time: 00:08 <p><table border=\"1\" class=\"dataframe\">\n",
       "  <thead>\n",
       "    <tr style=\"text-align: left;\">\n",
       "      <th>epoch</th>\n",
       "      <th>train_loss</th>\n",
       "      <th>valid_loss</th>\n",
       "      <th>accuracy</th>\n",
       "      <th>time</th>\n",
       "    </tr>\n",
       "  </thead>\n",
       "  <tbody>\n",
       "    <tr>\n",
       "      <td>0</td>\n",
       "      <td>0.609177</td>\n",
       "      <td>0.418574</td>\n",
       "      <td>0.867596</td>\n",
       "      <td>00:08</td>\n",
       "    </tr>\n",
       "  </tbody>\n",
       "</table>"
      ],
      "text/plain": [
       "<IPython.core.display.HTML object>"
      ]
     },
     "metadata": {},
     "output_type": "display_data"
    },
    {
     "data": {
      "text/html": [
       "Total time: 00:45 <p><table border=\"1\" class=\"dataframe\">\n",
       "  <thead>\n",
       "    <tr style=\"text-align: left;\">\n",
       "      <th>epoch</th>\n",
       "      <th>train_loss</th>\n",
       "      <th>valid_loss</th>\n",
       "      <th>accuracy</th>\n",
       "      <th>time</th>\n",
       "    </tr>\n",
       "  </thead>\n",
       "  <tbody>\n",
       "    <tr>\n",
       "      <td>0</td>\n",
       "      <td>0.124987</td>\n",
       "      <td>0.041208</td>\n",
       "      <td>0.989353</td>\n",
       "      <td>00:09</td>\n",
       "    </tr>\n",
       "    <tr>\n",
       "      <td>1</td>\n",
       "      <td>0.104762</td>\n",
       "      <td>0.046920</td>\n",
       "      <td>0.989160</td>\n",
       "      <td>00:09</td>\n",
       "    </tr>\n",
       "    <tr>\n",
       "      <td>2</td>\n",
       "      <td>0.053426</td>\n",
       "      <td>0.010343</td>\n",
       "      <td>0.996709</td>\n",
       "      <td>00:09</td>\n",
       "    </tr>\n",
       "    <tr>\n",
       "      <td>3</td>\n",
       "      <td>0.027815</td>\n",
       "      <td>0.005051</td>\n",
       "      <td>0.998258</td>\n",
       "      <td>00:09</td>\n",
       "    </tr>\n",
       "    <tr>\n",
       "      <td>4</td>\n",
       "      <td>0.016935</td>\n",
       "      <td>0.005704</td>\n",
       "      <td>0.998258</td>\n",
       "      <td>00:09</td>\n",
       "    </tr>\n",
       "  </tbody>\n",
       "</table>"
      ],
      "text/plain": [
       "<IPython.core.display.HTML object>"
      ]
     },
     "metadata": {},
     "output_type": "display_data"
    },
    {
     "name": "stdout",
     "output_type": "stream",
     "text": [
      "Evaluation size => test:(4999, 512), train(15350, 512)\n",
      "Calculated distances in shape (4999, 15350)\n",
      "Testing ShpereFace for case #5\n"
     ]
    },
    {
     "data": {
      "text/html": [
       "Total time: 00:07 <p><table border=\"1\" class=\"dataframe\">\n",
       "  <thead>\n",
       "    <tr style=\"text-align: left;\">\n",
       "      <th>epoch</th>\n",
       "      <th>train_loss</th>\n",
       "      <th>valid_loss</th>\n",
       "      <th>accuracy</th>\n",
       "      <th>time</th>\n",
       "    </tr>\n",
       "  </thead>\n",
       "  <tbody>\n",
       "    <tr>\n",
       "      <td>0</td>\n",
       "      <td>0.503620</td>\n",
       "      <td>0.352827</td>\n",
       "      <td>0.895505</td>\n",
       "      <td>00:07</td>\n",
       "    </tr>\n",
       "  </tbody>\n",
       "</table>"
      ],
      "text/plain": [
       "<IPython.core.display.HTML object>"
      ]
     },
     "metadata": {},
     "output_type": "display_data"
    },
    {
     "data": {
      "text/html": [
       "Total time: 00:45 <p><table border=\"1\" class=\"dataframe\">\n",
       "  <thead>\n",
       "    <tr style=\"text-align: left;\">\n",
       "      <th>epoch</th>\n",
       "      <th>train_loss</th>\n",
       "      <th>valid_loss</th>\n",
       "      <th>accuracy</th>\n",
       "      <th>time</th>\n",
       "    </tr>\n",
       "  </thead>\n",
       "  <tbody>\n",
       "    <tr>\n",
       "      <td>0</td>\n",
       "      <td>0.118289</td>\n",
       "      <td>0.037356</td>\n",
       "      <td>0.992800</td>\n",
       "      <td>00:09</td>\n",
       "    </tr>\n",
       "    <tr>\n",
       "      <td>1</td>\n",
       "      <td>0.095943</td>\n",
       "      <td>0.023177</td>\n",
       "      <td>0.996497</td>\n",
       "      <td>00:09</td>\n",
       "    </tr>\n",
       "    <tr>\n",
       "      <td>2</td>\n",
       "      <td>0.029289</td>\n",
       "      <td>0.004228</td>\n",
       "      <td>0.999222</td>\n",
       "      <td>00:09</td>\n",
       "    </tr>\n",
       "    <tr>\n",
       "      <td>3</td>\n",
       "      <td>0.022646</td>\n",
       "      <td>0.005792</td>\n",
       "      <td>0.999027</td>\n",
       "      <td>00:09</td>\n",
       "    </tr>\n",
       "    <tr>\n",
       "      <td>4</td>\n",
       "      <td>0.009641</td>\n",
       "      <td>0.004267</td>\n",
       "      <td>0.998832</td>\n",
       "      <td>00:09</td>\n",
       "    </tr>\n",
       "  </tbody>\n",
       "</table>"
      ],
      "text/plain": [
       "<IPython.core.display.HTML object>"
      ]
     },
     "metadata": {},
     "output_type": "display_data"
    },
    {
     "name": "stdout",
     "output_type": "stream",
     "text": [
      "Evaluation size => test:(4999, 512), train(15297, 512)\n",
      "Calculated distances in shape (4999, 15297)\n",
      "Testing ShpereFace for case #6\n"
     ]
    },
    {
     "data": {
      "text/html": [
       "Total time: 00:07 <p><table border=\"1\" class=\"dataframe\">\n",
       "  <thead>\n",
       "    <tr style=\"text-align: left;\">\n",
       "      <th>epoch</th>\n",
       "      <th>train_loss</th>\n",
       "      <th>valid_loss</th>\n",
       "      <th>accuracy</th>\n",
       "      <th>time</th>\n",
       "    </tr>\n",
       "  </thead>\n",
       "  <tbody>\n",
       "    <tr>\n",
       "      <td>0</td>\n",
       "      <td>0.650653</td>\n",
       "      <td>0.477554</td>\n",
       "      <td>0.844783</td>\n",
       "      <td>00:07</td>\n",
       "    </tr>\n",
       "  </tbody>\n",
       "</table>"
      ],
      "text/plain": [
       "<IPython.core.display.HTML object>"
      ]
     },
     "metadata": {},
     "output_type": "display_data"
    },
    {
     "data": {
      "text/html": [
       "Total time: 00:45 <p><table border=\"1\" class=\"dataframe\">\n",
       "  <thead>\n",
       "    <tr style=\"text-align: left;\">\n",
       "      <th>epoch</th>\n",
       "      <th>train_loss</th>\n",
       "      <th>valid_loss</th>\n",
       "      <th>accuracy</th>\n",
       "      <th>time</th>\n",
       "    </tr>\n",
       "  </thead>\n",
       "  <tbody>\n",
       "    <tr>\n",
       "      <td>0</td>\n",
       "      <td>0.138589</td>\n",
       "      <td>0.053932</td>\n",
       "      <td>0.987527</td>\n",
       "      <td>00:09</td>\n",
       "    </tr>\n",
       "    <tr>\n",
       "      <td>1</td>\n",
       "      <td>0.103216</td>\n",
       "      <td>0.022173</td>\n",
       "      <td>0.995842</td>\n",
       "      <td>00:09</td>\n",
       "    </tr>\n",
       "    <tr>\n",
       "      <td>2</td>\n",
       "      <td>0.051380</td>\n",
       "      <td>0.016732</td>\n",
       "      <td>0.995842</td>\n",
       "      <td>00:09</td>\n",
       "    </tr>\n",
       "    <tr>\n",
       "      <td>3</td>\n",
       "      <td>0.039074</td>\n",
       "      <td>0.011001</td>\n",
       "      <td>0.996832</td>\n",
       "      <td>00:09</td>\n",
       "    </tr>\n",
       "    <tr>\n",
       "      <td>4</td>\n",
       "      <td>0.012878</td>\n",
       "      <td>0.009824</td>\n",
       "      <td>0.997426</td>\n",
       "      <td>00:09</td>\n",
       "    </tr>\n",
       "  </tbody>\n",
       "</table>"
      ],
      "text/plain": [
       "<IPython.core.display.HTML object>"
      ]
     },
     "metadata": {},
     "output_type": "display_data"
    },
    {
     "name": "stdout",
     "output_type": "stream",
     "text": [
      "Evaluation size => test:(4999, 512), train(15046, 512)\n",
      "Calculated distances in shape (4999, 15046)\n",
      "Testing ShpereFace for case #7\n"
     ]
    },
    {
     "data": {
      "text/html": [
       "Total time: 00:07 <p><table border=\"1\" class=\"dataframe\">\n",
       "  <thead>\n",
       "    <tr style=\"text-align: left;\">\n",
       "      <th>epoch</th>\n",
       "      <th>train_loss</th>\n",
       "      <th>valid_loss</th>\n",
       "      <th>accuracy</th>\n",
       "      <th>time</th>\n",
       "    </tr>\n",
       "  </thead>\n",
       "  <tbody>\n",
       "    <tr>\n",
       "      <td>0</td>\n",
       "      <td>0.820120</td>\n",
       "      <td>0.610590</td>\n",
       "      <td>0.792162</td>\n",
       "      <td>00:07</td>\n",
       "    </tr>\n",
       "  </tbody>\n",
       "</table>"
      ],
      "text/plain": [
       "<IPython.core.display.HTML object>"
      ]
     },
     "metadata": {},
     "output_type": "display_data"
    },
    {
     "data": {
      "text/html": [
       "Total time: 00:43 <p><table border=\"1\" class=\"dataframe\">\n",
       "  <thead>\n",
       "    <tr style=\"text-align: left;\">\n",
       "      <th>epoch</th>\n",
       "      <th>train_loss</th>\n",
       "      <th>valid_loss</th>\n",
       "      <th>accuracy</th>\n",
       "      <th>time</th>\n",
       "    </tr>\n",
       "  </thead>\n",
       "  <tbody>\n",
       "    <tr>\n",
       "      <td>0</td>\n",
       "      <td>0.126253</td>\n",
       "      <td>0.041209</td>\n",
       "      <td>0.990973</td>\n",
       "      <td>00:08</td>\n",
       "    </tr>\n",
       "    <tr>\n",
       "      <td>1</td>\n",
       "      <td>0.092352</td>\n",
       "      <td>0.034354</td>\n",
       "      <td>0.993229</td>\n",
       "      <td>00:08</td>\n",
       "    </tr>\n",
       "    <tr>\n",
       "      <td>2</td>\n",
       "      <td>0.073591</td>\n",
       "      <td>0.022526</td>\n",
       "      <td>0.995486</td>\n",
       "      <td>00:08</td>\n",
       "    </tr>\n",
       "    <tr>\n",
       "      <td>3</td>\n",
       "      <td>0.042415</td>\n",
       "      <td>0.016563</td>\n",
       "      <td>0.997743</td>\n",
       "      <td>00:08</td>\n",
       "    </tr>\n",
       "    <tr>\n",
       "      <td>4</td>\n",
       "      <td>0.020608</td>\n",
       "      <td>0.014040</td>\n",
       "      <td>0.997333</td>\n",
       "      <td>00:08</td>\n",
       "    </tr>\n",
       "  </tbody>\n",
       "</table>"
      ],
      "text/plain": [
       "<IPython.core.display.HTML object>"
      ]
     },
     "metadata": {},
     "output_type": "display_data"
    },
    {
     "name": "stdout",
     "output_type": "stream",
     "text": [
      "Evaluation size => test:(4999, 512), train(14634, 512)\n",
      "Calculated distances in shape (4999, 14634)\n",
      "Testing ShpereFace for case #8\n"
     ]
    },
    {
     "data": {
      "text/html": [
       "Total time: 00:07 <p><table border=\"1\" class=\"dataframe\">\n",
       "  <thead>\n",
       "    <tr style=\"text-align: left;\">\n",
       "      <th>epoch</th>\n",
       "      <th>train_loss</th>\n",
       "      <th>valid_loss</th>\n",
       "      <th>accuracy</th>\n",
       "      <th>time</th>\n",
       "    </tr>\n",
       "  </thead>\n",
       "  <tbody>\n",
       "    <tr>\n",
       "      <td>0</td>\n",
       "      <td>0.752206</td>\n",
       "      <td>0.547952</td>\n",
       "      <td>0.830185</td>\n",
       "      <td>00:07</td>\n",
       "    </tr>\n",
       "  </tbody>\n",
       "</table>"
      ],
      "text/plain": [
       "<IPython.core.display.HTML object>"
      ]
     },
     "metadata": {},
     "output_type": "display_data"
    },
    {
     "data": {
      "text/html": [
       "Total time: 00:44 <p><table border=\"1\" class=\"dataframe\">\n",
       "  <thead>\n",
       "    <tr style=\"text-align: left;\">\n",
       "      <th>epoch</th>\n",
       "      <th>train_loss</th>\n",
       "      <th>valid_loss</th>\n",
       "      <th>accuracy</th>\n",
       "      <th>time</th>\n",
       "    </tr>\n",
       "  </thead>\n",
       "  <tbody>\n",
       "    <tr>\n",
       "      <td>0</td>\n",
       "      <td>0.165384</td>\n",
       "      <td>0.060164</td>\n",
       "      <td>0.987474</td>\n",
       "      <td>00:08</td>\n",
       "    </tr>\n",
       "    <tr>\n",
       "      <td>1</td>\n",
       "      <td>0.089609</td>\n",
       "      <td>0.024440</td>\n",
       "      <td>0.994867</td>\n",
       "      <td>00:08</td>\n",
       "    </tr>\n",
       "    <tr>\n",
       "      <td>2</td>\n",
       "      <td>0.059819</td>\n",
       "      <td>0.017495</td>\n",
       "      <td>0.996304</td>\n",
       "      <td>00:08</td>\n",
       "    </tr>\n",
       "    <tr>\n",
       "      <td>3</td>\n",
       "      <td>0.038267</td>\n",
       "      <td>0.015046</td>\n",
       "      <td>0.997741</td>\n",
       "      <td>00:08</td>\n",
       "    </tr>\n",
       "    <tr>\n",
       "      <td>4</td>\n",
       "      <td>0.018879</td>\n",
       "      <td>0.009339</td>\n",
       "      <td>0.998357</td>\n",
       "      <td>00:08</td>\n",
       "    </tr>\n",
       "  </tbody>\n",
       "</table>"
      ],
      "text/plain": [
       "<IPython.core.display.HTML object>"
      ]
     },
     "metadata": {},
     "output_type": "display_data"
    },
    {
     "name": "stdout",
     "output_type": "stream",
     "text": [
      "Evaluation size => test:(4999, 512), train(14787, 512)\n",
      "Calculated distances in shape (4999, 14787)\n",
      "Testing ShpereFace for case #9\n"
     ]
    },
    {
     "data": {
      "text/html": [
       "Total time: 00:07 <p><table border=\"1\" class=\"dataframe\">\n",
       "  <thead>\n",
       "    <tr style=\"text-align: left;\">\n",
       "      <th>epoch</th>\n",
       "      <th>train_loss</th>\n",
       "      <th>valid_loss</th>\n",
       "      <th>accuracy</th>\n",
       "      <th>time</th>\n",
       "    </tr>\n",
       "  </thead>\n",
       "  <tbody>\n",
       "    <tr>\n",
       "      <td>0</td>\n",
       "      <td>0.738585</td>\n",
       "      <td>0.509220</td>\n",
       "      <td>0.846297</td>\n",
       "      <td>00:07</td>\n",
       "    </tr>\n",
       "  </tbody>\n",
       "</table>"
      ],
      "text/plain": [
       "<IPython.core.display.HTML object>"
      ]
     },
     "metadata": {},
     "output_type": "display_data"
    },
    {
     "data": {
      "text/html": [
       "Total time: 00:43 <p><table border=\"1\" class=\"dataframe\">\n",
       "  <thead>\n",
       "    <tr style=\"text-align: left;\">\n",
       "      <th>epoch</th>\n",
       "      <th>train_loss</th>\n",
       "      <th>valid_loss</th>\n",
       "      <th>accuracy</th>\n",
       "      <th>time</th>\n",
       "    </tr>\n",
       "  </thead>\n",
       "  <tbody>\n",
       "    <tr>\n",
       "      <td>0</td>\n",
       "      <td>0.148623</td>\n",
       "      <td>0.042473</td>\n",
       "      <td>0.990898</td>\n",
       "      <td>00:08</td>\n",
       "    </tr>\n",
       "    <tr>\n",
       "      <td>1</td>\n",
       "      <td>0.096466</td>\n",
       "      <td>0.024881</td>\n",
       "      <td>0.993794</td>\n",
       "      <td>00:08</td>\n",
       "    </tr>\n",
       "    <tr>\n",
       "      <td>2</td>\n",
       "      <td>0.067305</td>\n",
       "      <td>0.018006</td>\n",
       "      <td>0.996276</td>\n",
       "      <td>00:08</td>\n",
       "    </tr>\n",
       "    <tr>\n",
       "      <td>3</td>\n",
       "      <td>0.034730</td>\n",
       "      <td>0.011190</td>\n",
       "      <td>0.997518</td>\n",
       "      <td>00:08</td>\n",
       "    </tr>\n",
       "    <tr>\n",
       "      <td>4</td>\n",
       "      <td>0.015604</td>\n",
       "      <td>0.010170</td>\n",
       "      <td>0.998138</td>\n",
       "      <td>00:08</td>\n",
       "    </tr>\n",
       "  </tbody>\n",
       "</table>"
      ],
      "text/plain": [
       "<IPython.core.display.HTML object>"
      ]
     },
     "metadata": {},
     "output_type": "display_data"
    },
    {
     "name": "stdout",
     "output_type": "stream",
     "text": [
      "Evaluation size => test:(4999, 512), train(14647, 512)\n",
      "Calculated distances in shape (4999, 14647)\n"
     ]
    }
   ],
   "source": [
    "toytest.do_tests('ShpereFace', learner_SphereFace)"
   ]
  },
  {
   "cell_type": "markdown",
   "metadata": {},
   "source": [
    "## 6. Center Loss\n",
    "\n",
    "- Y. Wen, K. Zhang, Z. Li, and Y. Qiao, A discriminative feature learning approach for deep face recognition,” in European Conference on Computer Vision. Springer, 2016, pp. 499–515. https://ydwen.github.io/papers/WenECCV16.pdf\n",
    "- Pytorch implementation: https://github.com/KaiyangZhou/pytorch-center-loss"
   ]
  },
  {
   "cell_type": "code",
   "execution_count": 16,
   "metadata": {},
   "outputs": [],
   "source": [
    "try:\n",
    "    from center_loss import *\n",
    "except:\n",
    "    ! wget https://raw.githubusercontent.com/KaiyangZhou/pytorch-center-loss/master/center_loss.py\n",
    "    from center_loss import *"
   ]
  },
  {
   "cell_type": "code",
   "execution_count": 17,
   "metadata": {},
   "outputs": [
    {
     "data": {
      "text/html": [
       "Total time: 00:14 <p><table border=\"1\" class=\"dataframe\">\n",
       "  <thead>\n",
       "    <tr style=\"text-align: left;\">\n",
       "      <th>epoch</th>\n",
       "      <th>train_loss</th>\n",
       "      <th>valid_loss</th>\n",
       "      <th>accuracy</th>\n",
       "      <th>time</th>\n",
       "    </tr>\n",
       "  </thead>\n",
       "  <tbody>\n",
       "    <tr>\n",
       "      <td>0</td>\n",
       "      <td>2.207253</td>\n",
       "      <td>2.086369</td>\n",
       "      <td>0.783900</td>\n",
       "      <td>00:14</td>\n",
       "    </tr>\n",
       "  </tbody>\n",
       "</table>"
      ],
      "text/plain": [
       "<IPython.core.display.HTML object>"
      ]
     },
     "metadata": {},
     "output_type": "display_data"
    },
    {
     "data": {
      "text/html": [
       "Total time: 01:36 <p><table border=\"1\" class=\"dataframe\">\n",
       "  <thead>\n",
       "    <tr style=\"text-align: left;\">\n",
       "      <th>epoch</th>\n",
       "      <th>train_loss</th>\n",
       "      <th>valid_loss</th>\n",
       "      <th>accuracy</th>\n",
       "      <th>time</th>\n",
       "    </tr>\n",
       "  </thead>\n",
       "  <tbody>\n",
       "    <tr>\n",
       "      <td>0</td>\n",
       "      <td>1.648287</td>\n",
       "      <td>1.544421</td>\n",
       "      <td>0.968900</td>\n",
       "      <td>00:16</td>\n",
       "    </tr>\n",
       "    <tr>\n",
       "      <td>1</td>\n",
       "      <td>1.619366</td>\n",
       "      <td>1.505929</td>\n",
       "      <td>0.986600</td>\n",
       "      <td>00:17</td>\n",
       "    </tr>\n",
       "    <tr>\n",
       "      <td>2</td>\n",
       "      <td>1.571209</td>\n",
       "      <td>1.489297</td>\n",
       "      <td>0.991800</td>\n",
       "      <td>00:20</td>\n",
       "    </tr>\n",
       "    <tr>\n",
       "      <td>3</td>\n",
       "      <td>1.545924</td>\n",
       "      <td>1.481111</td>\n",
       "      <td>0.994700</td>\n",
       "      <td>00:23</td>\n",
       "    </tr>\n",
       "    <tr>\n",
       "      <td>4</td>\n",
       "      <td>1.528375</td>\n",
       "      <td>1.480631</td>\n",
       "      <td>0.994500</td>\n",
       "      <td>00:17</td>\n",
       "    </tr>\n",
       "  </tbody>\n",
       "</table>"
      ],
      "text/plain": [
       "<IPython.core.display.HTML object>"
      ]
     },
     "metadata": {},
     "output_type": "display_data"
    },
    {
     "data": {
      "image/png": "[encoded data removed]",
      "text/plain": [
       "<Figure size 432x288 with 2 Axes>"
      ]
     },
     "metadata": {},
     "output_type": "display_data"
    }
   ],
   "source": [
    "class WrapCenterLoss(nn.Module):\n",
    "    \"CenterLoss wrapper for https://github.com/KaiyangZhou/pytorch-center-loss.\"\n",
    "    \n",
    "    def __init__(self, learn, data, weight_cent=1/10):\n",
    "        super().__init__()\n",
    "        self.org_loss = learn.loss_func\n",
    "        self.center_loss = CenterLoss(data.c, data.c)\n",
    "        self.weight_cent = weight_cent\n",
    "\n",
    "    def forward(self, output, target):\n",
    "        dL = self.org_loss(output, target)\n",
    "        dC = self.center_loss(output, target)\n",
    "        #print(dL, dC)\n",
    "        d = dL + self.weight_cent * dC\n",
    "        return d\n",
    "\n",
    "def learner_CenterLoss(train_data):\n",
    "    learn = cnn_learner(train_data, models.resnet18, metrics=accuracy)\n",
    "    learn.loss_func = WrapCenterLoss(learn, train_data, weight_cent=1/8) ## Hand tuned\n",
    "    learn.fit_one_cycle(1)\n",
    "    learn.unfreeze()\n",
    "    learn.fit_one_cycle(5)\n",
    "    return learn\n",
    "\n",
    "if VISUALIZE_EMBEDDINGS:\n",
    "    visualize_embeddings(learner_CenterLoss(all_data), 'CenterLoss (t-SNE)')"
   ]
  },
  {
   "cell_type": "code",
   "execution_count": 18,
   "metadata": {},
   "outputs": [
    {
     "name": "stdout",
     "output_type": "stream",
     "text": [
      "Testing CenterLoss for case #0\n"
     ]
    },
    {
     "data": {
      "text/html": [
       "Total time: 00:07 <p><table border=\"1\" class=\"dataframe\">\n",
       "  <thead>\n",
       "    <tr style=\"text-align: left;\">\n",
       "      <th>epoch</th>\n",
       "      <th>train_loss</th>\n",
       "      <th>valid_loss</th>\n",
       "      <th>accuracy</th>\n",
       "      <th>time</th>\n",
       "    </tr>\n",
       "  </thead>\n",
       "  <tbody>\n",
       "    <tr>\n",
       "      <td>0</td>\n",
       "      <td>1.537863</td>\n",
       "      <td>1.474262</td>\n",
       "      <td>0.742646</td>\n",
       "      <td>00:07</td>\n",
       "    </tr>\n",
       "  </tbody>\n",
       "</table>"
      ],
      "text/plain": [
       "<IPython.core.display.HTML object>"
      ]
     },
     "metadata": {},
     "output_type": "display_data"
    },
    {
     "data": {
      "text/html": [
       "Total time: 00:43 <p><table border=\"1\" class=\"dataframe\">\n",
       "  <thead>\n",
       "    <tr style=\"text-align: left;\">\n",
       "      <th>epoch</th>\n",
       "      <th>train_loss</th>\n",
       "      <th>valid_loss</th>\n",
       "      <th>accuracy</th>\n",
       "      <th>time</th>\n",
       "    </tr>\n",
       "  </thead>\n",
       "  <tbody>\n",
       "    <tr>\n",
       "      <td>0</td>\n",
       "      <td>1.224411</td>\n",
       "      <td>1.172602</td>\n",
       "      <td>0.983748</td>\n",
       "      <td>00:08</td>\n",
       "    </tr>\n",
       "    <tr>\n",
       "      <td>1</td>\n",
       "      <td>1.194476</td>\n",
       "      <td>1.164157</td>\n",
       "      <td>0.988891</td>\n",
       "      <td>00:08</td>\n",
       "    </tr>\n",
       "    <tr>\n",
       "      <td>2</td>\n",
       "      <td>1.198150</td>\n",
       "      <td>1.155253</td>\n",
       "      <td>0.996709</td>\n",
       "      <td>00:08</td>\n",
       "    </tr>\n",
       "    <tr>\n",
       "      <td>3</td>\n",
       "      <td>1.173543</td>\n",
       "      <td>1.152193</td>\n",
       "      <td>0.998149</td>\n",
       "      <td>00:08</td>\n",
       "    </tr>\n",
       "    <tr>\n",
       "      <td>4</td>\n",
       "      <td>1.169038</td>\n",
       "      <td>1.151760</td>\n",
       "      <td>0.997943</td>\n",
       "      <td>00:08</td>\n",
       "    </tr>\n",
       "  </tbody>\n",
       "</table>"
      ],
      "text/plain": [
       "<IPython.core.display.HTML object>"
      ]
     },
     "metadata": {},
     "output_type": "display_data"
    },
    {
     "name": "stdout",
     "output_type": "stream",
     "text": [
      "Evaluation size => test:(4999, 512), train(14700, 512)\n",
      "Calculated distances in shape (4999, 14700)\n",
      "Testing CenterLoss for case #1\n"
     ]
    },
    {
     "data": {
      "text/html": [
       "Total time: 00:07 <p><table border=\"1\" class=\"dataframe\">\n",
       "  <thead>\n",
       "    <tr style=\"text-align: left;\">\n",
       "      <th>epoch</th>\n",
       "      <th>train_loss</th>\n",
       "      <th>valid_loss</th>\n",
       "      <th>accuracy</th>\n",
       "      <th>time</th>\n",
       "    </tr>\n",
       "  </thead>\n",
       "  <tbody>\n",
       "    <tr>\n",
       "      <td>0</td>\n",
       "      <td>1.635409</td>\n",
       "      <td>1.577544</td>\n",
       "      <td>0.648010</td>\n",
       "      <td>00:07</td>\n",
       "    </tr>\n",
       "  </tbody>\n",
       "</table>"
      ],
      "text/plain": [
       "<IPython.core.display.HTML object>"
      ]
     },
     "metadata": {},
     "output_type": "display_data"
    },
    {
     "data": {
      "text/html": [
       "Total time: 00:43 <p><table border=\"1\" class=\"dataframe\">\n",
       "  <thead>\n",
       "    <tr style=\"text-align: left;\">\n",
       "      <th>epoch</th>\n",
       "      <th>train_loss</th>\n",
       "      <th>valid_loss</th>\n",
       "      <th>accuracy</th>\n",
       "      <th>time</th>\n",
       "    </tr>\n",
       "  </thead>\n",
       "  <tbody>\n",
       "    <tr>\n",
       "      <td>0</td>\n",
       "      <td>1.252354</td>\n",
       "      <td>1.195685</td>\n",
       "      <td>0.968883</td>\n",
       "      <td>00:08</td>\n",
       "    </tr>\n",
       "    <tr>\n",
       "      <td>1</td>\n",
       "      <td>1.219798</td>\n",
       "      <td>1.184215</td>\n",
       "      <td>0.797333</td>\n",
       "      <td>00:08</td>\n",
       "    </tr>\n",
       "    <tr>\n",
       "      <td>2</td>\n",
       "      <td>1.215310</td>\n",
       "      <td>1.177713</td>\n",
       "      <td>0.798545</td>\n",
       "      <td>00:08</td>\n",
       "    </tr>\n",
       "    <tr>\n",
       "      <td>3</td>\n",
       "      <td>1.195202</td>\n",
       "      <td>1.165845</td>\n",
       "      <td>0.804405</td>\n",
       "      <td>00:08</td>\n",
       "    </tr>\n",
       "    <tr>\n",
       "      <td>4</td>\n",
       "      <td>1.192437</td>\n",
       "      <td>1.163912</td>\n",
       "      <td>0.804607</td>\n",
       "      <td>00:08</td>\n",
       "    </tr>\n",
       "  </tbody>\n",
       "</table>"
      ],
      "text/plain": [
       "<IPython.core.display.HTML object>"
      ]
     },
     "metadata": {},
     "output_type": "display_data"
    },
    {
     "name": "stdout",
     "output_type": "stream",
     "text": [
      "Evaluation size => test:(4999, 512), train(14951, 512)\n",
      "Calculated distances in shape (4999, 14951)\n",
      "Testing CenterLoss for case #2\n"
     ]
    },
    {
     "data": {
      "text/html": [
       "Total time: 00:07 <p><table border=\"1\" class=\"dataframe\">\n",
       "  <thead>\n",
       "    <tr style=\"text-align: left;\">\n",
       "      <th>epoch</th>\n",
       "      <th>train_loss</th>\n",
       "      <th>valid_loss</th>\n",
       "      <th>accuracy</th>\n",
       "      <th>time</th>\n",
       "    </tr>\n",
       "  </thead>\n",
       "  <tbody>\n",
       "    <tr>\n",
       "      <td>0</td>\n",
       "      <td>1.589862</td>\n",
       "      <td>1.540422</td>\n",
       "      <td>0.797308</td>\n",
       "      <td>00:07</td>\n",
       "    </tr>\n",
       "  </tbody>\n",
       "</table>"
      ],
      "text/plain": [
       "<IPython.core.display.HTML object>"
      ]
     },
     "metadata": {},
     "output_type": "display_data"
    },
    {
     "data": {
      "text/html": [
       "Total time: 00:44 <p><table border=\"1\" class=\"dataframe\">\n",
       "  <thead>\n",
       "    <tr style=\"text-align: left;\">\n",
       "      <th>epoch</th>\n",
       "      <th>train_loss</th>\n",
       "      <th>valid_loss</th>\n",
       "      <th>accuracy</th>\n",
       "      <th>time</th>\n",
       "    </tr>\n",
       "  </thead>\n",
       "  <tbody>\n",
       "    <tr>\n",
       "      <td>0</td>\n",
       "      <td>1.392721</td>\n",
       "      <td>1.363486</td>\n",
       "      <td>0.986734</td>\n",
       "      <td>00:08</td>\n",
       "    </tr>\n",
       "    <tr>\n",
       "      <td>1</td>\n",
       "      <td>1.366502</td>\n",
       "      <td>1.350958</td>\n",
       "      <td>0.990636</td>\n",
       "      <td>00:09</td>\n",
       "    </tr>\n",
       "    <tr>\n",
       "      <td>2</td>\n",
       "      <td>1.359119</td>\n",
       "      <td>1.341171</td>\n",
       "      <td>0.994928</td>\n",
       "      <td>00:08</td>\n",
       "    </tr>\n",
       "    <tr>\n",
       "      <td>3</td>\n",
       "      <td>1.361814</td>\n",
       "      <td>1.340486</td>\n",
       "      <td>0.997659</td>\n",
       "      <td>00:08</td>\n",
       "    </tr>\n",
       "    <tr>\n",
       "      <td>4</td>\n",
       "      <td>1.345782</td>\n",
       "      <td>1.339069</td>\n",
       "      <td>0.998439</td>\n",
       "      <td>00:08</td>\n",
       "    </tr>\n",
       "  </tbody>\n",
       "</table>"
      ],
      "text/plain": [
       "<IPython.core.display.HTML object>"
      ]
     },
     "metadata": {},
     "output_type": "display_data"
    },
    {
     "name": "stdout",
     "output_type": "stream",
     "text": [
      "Evaluation size => test:(4999, 512), train(15363, 512)\n",
      "Calculated distances in shape (4999, 15363)\n",
      "Testing CenterLoss for case #3\n"
     ]
    },
    {
     "data": {
      "text/html": [
       "Total time: 00:07 <p><table border=\"1\" class=\"dataframe\">\n",
       "  <thead>\n",
       "    <tr style=\"text-align: left;\">\n",
       "      <th>epoch</th>\n",
       "      <th>train_loss</th>\n",
       "      <th>valid_loss</th>\n",
       "      <th>accuracy</th>\n",
       "      <th>time</th>\n",
       "    </tr>\n",
       "  </thead>\n",
       "  <tbody>\n",
       "    <tr>\n",
       "      <td>0</td>\n",
       "      <td>1.427427</td>\n",
       "      <td>1.346689</td>\n",
       "      <td>0.847758</td>\n",
       "      <td>00:07</td>\n",
       "    </tr>\n",
       "  </tbody>\n",
       "</table>"
      ],
      "text/plain": [
       "<IPython.core.display.HTML object>"
      ]
     },
     "metadata": {},
     "output_type": "display_data"
    },
    {
     "data": {
      "text/html": [
       "Total time: 00:44 <p><table border=\"1\" class=\"dataframe\">\n",
       "  <thead>\n",
       "    <tr style=\"text-align: left;\">\n",
       "      <th>epoch</th>\n",
       "      <th>train_loss</th>\n",
       "      <th>valid_loss</th>\n",
       "      <th>accuracy</th>\n",
       "      <th>time</th>\n",
       "    </tr>\n",
       "  </thead>\n",
       "  <tbody>\n",
       "    <tr>\n",
       "      <td>0</td>\n",
       "      <td>0.962365</td>\n",
       "      <td>0.895082</td>\n",
       "      <td>0.990643</td>\n",
       "      <td>00:08</td>\n",
       "    </tr>\n",
       "    <tr>\n",
       "      <td>1</td>\n",
       "      <td>0.929258</td>\n",
       "      <td>0.875254</td>\n",
       "      <td>0.994347</td>\n",
       "      <td>00:08</td>\n",
       "    </tr>\n",
       "    <tr>\n",
       "      <td>2</td>\n",
       "      <td>0.926916</td>\n",
       "      <td>0.864211</td>\n",
       "      <td>0.997466</td>\n",
       "      <td>00:08</td>\n",
       "    </tr>\n",
       "    <tr>\n",
       "      <td>3</td>\n",
       "      <td>0.884770</td>\n",
       "      <td>0.860941</td>\n",
       "      <td>0.998635</td>\n",
       "      <td>00:08</td>\n",
       "    </tr>\n",
       "    <tr>\n",
       "      <td>4</td>\n",
       "      <td>0.887205</td>\n",
       "      <td>0.862575</td>\n",
       "      <td>0.998246</td>\n",
       "      <td>00:08</td>\n",
       "    </tr>\n",
       "  </tbody>\n",
       "</table>"
      ],
      "text/plain": [
       "<IPython.core.display.HTML object>"
      ]
     },
     "metadata": {},
     "output_type": "display_data"
    },
    {
     "name": "stdout",
     "output_type": "stream",
     "text": [
      "Evaluation size => test:(4999, 512), train(15210, 512)\n",
      "Calculated distances in shape (4999, 15210)\n",
      "Testing CenterLoss for case #4\n"
     ]
    },
    {
     "data": {
      "text/html": [
       "Total time: 00:07 <p><table border=\"1\" class=\"dataframe\">\n",
       "  <thead>\n",
       "    <tr style=\"text-align: left;\">\n",
       "      <th>epoch</th>\n",
       "      <th>train_loss</th>\n",
       "      <th>valid_loss</th>\n",
       "      <th>accuracy</th>\n",
       "      <th>time</th>\n",
       "    </tr>\n",
       "  </thead>\n",
       "  <tbody>\n",
       "    <tr>\n",
       "      <td>0</td>\n",
       "      <td>1.389413</td>\n",
       "      <td>1.298136</td>\n",
       "      <td>0.833527</td>\n",
       "      <td>00:07</td>\n",
       "    </tr>\n",
       "  </tbody>\n",
       "</table>"
      ],
      "text/plain": [
       "<IPython.core.display.HTML object>"
      ]
     },
     "metadata": {},
     "output_type": "display_data"
    },
    {
     "data": {
      "text/html": [
       "Total time: 00:44 <p><table border=\"1\" class=\"dataframe\">\n",
       "  <thead>\n",
       "    <tr style=\"text-align: left;\">\n",
       "      <th>epoch</th>\n",
       "      <th>train_loss</th>\n",
       "      <th>valid_loss</th>\n",
       "      <th>accuracy</th>\n",
       "      <th>time</th>\n",
       "    </tr>\n",
       "  </thead>\n",
       "  <tbody>\n",
       "    <tr>\n",
       "      <td>0</td>\n",
       "      <td>1.032276</td>\n",
       "      <td>0.982708</td>\n",
       "      <td>0.993806</td>\n",
       "      <td>00:08</td>\n",
       "    </tr>\n",
       "    <tr>\n",
       "      <td>1</td>\n",
       "      <td>1.024013</td>\n",
       "      <td>0.975614</td>\n",
       "      <td>0.996322</td>\n",
       "      <td>00:08</td>\n",
       "    </tr>\n",
       "    <tr>\n",
       "      <td>2</td>\n",
       "      <td>0.999727</td>\n",
       "      <td>0.968114</td>\n",
       "      <td>0.997677</td>\n",
       "      <td>00:09</td>\n",
       "    </tr>\n",
       "    <tr>\n",
       "      <td>3</td>\n",
       "      <td>0.994030</td>\n",
       "      <td>0.967207</td>\n",
       "      <td>0.998451</td>\n",
       "      <td>00:08</td>\n",
       "    </tr>\n",
       "    <tr>\n",
       "      <td>4</td>\n",
       "      <td>0.984258</td>\n",
       "      <td>0.968965</td>\n",
       "      <td>0.998258</td>\n",
       "      <td>00:08</td>\n",
       "    </tr>\n",
       "  </tbody>\n",
       "</table>"
      ],
      "text/plain": [
       "<IPython.core.display.HTML object>"
      ]
     },
     "metadata": {},
     "output_type": "display_data"
    },
    {
     "name": "stdout",
     "output_type": "stream",
     "text": [
      "Evaluation size => test:(4999, 512), train(15350, 512)\n",
      "Calculated distances in shape (4999, 15350)\n",
      "Testing CenterLoss for case #5\n"
     ]
    },
    {
     "data": {
      "text/html": [
       "Total time: 00:07 <p><table border=\"1\" class=\"dataframe\">\n",
       "  <thead>\n",
       "    <tr style=\"text-align: left;\">\n",
       "      <th>epoch</th>\n",
       "      <th>train_loss</th>\n",
       "      <th>valid_loss</th>\n",
       "      <th>accuracy</th>\n",
       "      <th>time</th>\n",
       "    </tr>\n",
       "  </thead>\n",
       "  <tbody>\n",
       "    <tr>\n",
       "      <td>0</td>\n",
       "      <td>1.532978</td>\n",
       "      <td>1.468690</td>\n",
       "      <td>0.846663</td>\n",
       "      <td>00:07</td>\n",
       "    </tr>\n",
       "  </tbody>\n",
       "</table>"
      ],
      "text/plain": [
       "<IPython.core.display.HTML object>"
      ]
     },
     "metadata": {},
     "output_type": "display_data"
    },
    {
     "data": {
      "text/html": [
       "Total time: 00:44 <p><table border=\"1\" class=\"dataframe\">\n",
       "  <thead>\n",
       "    <tr style=\"text-align: left;\">\n",
       "      <th>epoch</th>\n",
       "      <th>train_loss</th>\n",
       "      <th>valid_loss</th>\n",
       "      <th>accuracy</th>\n",
       "      <th>time</th>\n",
       "    </tr>\n",
       "  </thead>\n",
       "  <tbody>\n",
       "    <tr>\n",
       "      <td>0</td>\n",
       "      <td>1.280116</td>\n",
       "      <td>1.237216</td>\n",
       "      <td>0.995135</td>\n",
       "      <td>00:08</td>\n",
       "    </tr>\n",
       "    <tr>\n",
       "      <td>1</td>\n",
       "      <td>1.259788</td>\n",
       "      <td>1.234280</td>\n",
       "      <td>0.993578</td>\n",
       "      <td>00:08</td>\n",
       "    </tr>\n",
       "    <tr>\n",
       "      <td>2</td>\n",
       "      <td>1.243562</td>\n",
       "      <td>1.225701</td>\n",
       "      <td>0.997859</td>\n",
       "      <td>00:08</td>\n",
       "    </tr>\n",
       "    <tr>\n",
       "      <td>3</td>\n",
       "      <td>1.256223</td>\n",
       "      <td>1.223654</td>\n",
       "      <td>0.998443</td>\n",
       "      <td>00:08</td>\n",
       "    </tr>\n",
       "    <tr>\n",
       "      <td>4</td>\n",
       "      <td>1.239271</td>\n",
       "      <td>1.224433</td>\n",
       "      <td>0.998832</td>\n",
       "      <td>00:08</td>\n",
       "    </tr>\n",
       "  </tbody>\n",
       "</table>"
      ],
      "text/plain": [
       "<IPython.core.display.HTML object>"
      ]
     },
     "metadata": {},
     "output_type": "display_data"
    },
    {
     "name": "stdout",
     "output_type": "stream",
     "text": [
      "Evaluation size => test:(4999, 512), train(15297, 512)\n",
      "Calculated distances in shape (4999, 15297)\n",
      "Testing CenterLoss for case #6\n"
     ]
    },
    {
     "data": {
      "text/html": [
       "Total time: 00:07 <p><table border=\"1\" class=\"dataframe\">\n",
       "  <thead>\n",
       "    <tr style=\"text-align: left;\">\n",
       "      <th>epoch</th>\n",
       "      <th>train_loss</th>\n",
       "      <th>valid_loss</th>\n",
       "      <th>accuracy</th>\n",
       "      <th>time</th>\n",
       "    </tr>\n",
       "  </thead>\n",
       "  <tbody>\n",
       "    <tr>\n",
       "      <td>0</td>\n",
       "      <td>1.540302</td>\n",
       "      <td>1.468748</td>\n",
       "      <td>0.749159</td>\n",
       "      <td>00:07</td>\n",
       "    </tr>\n",
       "  </tbody>\n",
       "</table>"
      ],
      "text/plain": [
       "<IPython.core.display.HTML object>"
      ]
     },
     "metadata": {},
     "output_type": "display_data"
    },
    {
     "data": {
      "text/html": [
       "Total time: 00:43 <p><table border=\"1\" class=\"dataframe\">\n",
       "  <thead>\n",
       "    <tr style=\"text-align: left;\">\n",
       "      <th>epoch</th>\n",
       "      <th>train_loss</th>\n",
       "      <th>valid_loss</th>\n",
       "      <th>accuracy</th>\n",
       "      <th>time</th>\n",
       "    </tr>\n",
       "  </thead>\n",
       "  <tbody>\n",
       "    <tr>\n",
       "      <td>0</td>\n",
       "      <td>1.200055</td>\n",
       "      <td>1.150954</td>\n",
       "      <td>0.991685</td>\n",
       "      <td>00:08</td>\n",
       "    </tr>\n",
       "    <tr>\n",
       "      <td>1</td>\n",
       "      <td>1.198457</td>\n",
       "      <td>1.148173</td>\n",
       "      <td>0.995248</td>\n",
       "      <td>00:08</td>\n",
       "    </tr>\n",
       "    <tr>\n",
       "      <td>2</td>\n",
       "      <td>1.174146</td>\n",
       "      <td>1.142641</td>\n",
       "      <td>0.996832</td>\n",
       "      <td>00:08</td>\n",
       "    </tr>\n",
       "    <tr>\n",
       "      <td>3</td>\n",
       "      <td>1.174968</td>\n",
       "      <td>1.138279</td>\n",
       "      <td>0.998218</td>\n",
       "      <td>00:08</td>\n",
       "    </tr>\n",
       "    <tr>\n",
       "      <td>4</td>\n",
       "      <td>1.163880</td>\n",
       "      <td>1.138238</td>\n",
       "      <td>0.997624</td>\n",
       "      <td>00:08</td>\n",
       "    </tr>\n",
       "  </tbody>\n",
       "</table>"
      ],
      "text/plain": [
       "<IPython.core.display.HTML object>"
      ]
     },
     "metadata": {},
     "output_type": "display_data"
    },
    {
     "name": "stdout",
     "output_type": "stream",
     "text": [
      "Evaluation size => test:(4999, 512), train(15046, 512)\n",
      "Calculated distances in shape (4999, 15046)\n",
      "Testing CenterLoss for case #7\n"
     ]
    },
    {
     "data": {
      "text/html": [
       "Total time: 00:07 <p><table border=\"1\" class=\"dataframe\">\n",
       "  <thead>\n",
       "    <tr style=\"text-align: left;\">\n",
       "      <th>epoch</th>\n",
       "      <th>train_loss</th>\n",
       "      <th>valid_loss</th>\n",
       "      <th>accuracy</th>\n",
       "      <th>time</th>\n",
       "    </tr>\n",
       "  </thead>\n",
       "  <tbody>\n",
       "    <tr>\n",
       "      <td>0</td>\n",
       "      <td>1.409394</td>\n",
       "      <td>1.318426</td>\n",
       "      <td>0.812680</td>\n",
       "      <td>00:07</td>\n",
       "    </tr>\n",
       "  </tbody>\n",
       "</table>"
      ],
      "text/plain": [
       "<IPython.core.display.HTML object>"
      ]
     },
     "metadata": {},
     "output_type": "display_data"
    },
    {
     "data": {
      "text/html": [
       "Total time: 00:42 <p><table border=\"1\" class=\"dataframe\">\n",
       "  <thead>\n",
       "    <tr style=\"text-align: left;\">\n",
       "      <th>epoch</th>\n",
       "      <th>train_loss</th>\n",
       "      <th>valid_loss</th>\n",
       "      <th>accuracy</th>\n",
       "      <th>time</th>\n",
       "    </tr>\n",
       "  </thead>\n",
       "  <tbody>\n",
       "    <tr>\n",
       "      <td>0</td>\n",
       "      <td>0.936473</td>\n",
       "      <td>0.872205</td>\n",
       "      <td>0.995486</td>\n",
       "      <td>00:08</td>\n",
       "    </tr>\n",
       "    <tr>\n",
       "      <td>1</td>\n",
       "      <td>0.919253</td>\n",
       "      <td>0.862333</td>\n",
       "      <td>0.995691</td>\n",
       "      <td>00:08</td>\n",
       "    </tr>\n",
       "    <tr>\n",
       "      <td>2</td>\n",
       "      <td>0.901463</td>\n",
       "      <td>0.858949</td>\n",
       "      <td>0.996102</td>\n",
       "      <td>00:08</td>\n",
       "    </tr>\n",
       "    <tr>\n",
       "      <td>3</td>\n",
       "      <td>0.883046</td>\n",
       "      <td>0.860310</td>\n",
       "      <td>0.996922</td>\n",
       "      <td>00:08</td>\n",
       "    </tr>\n",
       "    <tr>\n",
       "      <td>4</td>\n",
       "      <td>0.877315</td>\n",
       "      <td>0.857987</td>\n",
       "      <td>0.998359</td>\n",
       "      <td>00:08</td>\n",
       "    </tr>\n",
       "  </tbody>\n",
       "</table>"
      ],
      "text/plain": [
       "<IPython.core.display.HTML object>"
      ]
     },
     "metadata": {},
     "output_type": "display_data"
    },
    {
     "name": "stdout",
     "output_type": "stream",
     "text": [
      "Evaluation size => test:(4999, 512), train(14634, 512)\n",
      "Calculated distances in shape (4999, 14634)\n",
      "Testing CenterLoss for case #8\n"
     ]
    },
    {
     "data": {
      "text/html": [
       "Total time: 00:07 <p><table border=\"1\" class=\"dataframe\">\n",
       "  <thead>\n",
       "    <tr style=\"text-align: left;\">\n",
       "      <th>epoch</th>\n",
       "      <th>train_loss</th>\n",
       "      <th>valid_loss</th>\n",
       "      <th>accuracy</th>\n",
       "      <th>time</th>\n",
       "    </tr>\n",
       "  </thead>\n",
       "  <tbody>\n",
       "    <tr>\n",
       "      <td>0</td>\n",
       "      <td>1.704426</td>\n",
       "      <td>1.600666</td>\n",
       "      <td>0.708214</td>\n",
       "      <td>00:07</td>\n",
       "    </tr>\n",
       "  </tbody>\n",
       "</table>"
      ],
      "text/plain": [
       "<IPython.core.display.HTML object>"
      ]
     },
     "metadata": {},
     "output_type": "display_data"
    },
    {
     "data": {
      "text/html": [
       "Total time: 00:43 <p><table border=\"1\" class=\"dataframe\">\n",
       "  <thead>\n",
       "    <tr style=\"text-align: left;\">\n",
       "      <th>epoch</th>\n",
       "      <th>train_loss</th>\n",
       "      <th>valid_loss</th>\n",
       "      <th>accuracy</th>\n",
       "      <th>time</th>\n",
       "    </tr>\n",
       "  </thead>\n",
       "  <tbody>\n",
       "    <tr>\n",
       "      <td>0</td>\n",
       "      <td>1.219052</td>\n",
       "      <td>1.160398</td>\n",
       "      <td>0.936345</td>\n",
       "      <td>00:08</td>\n",
       "    </tr>\n",
       "    <tr>\n",
       "      <td>1</td>\n",
       "      <td>1.206116</td>\n",
       "      <td>1.145239</td>\n",
       "      <td>0.989117</td>\n",
       "      <td>00:08</td>\n",
       "    </tr>\n",
       "    <tr>\n",
       "      <td>2</td>\n",
       "      <td>1.196883</td>\n",
       "      <td>1.134016</td>\n",
       "      <td>0.996099</td>\n",
       "      <td>00:08</td>\n",
       "    </tr>\n",
       "    <tr>\n",
       "      <td>3</td>\n",
       "      <td>1.178094</td>\n",
       "      <td>1.135258</td>\n",
       "      <td>0.996509</td>\n",
       "      <td>00:08</td>\n",
       "    </tr>\n",
       "    <tr>\n",
       "      <td>4</td>\n",
       "      <td>1.170351</td>\n",
       "      <td>1.134354</td>\n",
       "      <td>0.996920</td>\n",
       "      <td>00:08</td>\n",
       "    </tr>\n",
       "  </tbody>\n",
       "</table>"
      ],
      "text/plain": [
       "<IPython.core.display.HTML object>"
      ]
     },
     "metadata": {},
     "output_type": "display_data"
    },
    {
     "name": "stdout",
     "output_type": "stream",
     "text": [
      "Evaluation size => test:(4999, 512), train(14787, 512)\n",
      "Calculated distances in shape (4999, 14787)\n",
      "Testing CenterLoss for case #9\n"
     ]
    },
    {
     "data": {
      "text/html": [
       "Total time: 00:07 <p><table border=\"1\" class=\"dataframe\">\n",
       "  <thead>\n",
       "    <tr style=\"text-align: left;\">\n",
       "      <th>epoch</th>\n",
       "      <th>train_loss</th>\n",
       "      <th>valid_loss</th>\n",
       "      <th>accuracy</th>\n",
       "      <th>time</th>\n",
       "    </tr>\n",
       "  </thead>\n",
       "  <tbody>\n",
       "    <tr>\n",
       "      <td>0</td>\n",
       "      <td>1.565813</td>\n",
       "      <td>1.493687</td>\n",
       "      <td>0.761688</td>\n",
       "      <td>00:07</td>\n",
       "    </tr>\n",
       "  </tbody>\n",
       "</table>"
      ],
      "text/plain": [
       "<IPython.core.display.HTML object>"
      ]
     },
     "metadata": {},
     "output_type": "display_data"
    },
    {
     "data": {
      "text/html": [
       "Total time: 00:42 <p><table border=\"1\" class=\"dataframe\">\n",
       "  <thead>\n",
       "    <tr style=\"text-align: left;\">\n",
       "      <th>epoch</th>\n",
       "      <th>train_loss</th>\n",
       "      <th>valid_loss</th>\n",
       "      <th>accuracy</th>\n",
       "      <th>time</th>\n",
       "    </tr>\n",
       "  </thead>\n",
       "  <tbody>\n",
       "    <tr>\n",
       "      <td>0</td>\n",
       "      <td>1.256022</td>\n",
       "      <td>1.201244</td>\n",
       "      <td>0.994415</td>\n",
       "      <td>00:08</td>\n",
       "    </tr>\n",
       "    <tr>\n",
       "      <td>1</td>\n",
       "      <td>1.253523</td>\n",
       "      <td>1.207099</td>\n",
       "      <td>0.992553</td>\n",
       "      <td>00:08</td>\n",
       "    </tr>\n",
       "    <tr>\n",
       "      <td>2</td>\n",
       "      <td>1.235716</td>\n",
       "      <td>1.198996</td>\n",
       "      <td>0.995242</td>\n",
       "      <td>00:08</td>\n",
       "    </tr>\n",
       "    <tr>\n",
       "      <td>3</td>\n",
       "      <td>1.225663</td>\n",
       "      <td>1.192043</td>\n",
       "      <td>0.997724</td>\n",
       "      <td>00:08</td>\n",
       "    </tr>\n",
       "    <tr>\n",
       "      <td>4</td>\n",
       "      <td>1.216927</td>\n",
       "      <td>1.191175</td>\n",
       "      <td>0.997931</td>\n",
       "      <td>00:08</td>\n",
       "    </tr>\n",
       "  </tbody>\n",
       "</table>"
      ],
      "text/plain": [
       "<IPython.core.display.HTML object>"
      ]
     },
     "metadata": {},
     "output_type": "display_data"
    },
    {
     "name": "stdout",
     "output_type": "stream",
     "text": [
      "Evaluation size => test:(4999, 512), train(14647, 512)\n",
      "Calculated distances in shape (4999, 14647)\n"
     ]
    }
   ],
   "source": [
    "toytest.do_tests('CenterLoss', learner_CenterLoss)"
   ]
  },
  {
   "cell_type": "markdown",
   "metadata": {},
   "source": [
    "# Summary"
   ]
  },
  {
   "cell_type": "code",
   "execution_count": 22,
   "metadata": {
    "scrolled": false
   },
   "outputs": [
    {
     "name": "stdout",
     "output_type": "stream",
     "text": [
      "# Stat: AUC\n"
     ]
    },
    {
     "data": {
      "image/png": "[encoded data removed]",
      "text/plain": [
       "<Figure size 360x288 with 1 Axes>"
      ]
     },
     "metadata": {},
     "output_type": "display_data"
    },
    {
     "name": "stdout",
     "output_type": "stream",
     "text": [
      "# Stat: Normalized distances\n"
     ]
    },
    {
     "data": {
      "image/png": "[encoded data removed]",
      "text/plain": [
       "<Figure size 720x360 with 1 Axes>"
      ]
     },
     "metadata": {},
     "output_type": "display_data"
    },
    {
     "name": "stdout",
     "output_type": "stream",
     "text": [
      "\n",
      "## [0, 1, 2, 3, 4]: normalized mean distance\n"
     ]
    },
    {
     "data": {
      "text/html": [
       "<div>\n",
       "<style scoped>\n",
       "    .dataframe tbody tr th:only-of-type {\n",
       "        vertical-align: middle;\n",
       "    }\n",
       "\n",
       "    .dataframe tbody tr th {\n",
       "        vertical-align: top;\n",
       "    }\n",
       "\n",
       "    .dataframe thead th {\n",
       "        text-align: right;\n",
       "    }\n",
       "</style>\n",
       "<table border=\"1\" class=\"dataframe\">\n",
       "  <thead>\n",
       "    <tr style=\"text-align: right;\">\n",
       "      <th></th>\n",
       "      <th>Conventional</th>\n",
       "      <th>L2-constrainted</th>\n",
       "      <th>ArcFace</th>\n",
       "      <th>CosFace</th>\n",
       "      <th>ShpereFace</th>\n",
       "      <th>CenterLoss</th>\n",
       "    </tr>\n",
       "  </thead>\n",
       "  <tbody>\n",
       "    <tr>\n",
       "      <th>&lt;unk&gt; 0</th>\n",
       "      <td>2.745542</td>\n",
       "      <td>11.259808</td>\n",
       "      <td>3.338227</td>\n",
       "      <td>2.992735</td>\n",
       "      <td>3.205118</td>\n",
       "      <td>13.480673</td>\n",
       "    </tr>\n",
       "    <tr>\n",
       "      <th>&lt;unk&gt; 1</th>\n",
       "      <td>2.327105</td>\n",
       "      <td>9.482038</td>\n",
       "      <td>3.337244</td>\n",
       "      <td>3.320793</td>\n",
       "      <td>3.422165</td>\n",
       "      <td>13.545691</td>\n",
       "    </tr>\n",
       "    <tr>\n",
       "      <th>&lt;unk&gt; 2</th>\n",
       "      <td>2.249462</td>\n",
       "      <td>10.158229</td>\n",
       "      <td>3.826785</td>\n",
       "      <td>4.135788</td>\n",
       "      <td>3.433805</td>\n",
       "      <td>10.927568</td>\n",
       "    </tr>\n",
       "    <tr>\n",
       "      <th>&lt;unk&gt; 3</th>\n",
       "      <td>2.559015</td>\n",
       "      <td>8.395471</td>\n",
       "      <td>3.669745</td>\n",
       "      <td>3.463150</td>\n",
       "      <td>3.287673</td>\n",
       "      <td>7.606400</td>\n",
       "    </tr>\n",
       "    <tr>\n",
       "      <th>&lt;unk&gt; 4</th>\n",
       "      <td>1.943094</td>\n",
       "      <td>10.879955</td>\n",
       "      <td>3.233585</td>\n",
       "      <td>3.149849</td>\n",
       "      <td>3.068793</td>\n",
       "      <td>8.351856</td>\n",
       "    </tr>\n",
       "    <tr>\n",
       "      <th>5</th>\n",
       "      <td>1.457936</td>\n",
       "      <td>1.109024</td>\n",
       "      <td>1.276395</td>\n",
       "      <td>1.100993</td>\n",
       "      <td>0.929097</td>\n",
       "      <td>0.940586</td>\n",
       "    </tr>\n",
       "    <tr>\n",
       "      <th>6</th>\n",
       "      <td>1.114607</td>\n",
       "      <td>0.701924</td>\n",
       "      <td>0.588602</td>\n",
       "      <td>0.856541</td>\n",
       "      <td>1.040638</td>\n",
       "      <td>1.116930</td>\n",
       "    </tr>\n",
       "    <tr>\n",
       "      <th>7</th>\n",
       "      <td>0.970232</td>\n",
       "      <td>1.105195</td>\n",
       "      <td>0.731769</td>\n",
       "      <td>1.250282</td>\n",
       "      <td>0.854954</td>\n",
       "      <td>0.705811</td>\n",
       "    </tr>\n",
       "    <tr>\n",
       "      <th>8</th>\n",
       "      <td>1.251539</td>\n",
       "      <td>0.860288</td>\n",
       "      <td>1.241059</td>\n",
       "      <td>1.774741</td>\n",
       "      <td>1.171305</td>\n",
       "      <td>1.531447</td>\n",
       "    </tr>\n",
       "    <tr>\n",
       "      <th>9</th>\n",
       "      <td>0.959115</td>\n",
       "      <td>0.991673</td>\n",
       "      <td>1.325401</td>\n",
       "      <td>1.011892</td>\n",
       "      <td>0.827286</td>\n",
       "      <td>0.935601</td>\n",
       "    </tr>\n",
       "  </tbody>\n",
       "</table>\n",
       "</div>"
      ],
      "text/plain": [
       "         Conventional  L2-constrainted   ArcFace   CosFace  ShpereFace  \\\n",
       "<unk> 0      2.745542        11.259808  3.338227  2.992735    3.205118   \n",
       "<unk> 1      2.327105         9.482038  3.337244  3.320793    3.422165   \n",
       "<unk> 2      2.249462        10.158229  3.826785  4.135788    3.433805   \n",
       "<unk> 3      2.559015         8.395471  3.669745  3.463150    3.287673   \n",
       "<unk> 4      1.943094        10.879955  3.233585  3.149849    3.068793   \n",
       "5            1.457936         1.109024  1.276395  1.100993    0.929097   \n",
       "6            1.114607         0.701924  0.588602  0.856541    1.040638   \n",
       "7            0.970232         1.105195  0.731769  1.250282    0.854954   \n",
       "8            1.251539         0.860288  1.241059  1.774741    1.171305   \n",
       "9            0.959115         0.991673  1.325401  1.011892    0.827286   \n",
       "\n",
       "         CenterLoss  \n",
       "<unk> 0   13.480673  \n",
       "<unk> 1   13.545691  \n",
       "<unk> 2   10.927568  \n",
       "<unk> 3    7.606400  \n",
       "<unk> 4    8.351856  \n",
       "5          0.940586  \n",
       "6          1.116930  \n",
       "7          0.705811  \n",
       "8          1.531447  \n",
       "9          0.935601  "
      ]
     },
     "metadata": {},
     "output_type": "display_data"
    },
    {
     "name": "stdout",
     "output_type": "stream",
     "text": [
      "\n",
      "## [1, 2, 3, 4, 5]: normalized mean distance\n"
     ]
    },
    {
     "data": {
      "text/html": [
       "<div>\n",
       "<style scoped>\n",
       "    .dataframe tbody tr th:only-of-type {\n",
       "        vertical-align: middle;\n",
       "    }\n",
       "\n",
       "    .dataframe tbody tr th {\n",
       "        vertical-align: top;\n",
       "    }\n",
       "\n",
       "    .dataframe thead th {\n",
       "        text-align: right;\n",
       "    }\n",
       "</style>\n",
       "<table border=\"1\" class=\"dataframe\">\n",
       "  <thead>\n",
       "    <tr style=\"text-align: right;\">\n",
       "      <th></th>\n",
       "      <th>Conventional</th>\n",
       "      <th>L2-constrainted</th>\n",
       "      <th>ArcFace</th>\n",
       "      <th>CosFace</th>\n",
       "      <th>ShpereFace</th>\n",
       "      <th>CenterLoss</th>\n",
       "    </tr>\n",
       "  </thead>\n",
       "  <tbody>\n",
       "    <tr>\n",
       "      <th>0</th>\n",
       "      <td>1.041334</td>\n",
       "      <td>0.864534</td>\n",
       "      <td>1.195820</td>\n",
       "      <td>0.637712</td>\n",
       "      <td>0.970412</td>\n",
       "      <td>1.025489</td>\n",
       "    </tr>\n",
       "    <tr>\n",
       "      <th>&lt;unk&gt; 1</th>\n",
       "      <td>2.535385</td>\n",
       "      <td>14.731855</td>\n",
       "      <td>3.990134</td>\n",
       "      <td>3.234877</td>\n",
       "      <td>4.076097</td>\n",
       "      <td>13.015275</td>\n",
       "    </tr>\n",
       "    <tr>\n",
       "      <th>&lt;unk&gt; 2</th>\n",
       "      <td>2.104214</td>\n",
       "      <td>8.743683</td>\n",
       "      <td>3.603577</td>\n",
       "      <td>3.545379</td>\n",
       "      <td>3.666406</td>\n",
       "      <td>12.719289</td>\n",
       "    </tr>\n",
       "    <tr>\n",
       "      <th>&lt;unk&gt; 3</th>\n",
       "      <td>2.166524</td>\n",
       "      <td>14.248063</td>\n",
       "      <td>3.842346</td>\n",
       "      <td>3.330610</td>\n",
       "      <td>3.205294</td>\n",
       "      <td>8.082384</td>\n",
       "    </tr>\n",
       "    <tr>\n",
       "      <th>&lt;unk&gt; 4</th>\n",
       "      <td>2.243958</td>\n",
       "      <td>11.509762</td>\n",
       "      <td>3.184048</td>\n",
       "      <td>3.037668</td>\n",
       "      <td>3.711265</td>\n",
       "      <td>11.982302</td>\n",
       "    </tr>\n",
       "    <tr>\n",
       "      <th>&lt;unk&gt; 5</th>\n",
       "      <td>2.327951</td>\n",
       "      <td>12.144732</td>\n",
       "      <td>3.233610</td>\n",
       "      <td>3.094216</td>\n",
       "      <td>3.456995</td>\n",
       "      <td>11.212986</td>\n",
       "    </tr>\n",
       "    <tr>\n",
       "      <th>6</th>\n",
       "      <td>1.201702</td>\n",
       "      <td>0.777578</td>\n",
       "      <td>0.921188</td>\n",
       "      <td>0.613746</td>\n",
       "      <td>0.971364</td>\n",
       "      <td>0.792255</td>\n",
       "    </tr>\n",
       "    <tr>\n",
       "      <th>7</th>\n",
       "      <td>0.869263</td>\n",
       "      <td>0.921300</td>\n",
       "      <td>0.610129</td>\n",
       "      <td>0.892613</td>\n",
       "      <td>0.961382</td>\n",
       "      <td>1.200373</td>\n",
       "    </tr>\n",
       "    <tr>\n",
       "      <th>8</th>\n",
       "      <td>1.110523</td>\n",
       "      <td>1.486348</td>\n",
       "      <td>1.233877</td>\n",
       "      <td>1.133976</td>\n",
       "      <td>0.950902</td>\n",
       "      <td>1.707472</td>\n",
       "    </tr>\n",
       "    <tr>\n",
       "      <th>9</th>\n",
       "      <td>0.862152</td>\n",
       "      <td>1.749602</td>\n",
       "      <td>1.303132</td>\n",
       "      <td>0.755467</td>\n",
       "      <td>0.834027</td>\n",
       "      <td>1.104263</td>\n",
       "    </tr>\n",
       "  </tbody>\n",
       "</table>\n",
       "</div>"
      ],
      "text/plain": [
       "         Conventional  L2-constrainted   ArcFace   CosFace  ShpereFace  \\\n",
       "0            1.041334         0.864534  1.195820  0.637712    0.970412   \n",
       "<unk> 1      2.535385        14.731855  3.990134  3.234877    4.076097   \n",
       "<unk> 2      2.104214         8.743683  3.603577  3.545379    3.666406   \n",
       "<unk> 3      2.166524        14.248063  3.842346  3.330610    3.205294   \n",
       "<unk> 4      2.243958        11.509762  3.184048  3.037668    3.711265   \n",
       "<unk> 5      2.327951        12.144732  3.233610  3.094216    3.456995   \n",
       "6            1.201702         0.777578  0.921188  0.613746    0.971364   \n",
       "7            0.869263         0.921300  0.610129  0.892613    0.961382   \n",
       "8            1.110523         1.486348  1.233877  1.133976    0.950902   \n",
       "9            0.862152         1.749602  1.303132  0.755467    0.834027   \n",
       "\n",
       "         CenterLoss  \n",
       "0          1.025489  \n",
       "<unk> 1   13.015275  \n",
       "<unk> 2   12.719289  \n",
       "<unk> 3    8.082384  \n",
       "<unk> 4   11.982302  \n",
       "<unk> 5   11.212986  \n",
       "6          0.792255  \n",
       "7          1.200373  \n",
       "8          1.707472  \n",
       "9          1.104263  "
      ]
     },
     "metadata": {},
     "output_type": "display_data"
    },
    {
     "name": "stdout",
     "output_type": "stream",
     "text": [
      "\n",
      "## [2, 3, 4, 5, 6]: normalized mean distance\n"
     ]
    },
    {
     "data": {
      "text/html": [
       "<div>\n",
       "<style scoped>\n",
       "    .dataframe tbody tr th:only-of-type {\n",
       "        vertical-align: middle;\n",
       "    }\n",
       "\n",
       "    .dataframe tbody tr th {\n",
       "        vertical-align: top;\n",
       "    }\n",
       "\n",
       "    .dataframe thead th {\n",
       "        text-align: right;\n",
       "    }\n",
       "</style>\n",
       "<table border=\"1\" class=\"dataframe\">\n",
       "  <thead>\n",
       "    <tr style=\"text-align: right;\">\n",
       "      <th></th>\n",
       "      <th>Conventional</th>\n",
       "      <th>L2-constrainted</th>\n",
       "      <th>ArcFace</th>\n",
       "      <th>CosFace</th>\n",
       "      <th>ShpereFace</th>\n",
       "      <th>CenterLoss</th>\n",
       "    </tr>\n",
       "  </thead>\n",
       "  <tbody>\n",
       "    <tr>\n",
       "      <th>0</th>\n",
       "      <td>1.301426</td>\n",
       "      <td>0.704589</td>\n",
       "      <td>0.894934</td>\n",
       "      <td>0.776342</td>\n",
       "      <td>0.862222</td>\n",
       "      <td>0.539059</td>\n",
       "    </tr>\n",
       "    <tr>\n",
       "      <th>1</th>\n",
       "      <td>0.591418</td>\n",
       "      <td>1.040088</td>\n",
       "      <td>0.584827</td>\n",
       "      <td>0.636146</td>\n",
       "      <td>0.691162</td>\n",
       "      <td>0.760149</td>\n",
       "    </tr>\n",
       "    <tr>\n",
       "      <th>&lt;unk&gt; 2</th>\n",
       "      <td>2.651001</td>\n",
       "      <td>13.574076</td>\n",
       "      <td>4.438392</td>\n",
       "      <td>4.107324</td>\n",
       "      <td>3.931698</td>\n",
       "      <td>9.890239</td>\n",
       "    </tr>\n",
       "    <tr>\n",
       "      <th>&lt;unk&gt; 3</th>\n",
       "      <td>2.547595</td>\n",
       "      <td>9.366809</td>\n",
       "      <td>4.336394</td>\n",
       "      <td>4.184816</td>\n",
       "      <td>2.984208</td>\n",
       "      <td>9.515484</td>\n",
       "    </tr>\n",
       "    <tr>\n",
       "      <th>&lt;unk&gt; 4</th>\n",
       "      <td>2.363020</td>\n",
       "      <td>10.048896</td>\n",
       "      <td>3.635980</td>\n",
       "      <td>3.349971</td>\n",
       "      <td>3.882411</td>\n",
       "      <td>9.752823</td>\n",
       "    </tr>\n",
       "    <tr>\n",
       "      <th>&lt;unk&gt; 5</th>\n",
       "      <td>2.192186</td>\n",
       "      <td>7.204674</td>\n",
       "      <td>2.944075</td>\n",
       "      <td>3.692440</td>\n",
       "      <td>2.880831</td>\n",
       "      <td>6.785441</td>\n",
       "    </tr>\n",
       "    <tr>\n",
       "      <th>&lt;unk&gt; 6</th>\n",
       "      <td>2.385058</td>\n",
       "      <td>9.161004</td>\n",
       "      <td>3.627663</td>\n",
       "      <td>2.535602</td>\n",
       "      <td>2.908431</td>\n",
       "      <td>10.032047</td>\n",
       "    </tr>\n",
       "    <tr>\n",
       "      <th>7</th>\n",
       "      <td>1.391644</td>\n",
       "      <td>1.254003</td>\n",
       "      <td>1.121544</td>\n",
       "      <td>1.511876</td>\n",
       "      <td>1.364804</td>\n",
       "      <td>0.861205</td>\n",
       "    </tr>\n",
       "    <tr>\n",
       "      <th>8</th>\n",
       "      <td>0.980394</td>\n",
       "      <td>1.605672</td>\n",
       "      <td>1.142168</td>\n",
       "      <td>1.462403</td>\n",
       "      <td>0.888190</td>\n",
       "      <td>1.204698</td>\n",
       "    </tr>\n",
       "    <tr>\n",
       "      <th>9</th>\n",
       "      <td>0.857387</td>\n",
       "      <td>1.443855</td>\n",
       "      <td>1.084438</td>\n",
       "      <td>1.176349</td>\n",
       "      <td>1.160694</td>\n",
       "      <td>1.683579</td>\n",
       "    </tr>\n",
       "  </tbody>\n",
       "</table>\n",
       "</div>"
      ],
      "text/plain": [
       "         Conventional  L2-constrainted   ArcFace   CosFace  ShpereFace  \\\n",
       "0            1.301426         0.704589  0.894934  0.776342    0.862222   \n",
       "1            0.591418         1.040088  0.584827  0.636146    0.691162   \n",
       "<unk> 2      2.651001        13.574076  4.438392  4.107324    3.931698   \n",
       "<unk> 3      2.547595         9.366809  4.336394  4.184816    2.984208   \n",
       "<unk> 4      2.363020        10.048896  3.635980  3.349971    3.882411   \n",
       "<unk> 5      2.192186         7.204674  2.944075  3.692440    2.880831   \n",
       "<unk> 6      2.385058         9.161004  3.627663  2.535602    2.908431   \n",
       "7            1.391644         1.254003  1.121544  1.511876    1.364804   \n",
       "8            0.980394         1.605672  1.142168  1.462403    0.888190   \n",
       "9            0.857387         1.443855  1.084438  1.176349    1.160694   \n",
       "\n",
       "         CenterLoss  \n",
       "0          0.539059  \n",
       "1          0.760149  \n",
       "<unk> 2    9.890239  \n",
       "<unk> 3    9.515484  \n",
       "<unk> 4    9.752823  \n",
       "<unk> 5    6.785441  \n",
       "<unk> 6   10.032047  \n",
       "7          0.861205  \n",
       "8          1.204698  \n",
       "9          1.683579  "
      ]
     },
     "metadata": {},
     "output_type": "display_data"
    },
    {
     "name": "stdout",
     "output_type": "stream",
     "text": [
      "\n",
      "## [3, 4, 5, 6, 7]: normalized mean distance\n"
     ]
    },
    {
     "data": {
      "text/html": [
       "<div>\n",
       "<style scoped>\n",
       "    .dataframe tbody tr th:only-of-type {\n",
       "        vertical-align: middle;\n",
       "    }\n",
       "\n",
       "    .dataframe tbody tr th {\n",
       "        vertical-align: top;\n",
       "    }\n",
       "\n",
       "    .dataframe thead th {\n",
       "        text-align: right;\n",
       "    }\n",
       "</style>\n",
       "<table border=\"1\" class=\"dataframe\">\n",
       "  <thead>\n",
       "    <tr style=\"text-align: right;\">\n",
       "      <th></th>\n",
       "      <th>Conventional</th>\n",
       "      <th>L2-constrainted</th>\n",
       "      <th>ArcFace</th>\n",
       "      <th>CosFace</th>\n",
       "      <th>ShpereFace</th>\n",
       "      <th>CenterLoss</th>\n",
       "    </tr>\n",
       "  </thead>\n",
       "  <tbody>\n",
       "    <tr>\n",
       "      <th>0</th>\n",
       "      <td>0.849837</td>\n",
       "      <td>0.937575</td>\n",
       "      <td>1.153797</td>\n",
       "      <td>0.884233</td>\n",
       "      <td>0.964777</td>\n",
       "      <td>0.815909</td>\n",
       "    </tr>\n",
       "    <tr>\n",
       "      <th>1</th>\n",
       "      <td>0.736243</td>\n",
       "      <td>0.673966</td>\n",
       "      <td>1.057390</td>\n",
       "      <td>0.644643</td>\n",
       "      <td>0.725519</td>\n",
       "      <td>0.885201</td>\n",
       "    </tr>\n",
       "    <tr>\n",
       "      <th>2</th>\n",
       "      <td>0.941566</td>\n",
       "      <td>0.788149</td>\n",
       "      <td>0.792929</td>\n",
       "      <td>0.511261</td>\n",
       "      <td>0.940536</td>\n",
       "      <td>1.256924</td>\n",
       "    </tr>\n",
       "    <tr>\n",
       "      <th>&lt;unk&gt; 3</th>\n",
       "      <td>2.607921</td>\n",
       "      <td>9.895198</td>\n",
       "      <td>3.639834</td>\n",
       "      <td>3.917383</td>\n",
       "      <td>3.407842</td>\n",
       "      <td>13.846383</td>\n",
       "    </tr>\n",
       "    <tr>\n",
       "      <th>&lt;unk&gt; 4</th>\n",
       "      <td>2.181548</td>\n",
       "      <td>5.187458</td>\n",
       "      <td>2.076493</td>\n",
       "      <td>3.333594</td>\n",
       "      <td>3.609156</td>\n",
       "      <td>6.711049</td>\n",
       "    </tr>\n",
       "    <tr>\n",
       "      <th>&lt;unk&gt; 5</th>\n",
       "      <td>2.174359</td>\n",
       "      <td>8.527734</td>\n",
       "      <td>3.785177</td>\n",
       "      <td>2.954644</td>\n",
       "      <td>3.402542</td>\n",
       "      <td>10.107685</td>\n",
       "    </tr>\n",
       "    <tr>\n",
       "      <th>&lt;unk&gt; 6</th>\n",
       "      <td>2.527823</td>\n",
       "      <td>14.364649</td>\n",
       "      <td>3.925598</td>\n",
       "      <td>2.654794</td>\n",
       "      <td>3.503576</td>\n",
       "      <td>14.353493</td>\n",
       "    </tr>\n",
       "    <tr>\n",
       "      <th>&lt;unk&gt; 7</th>\n",
       "      <td>2.260588</td>\n",
       "      <td>9.217254</td>\n",
       "      <td>4.132238</td>\n",
       "      <td>3.786343</td>\n",
       "      <td>4.477325</td>\n",
       "      <td>14.917567</td>\n",
       "    </tr>\n",
       "    <tr>\n",
       "      <th>8</th>\n",
       "      <td>1.268146</td>\n",
       "      <td>1.545547</td>\n",
       "      <td>1.520641</td>\n",
       "      <td>1.245471</td>\n",
       "      <td>1.364367</td>\n",
       "      <td>1.536117</td>\n",
       "    </tr>\n",
       "    <tr>\n",
       "      <th>9</th>\n",
       "      <td>0.991365</td>\n",
       "      <td>1.099096</td>\n",
       "      <td>0.639901</td>\n",
       "      <td>1.075488</td>\n",
       "      <td>1.286517</td>\n",
       "      <td>1.206647</td>\n",
       "    </tr>\n",
       "  </tbody>\n",
       "</table>\n",
       "</div>"
      ],
      "text/plain": [
       "         Conventional  L2-constrainted   ArcFace   CosFace  ShpereFace  \\\n",
       "0            0.849837         0.937575  1.153797  0.884233    0.964777   \n",
       "1            0.736243         0.673966  1.057390  0.644643    0.725519   \n",
       "2            0.941566         0.788149  0.792929  0.511261    0.940536   \n",
       "<unk> 3      2.607921         9.895198  3.639834  3.917383    3.407842   \n",
       "<unk> 4      2.181548         5.187458  2.076493  3.333594    3.609156   \n",
       "<unk> 5      2.174359         8.527734  3.785177  2.954644    3.402542   \n",
       "<unk> 6      2.527823        14.364649  3.925598  2.654794    3.503576   \n",
       "<unk> 7      2.260588         9.217254  4.132238  3.786343    4.477325   \n",
       "8            1.268146         1.545547  1.520641  1.245471    1.364367   \n",
       "9            0.991365         1.099096  0.639901  1.075488    1.286517   \n",
       "\n",
       "         CenterLoss  \n",
       "0          0.815909  \n",
       "1          0.885201  \n",
       "2          1.256924  \n",
       "<unk> 3   13.846383  \n",
       "<unk> 4    6.711049  \n",
       "<unk> 5   10.107685  \n",
       "<unk> 6   14.353493  \n",
       "<unk> 7   14.917567  \n",
       "8          1.536117  \n",
       "9          1.206647  "
      ]
     },
     "metadata": {},
     "output_type": "display_data"
    },
    {
     "name": "stdout",
     "output_type": "stream",
     "text": [
      "\n",
      "## [4, 5, 6, 7, 8]: normalized mean distance\n"
     ]
    },
    {
     "data": {
      "text/html": [
       "<div>\n",
       "<style scoped>\n",
       "    .dataframe tbody tr th:only-of-type {\n",
       "        vertical-align: middle;\n",
       "    }\n",
       "\n",
       "    .dataframe tbody tr th {\n",
       "        vertical-align: top;\n",
       "    }\n",
       "\n",
       "    .dataframe thead th {\n",
       "        text-align: right;\n",
       "    }\n",
       "</style>\n",
       "<table border=\"1\" class=\"dataframe\">\n",
       "  <thead>\n",
       "    <tr style=\"text-align: right;\">\n",
       "      <th></th>\n",
       "      <th>Conventional</th>\n",
       "      <th>L2-constrainted</th>\n",
       "      <th>ArcFace</th>\n",
       "      <th>CosFace</th>\n",
       "      <th>ShpereFace</th>\n",
       "      <th>CenterLoss</th>\n",
       "    </tr>\n",
       "  </thead>\n",
       "  <tbody>\n",
       "    <tr>\n",
       "      <th>0</th>\n",
       "      <td>0.840383</td>\n",
       "      <td>0.591598</td>\n",
       "      <td>0.912986</td>\n",
       "      <td>0.780507</td>\n",
       "      <td>1.033813</td>\n",
       "      <td>1.562482</td>\n",
       "    </tr>\n",
       "    <tr>\n",
       "      <th>1</th>\n",
       "      <td>0.571005</td>\n",
       "      <td>0.557266</td>\n",
       "      <td>0.503182</td>\n",
       "      <td>0.645323</td>\n",
       "      <td>0.579297</td>\n",
       "      <td>0.613439</td>\n",
       "    </tr>\n",
       "    <tr>\n",
       "      <th>2</th>\n",
       "      <td>1.100810</td>\n",
       "      <td>1.170483</td>\n",
       "      <td>1.439437</td>\n",
       "      <td>1.114242</td>\n",
       "      <td>0.992096</td>\n",
       "      <td>0.938953</td>\n",
       "    </tr>\n",
       "    <tr>\n",
       "      <th>3</th>\n",
       "      <td>1.231070</td>\n",
       "      <td>0.924428</td>\n",
       "      <td>1.370871</td>\n",
       "      <td>1.320864</td>\n",
       "      <td>1.214901</td>\n",
       "      <td>1.000648</td>\n",
       "    </tr>\n",
       "    <tr>\n",
       "      <th>&lt;unk&gt; 4</th>\n",
       "      <td>1.919547</td>\n",
       "      <td>3.837685</td>\n",
       "      <td>2.614843</td>\n",
       "      <td>2.669195</td>\n",
       "      <td>2.047939</td>\n",
       "      <td>6.011309</td>\n",
       "    </tr>\n",
       "    <tr>\n",
       "      <th>&lt;unk&gt; 5</th>\n",
       "      <td>2.587128</td>\n",
       "      <td>7.119876</td>\n",
       "      <td>4.032161</td>\n",
       "      <td>3.615276</td>\n",
       "      <td>3.466637</td>\n",
       "      <td>9.203878</td>\n",
       "    </tr>\n",
       "    <tr>\n",
       "      <th>&lt;unk&gt; 6</th>\n",
       "      <td>1.889238</td>\n",
       "      <td>5.101081</td>\n",
       "      <td>1.978223</td>\n",
       "      <td>1.700445</td>\n",
       "      <td>3.261764</td>\n",
       "      <td>5.599729</td>\n",
       "    </tr>\n",
       "    <tr>\n",
       "      <th>&lt;unk&gt; 7</th>\n",
       "      <td>2.724066</td>\n",
       "      <td>12.533991</td>\n",
       "      <td>3.697341</td>\n",
       "      <td>3.647360</td>\n",
       "      <td>3.594438</td>\n",
       "      <td>10.752259</td>\n",
       "    </tr>\n",
       "    <tr>\n",
       "      <th>&lt;unk&gt; 8</th>\n",
       "      <td>2.818028</td>\n",
       "      <td>9.325804</td>\n",
       "      <td>4.847980</td>\n",
       "      <td>3.657263</td>\n",
       "      <td>4.303114</td>\n",
       "      <td>11.165884</td>\n",
       "    </tr>\n",
       "    <tr>\n",
       "      <th>9</th>\n",
       "      <td>0.819462</td>\n",
       "      <td>0.976811</td>\n",
       "      <td>1.020905</td>\n",
       "      <td>1.223177</td>\n",
       "      <td>1.060871</td>\n",
       "      <td>1.843596</td>\n",
       "    </tr>\n",
       "  </tbody>\n",
       "</table>\n",
       "</div>"
      ],
      "text/plain": [
       "         Conventional  L2-constrainted   ArcFace   CosFace  ShpereFace  \\\n",
       "0            0.840383         0.591598  0.912986  0.780507    1.033813   \n",
       "1            0.571005         0.557266  0.503182  0.645323    0.579297   \n",
       "2            1.100810         1.170483  1.439437  1.114242    0.992096   \n",
       "3            1.231070         0.924428  1.370871  1.320864    1.214901   \n",
       "<unk> 4      1.919547         3.837685  2.614843  2.669195    2.047939   \n",
       "<unk> 5      2.587128         7.119876  4.032161  3.615276    3.466637   \n",
       "<unk> 6      1.889238         5.101081  1.978223  1.700445    3.261764   \n",
       "<unk> 7      2.724066        12.533991  3.697341  3.647360    3.594438   \n",
       "<unk> 8      2.818028         9.325804  4.847980  3.657263    4.303114   \n",
       "9            0.819462         0.976811  1.020905  1.223177    1.060871   \n",
       "\n",
       "         CenterLoss  \n",
       "0          1.562482  \n",
       "1          0.613439  \n",
       "2          0.938953  \n",
       "3          1.000648  \n",
       "<unk> 4    6.011309  \n",
       "<unk> 5    9.203878  \n",
       "<unk> 6    5.599729  \n",
       "<unk> 7   10.752259  \n",
       "<unk> 8   11.165884  \n",
       "9          1.843596  "
      ]
     },
     "metadata": {},
     "output_type": "display_data"
    },
    {
     "name": "stdout",
     "output_type": "stream",
     "text": [
      "\n",
      "## [5, 6, 7, 8, 9]: normalized mean distance\n"
     ]
    },
    {
     "data": {
      "text/html": [
       "<div>\n",
       "<style scoped>\n",
       "    .dataframe tbody tr th:only-of-type {\n",
       "        vertical-align: middle;\n",
       "    }\n",
       "\n",
       "    .dataframe tbody tr th {\n",
       "        vertical-align: top;\n",
       "    }\n",
       "\n",
       "    .dataframe thead th {\n",
       "        text-align: right;\n",
       "    }\n",
       "</style>\n",
       "<table border=\"1\" class=\"dataframe\">\n",
       "  <thead>\n",
       "    <tr style=\"text-align: right;\">\n",
       "      <th></th>\n",
       "      <th>Conventional</th>\n",
       "      <th>L2-constrainted</th>\n",
       "      <th>ArcFace</th>\n",
       "      <th>CosFace</th>\n",
       "      <th>ShpereFace</th>\n",
       "      <th>CenterLoss</th>\n",
       "    </tr>\n",
       "  </thead>\n",
       "  <tbody>\n",
       "    <tr>\n",
       "      <th>0</th>\n",
       "      <td>0.951823</td>\n",
       "      <td>1.089387</td>\n",
       "      <td>1.052817</td>\n",
       "      <td>1.199943</td>\n",
       "      <td>0.929951</td>\n",
       "      <td>1.116646</td>\n",
       "    </tr>\n",
       "    <tr>\n",
       "      <th>1</th>\n",
       "      <td>0.723959</td>\n",
       "      <td>0.480745</td>\n",
       "      <td>0.485424</td>\n",
       "      <td>0.464027</td>\n",
       "      <td>0.722880</td>\n",
       "      <td>0.517477</td>\n",
       "    </tr>\n",
       "    <tr>\n",
       "      <th>2</th>\n",
       "      <td>1.190970</td>\n",
       "      <td>1.012117</td>\n",
       "      <td>1.798704</td>\n",
       "      <td>1.113465</td>\n",
       "      <td>1.354117</td>\n",
       "      <td>1.161035</td>\n",
       "    </tr>\n",
       "    <tr>\n",
       "      <th>3</th>\n",
       "      <td>1.436319</td>\n",
       "      <td>0.653800</td>\n",
       "      <td>0.757314</td>\n",
       "      <td>0.811394</td>\n",
       "      <td>0.838433</td>\n",
       "      <td>0.868079</td>\n",
       "    </tr>\n",
       "    <tr>\n",
       "      <th>4</th>\n",
       "      <td>0.901452</td>\n",
       "      <td>0.691613</td>\n",
       "      <td>1.132690</td>\n",
       "      <td>1.336530</td>\n",
       "      <td>1.116420</td>\n",
       "      <td>0.809470</td>\n",
       "    </tr>\n",
       "    <tr>\n",
       "      <th>&lt;unk&gt; 5</th>\n",
       "      <td>1.886341</td>\n",
       "      <td>3.025549</td>\n",
       "      <td>1.147489</td>\n",
       "      <td>1.390888</td>\n",
       "      <td>2.146345</td>\n",
       "      <td>2.153674</td>\n",
       "    </tr>\n",
       "    <tr>\n",
       "      <th>&lt;unk&gt; 6</th>\n",
       "      <td>2.108636</td>\n",
       "      <td>4.454616</td>\n",
       "      <td>2.346013</td>\n",
       "      <td>3.057895</td>\n",
       "      <td>3.123478</td>\n",
       "      <td>4.920835</td>\n",
       "    </tr>\n",
       "    <tr>\n",
       "      <th>&lt;unk&gt; 7</th>\n",
       "      <td>2.715087</td>\n",
       "      <td>10.127517</td>\n",
       "      <td>4.576694</td>\n",
       "      <td>4.042496</td>\n",
       "      <td>4.617079</td>\n",
       "      <td>10.758244</td>\n",
       "    </tr>\n",
       "    <tr>\n",
       "      <th>&lt;unk&gt; 8</th>\n",
       "      <td>2.300944</td>\n",
       "      <td>10.861803</td>\n",
       "      <td>2.362649</td>\n",
       "      <td>2.211890</td>\n",
       "      <td>3.184900</td>\n",
       "      <td>4.845491</td>\n",
       "    </tr>\n",
       "    <tr>\n",
       "      <th>&lt;unk&gt; 9</th>\n",
       "      <td>2.177114</td>\n",
       "      <td>9.888195</td>\n",
       "      <td>2.876676</td>\n",
       "      <td>2.749112</td>\n",
       "      <td>3.188936</td>\n",
       "      <td>9.760674</td>\n",
       "    </tr>\n",
       "  </tbody>\n",
       "</table>\n",
       "</div>"
      ],
      "text/plain": [
       "         Conventional  L2-constrainted   ArcFace   CosFace  ShpereFace  \\\n",
       "0            0.951823         1.089387  1.052817  1.199943    0.929951   \n",
       "1            0.723959         0.480745  0.485424  0.464027    0.722880   \n",
       "2            1.190970         1.012117  1.798704  1.113465    1.354117   \n",
       "3            1.436319         0.653800  0.757314  0.811394    0.838433   \n",
       "4            0.901452         0.691613  1.132690  1.336530    1.116420   \n",
       "<unk> 5      1.886341         3.025549  1.147489  1.390888    2.146345   \n",
       "<unk> 6      2.108636         4.454616  2.346013  3.057895    3.123478   \n",
       "<unk> 7      2.715087        10.127517  4.576694  4.042496    4.617079   \n",
       "<unk> 8      2.300944        10.861803  2.362649  2.211890    3.184900   \n",
       "<unk> 9      2.177114         9.888195  2.876676  2.749112    3.188936   \n",
       "\n",
       "         CenterLoss  \n",
       "0          1.116646  \n",
       "1          0.517477  \n",
       "2          1.161035  \n",
       "3          0.868079  \n",
       "4          0.809470  \n",
       "<unk> 5    2.153674  \n",
       "<unk> 6    4.920835  \n",
       "<unk> 7   10.758244  \n",
       "<unk> 8    4.845491  \n",
       "<unk> 9    9.760674  "
      ]
     },
     "metadata": {},
     "output_type": "display_data"
    },
    {
     "name": "stdout",
     "output_type": "stream",
     "text": [
      "\n",
      "## [6, 7, 8, 9, 0]: normalized mean distance\n"
     ]
    },
    {
     "data": {
      "text/html": [
       "<div>\n",
       "<style scoped>\n",
       "    .dataframe tbody tr th:only-of-type {\n",
       "        vertical-align: middle;\n",
       "    }\n",
       "\n",
       "    .dataframe tbody tr th {\n",
       "        vertical-align: top;\n",
       "    }\n",
       "\n",
       "    .dataframe thead th {\n",
       "        text-align: right;\n",
       "    }\n",
       "</style>\n",
       "<table border=\"1\" class=\"dataframe\">\n",
       "  <thead>\n",
       "    <tr style=\"text-align: right;\">\n",
       "      <th></th>\n",
       "      <th>Conventional</th>\n",
       "      <th>L2-constrainted</th>\n",
       "      <th>ArcFace</th>\n",
       "      <th>CosFace</th>\n",
       "      <th>ShpereFace</th>\n",
       "      <th>CenterLoss</th>\n",
       "    </tr>\n",
       "  </thead>\n",
       "  <tbody>\n",
       "    <tr>\n",
       "      <th>&lt;unk&gt; 0</th>\n",
       "      <td>2.692320</td>\n",
       "      <td>7.498213</td>\n",
       "      <td>3.531698</td>\n",
       "      <td>2.477466</td>\n",
       "      <td>3.933943</td>\n",
       "      <td>13.789912</td>\n",
       "    </tr>\n",
       "    <tr>\n",
       "      <th>1</th>\n",
       "      <td>0.577271</td>\n",
       "      <td>0.604434</td>\n",
       "      <td>0.581287</td>\n",
       "      <td>0.723232</td>\n",
       "      <td>0.609308</td>\n",
       "      <td>0.748428</td>\n",
       "    </tr>\n",
       "    <tr>\n",
       "      <th>2</th>\n",
       "      <td>1.102468</td>\n",
       "      <td>1.324148</td>\n",
       "      <td>1.152060</td>\n",
       "      <td>1.514769</td>\n",
       "      <td>1.070501</td>\n",
       "      <td>0.891866</td>\n",
       "    </tr>\n",
       "    <tr>\n",
       "      <th>3</th>\n",
       "      <td>1.112432</td>\n",
       "      <td>0.864207</td>\n",
       "      <td>0.518018</td>\n",
       "      <td>0.658989</td>\n",
       "      <td>1.112249</td>\n",
       "      <td>0.874298</td>\n",
       "    </tr>\n",
       "    <tr>\n",
       "      <th>4</th>\n",
       "      <td>1.344270</td>\n",
       "      <td>1.115856</td>\n",
       "      <td>1.505684</td>\n",
       "      <td>1.235012</td>\n",
       "      <td>1.064844</td>\n",
       "      <td>1.121069</td>\n",
       "    </tr>\n",
       "    <tr>\n",
       "      <th>5</th>\n",
       "      <td>0.867078</td>\n",
       "      <td>1.098460</td>\n",
       "      <td>1.070197</td>\n",
       "      <td>1.001607</td>\n",
       "      <td>0.882223</td>\n",
       "      <td>0.850205</td>\n",
       "    </tr>\n",
       "    <tr>\n",
       "      <th>&lt;unk&gt; 6</th>\n",
       "      <td>1.850663</td>\n",
       "      <td>6.991732</td>\n",
       "      <td>2.279262</td>\n",
       "      <td>2.779817</td>\n",
       "      <td>2.703276</td>\n",
       "      <td>3.973051</td>\n",
       "    </tr>\n",
       "    <tr>\n",
       "      <th>&lt;unk&gt; 7</th>\n",
       "      <td>2.494280</td>\n",
       "      <td>11.418386</td>\n",
       "      <td>3.897249</td>\n",
       "      <td>3.941418</td>\n",
       "      <td>3.958144</td>\n",
       "      <td>14.123838</td>\n",
       "    </tr>\n",
       "    <tr>\n",
       "      <th>&lt;unk&gt; 8</th>\n",
       "      <td>2.500203</td>\n",
       "      <td>9.134751</td>\n",
       "      <td>2.840136</td>\n",
       "      <td>3.095249</td>\n",
       "      <td>3.981713</td>\n",
       "      <td>10.659239</td>\n",
       "    </tr>\n",
       "    <tr>\n",
       "      <th>&lt;unk&gt; 9</th>\n",
       "      <td>2.876618</td>\n",
       "      <td>10.391400</td>\n",
       "      <td>4.112953</td>\n",
       "      <td>2.587357</td>\n",
       "      <td>4.001021</td>\n",
       "      <td>8.521881</td>\n",
       "    </tr>\n",
       "  </tbody>\n",
       "</table>\n",
       "</div>"
      ],
      "text/plain": [
       "         Conventional  L2-constrainted   ArcFace   CosFace  ShpereFace  \\\n",
       "<unk> 0      2.692320         7.498213  3.531698  2.477466    3.933943   \n",
       "1            0.577271         0.604434  0.581287  0.723232    0.609308   \n",
       "2            1.102468         1.324148  1.152060  1.514769    1.070501   \n",
       "3            1.112432         0.864207  0.518018  0.658989    1.112249   \n",
       "4            1.344270         1.115856  1.505684  1.235012    1.064844   \n",
       "5            0.867078         1.098460  1.070197  1.001607    0.882223   \n",
       "<unk> 6      1.850663         6.991732  2.279262  2.779817    2.703276   \n",
       "<unk> 7      2.494280        11.418386  3.897249  3.941418    3.958144   \n",
       "<unk> 8      2.500203         9.134751  2.840136  3.095249    3.981713   \n",
       "<unk> 9      2.876618        10.391400  4.112953  2.587357    4.001021   \n",
       "\n",
       "         CenterLoss  \n",
       "<unk> 0   13.789912  \n",
       "1          0.748428  \n",
       "2          0.891866  \n",
       "3          0.874298  \n",
       "4          1.121069  \n",
       "5          0.850205  \n",
       "<unk> 6    3.973051  \n",
       "<unk> 7   14.123838  \n",
       "<unk> 8   10.659239  \n",
       "<unk> 9    8.521881  "
      ]
     },
     "metadata": {},
     "output_type": "display_data"
    },
    {
     "name": "stdout",
     "output_type": "stream",
     "text": [
      "\n",
      "## [7, 8, 9, 0, 1]: normalized mean distance\n"
     ]
    },
    {
     "data": {
      "text/html": [
       "<div>\n",
       "<style scoped>\n",
       "    .dataframe tbody tr th:only-of-type {\n",
       "        vertical-align: middle;\n",
       "    }\n",
       "\n",
       "    .dataframe tbody tr th {\n",
       "        vertical-align: top;\n",
       "    }\n",
       "\n",
       "    .dataframe thead th {\n",
       "        text-align: right;\n",
       "    }\n",
       "</style>\n",
       "<table border=\"1\" class=\"dataframe\">\n",
       "  <thead>\n",
       "    <tr style=\"text-align: right;\">\n",
       "      <th></th>\n",
       "      <th>Conventional</th>\n",
       "      <th>L2-constrainted</th>\n",
       "      <th>ArcFace</th>\n",
       "      <th>CosFace</th>\n",
       "      <th>ShpereFace</th>\n",
       "      <th>CenterLoss</th>\n",
       "    </tr>\n",
       "  </thead>\n",
       "  <tbody>\n",
       "    <tr>\n",
       "      <th>&lt;unk&gt; 0</th>\n",
       "      <td>2.023844</td>\n",
       "      <td>9.988954</td>\n",
       "      <td>2.155552</td>\n",
       "      <td>2.648653</td>\n",
       "      <td>3.349655</td>\n",
       "      <td>6.081401</td>\n",
       "    </tr>\n",
       "    <tr>\n",
       "      <th>&lt;unk&gt; 1</th>\n",
       "      <td>2.292436</td>\n",
       "      <td>10.858153</td>\n",
       "      <td>2.247823</td>\n",
       "      <td>2.682707</td>\n",
       "      <td>4.021451</td>\n",
       "      <td>8.101994</td>\n",
       "    </tr>\n",
       "    <tr>\n",
       "      <th>2</th>\n",
       "      <td>0.860986</td>\n",
       "      <td>1.194400</td>\n",
       "      <td>1.080506</td>\n",
       "      <td>1.388895</td>\n",
       "      <td>1.274490</td>\n",
       "      <td>0.665859</td>\n",
       "    </tr>\n",
       "    <tr>\n",
       "      <th>3</th>\n",
       "      <td>1.132615</td>\n",
       "      <td>0.855603</td>\n",
       "      <td>0.685724</td>\n",
       "      <td>1.008361</td>\n",
       "      <td>0.859007</td>\n",
       "      <td>0.940942</td>\n",
       "    </tr>\n",
       "    <tr>\n",
       "      <th>4</th>\n",
       "      <td>0.846037</td>\n",
       "      <td>0.989474</td>\n",
       "      <td>0.692270</td>\n",
       "      <td>0.838906</td>\n",
       "      <td>0.869837</td>\n",
       "      <td>0.861620</td>\n",
       "    </tr>\n",
       "    <tr>\n",
       "      <th>5</th>\n",
       "      <td>1.131048</td>\n",
       "      <td>1.279401</td>\n",
       "      <td>0.808586</td>\n",
       "      <td>0.929418</td>\n",
       "      <td>1.015457</td>\n",
       "      <td>1.040232</td>\n",
       "    </tr>\n",
       "    <tr>\n",
       "      <th>6</th>\n",
       "      <td>0.752450</td>\n",
       "      <td>0.823935</td>\n",
       "      <td>0.662052</td>\n",
       "      <td>0.675553</td>\n",
       "      <td>1.173178</td>\n",
       "      <td>0.679768</td>\n",
       "    </tr>\n",
       "    <tr>\n",
       "      <th>&lt;unk&gt; 7</th>\n",
       "      <td>2.150248</td>\n",
       "      <td>8.328265</td>\n",
       "      <td>4.057025</td>\n",
       "      <td>3.457506</td>\n",
       "      <td>4.240799</td>\n",
       "      <td>11.032650</td>\n",
       "    </tr>\n",
       "    <tr>\n",
       "      <th>&lt;unk&gt; 8</th>\n",
       "      <td>2.731180</td>\n",
       "      <td>9.617176</td>\n",
       "      <td>3.819179</td>\n",
       "      <td>2.423859</td>\n",
       "      <td>3.544034</td>\n",
       "      <td>13.205864</td>\n",
       "    </tr>\n",
       "    <tr>\n",
       "      <th>&lt;unk&gt; 9</th>\n",
       "      <td>1.950123</td>\n",
       "      <td>9.414264</td>\n",
       "      <td>2.156583</td>\n",
       "      <td>2.516864</td>\n",
       "      <td>2.910072</td>\n",
       "      <td>6.680929</td>\n",
       "    </tr>\n",
       "  </tbody>\n",
       "</table>\n",
       "</div>"
      ],
      "text/plain": [
       "         Conventional  L2-constrainted   ArcFace   CosFace  ShpereFace  \\\n",
       "<unk> 0      2.023844         9.988954  2.155552  2.648653    3.349655   \n",
       "<unk> 1      2.292436        10.858153  2.247823  2.682707    4.021451   \n",
       "2            0.860986         1.194400  1.080506  1.388895    1.274490   \n",
       "3            1.132615         0.855603  0.685724  1.008361    0.859007   \n",
       "4            0.846037         0.989474  0.692270  0.838906    0.869837   \n",
       "5            1.131048         1.279401  0.808586  0.929418    1.015457   \n",
       "6            0.752450         0.823935  0.662052  0.675553    1.173178   \n",
       "<unk> 7      2.150248         8.328265  4.057025  3.457506    4.240799   \n",
       "<unk> 8      2.731180         9.617176  3.819179  2.423859    3.544034   \n",
       "<unk> 9      1.950123         9.414264  2.156583  2.516864    2.910072   \n",
       "\n",
       "         CenterLoss  \n",
       "<unk> 0    6.081401  \n",
       "<unk> 1    8.101994  \n",
       "2          0.665859  \n",
       "3          0.940942  \n",
       "4          0.861620  \n",
       "5          1.040232  \n",
       "6          0.679768  \n",
       "<unk> 7   11.032650  \n",
       "<unk> 8   13.205864  \n",
       "<unk> 9    6.680929  "
      ]
     },
     "metadata": {},
     "output_type": "display_data"
    },
    {
     "name": "stdout",
     "output_type": "stream",
     "text": [
      "\n",
      "## [8, 9, 0, 1, 2]: normalized mean distance\n"
     ]
    },
    {
     "data": {
      "text/html": [
       "<div>\n",
       "<style scoped>\n",
       "    .dataframe tbody tr th:only-of-type {\n",
       "        vertical-align: middle;\n",
       "    }\n",
       "\n",
       "    .dataframe tbody tr th {\n",
       "        vertical-align: top;\n",
       "    }\n",
       "\n",
       "    .dataframe thead th {\n",
       "        text-align: right;\n",
       "    }\n",
       "</style>\n",
       "<table border=\"1\" class=\"dataframe\">\n",
       "  <thead>\n",
       "    <tr style=\"text-align: right;\">\n",
       "      <th></th>\n",
       "      <th>Conventional</th>\n",
       "      <th>L2-constrainted</th>\n",
       "      <th>ArcFace</th>\n",
       "      <th>CosFace</th>\n",
       "      <th>ShpereFace</th>\n",
       "      <th>CenterLoss</th>\n",
       "    </tr>\n",
       "  </thead>\n",
       "  <tbody>\n",
       "    <tr>\n",
       "      <th>&lt;unk&gt; 0</th>\n",
       "      <td>1.318760</td>\n",
       "      <td>2.654624</td>\n",
       "      <td>2.869160</td>\n",
       "      <td>1.888709</td>\n",
       "      <td>2.655453</td>\n",
       "      <td>2.091076</td>\n",
       "    </tr>\n",
       "    <tr>\n",
       "      <th>&lt;unk&gt; 1</th>\n",
       "      <td>2.455330</td>\n",
       "      <td>8.128843</td>\n",
       "      <td>2.731899</td>\n",
       "      <td>2.670242</td>\n",
       "      <td>4.151782</td>\n",
       "      <td>15.299075</td>\n",
       "    </tr>\n",
       "    <tr>\n",
       "      <th>&lt;unk&gt; 2</th>\n",
       "      <td>2.649727</td>\n",
       "      <td>11.967156</td>\n",
       "      <td>3.066858</td>\n",
       "      <td>3.838435</td>\n",
       "      <td>3.550223</td>\n",
       "      <td>11.066682</td>\n",
       "    </tr>\n",
       "    <tr>\n",
       "      <th>3</th>\n",
       "      <td>1.062988</td>\n",
       "      <td>0.851900</td>\n",
       "      <td>1.260647</td>\n",
       "      <td>0.847578</td>\n",
       "      <td>0.992200</td>\n",
       "      <td>1.038431</td>\n",
       "    </tr>\n",
       "    <tr>\n",
       "      <th>4</th>\n",
       "      <td>1.007875</td>\n",
       "      <td>1.081513</td>\n",
       "      <td>0.750622</td>\n",
       "      <td>1.308170</td>\n",
       "      <td>0.945297</td>\n",
       "      <td>0.884628</td>\n",
       "    </tr>\n",
       "    <tr>\n",
       "      <th>5</th>\n",
       "      <td>1.104526</td>\n",
       "      <td>1.328084</td>\n",
       "      <td>1.200925</td>\n",
       "      <td>0.926151</td>\n",
       "      <td>1.254170</td>\n",
       "      <td>0.877280</td>\n",
       "    </tr>\n",
       "    <tr>\n",
       "      <th>6</th>\n",
       "      <td>0.765782</td>\n",
       "      <td>0.692897</td>\n",
       "      <td>0.592675</td>\n",
       "      <td>0.756983</td>\n",
       "      <td>1.071972</td>\n",
       "      <td>0.698450</td>\n",
       "    </tr>\n",
       "    <tr>\n",
       "      <th>7</th>\n",
       "      <td>0.863944</td>\n",
       "      <td>1.247065</td>\n",
       "      <td>1.115248</td>\n",
       "      <td>1.197492</td>\n",
       "      <td>0.852209</td>\n",
       "      <td>1.213456</td>\n",
       "    </tr>\n",
       "    <tr>\n",
       "      <th>&lt;unk&gt; 8</th>\n",
       "      <td>2.661531</td>\n",
       "      <td>8.707804</td>\n",
       "      <td>2.947579</td>\n",
       "      <td>3.165639</td>\n",
       "      <td>3.090216</td>\n",
       "      <td>10.241943</td>\n",
       "    </tr>\n",
       "    <tr>\n",
       "      <th>&lt;unk&gt; 9</th>\n",
       "      <td>2.399878</td>\n",
       "      <td>12.902796</td>\n",
       "      <td>3.323683</td>\n",
       "      <td>3.571829</td>\n",
       "      <td>3.914617</td>\n",
       "      <td>12.342718</td>\n",
       "    </tr>\n",
       "  </tbody>\n",
       "</table>\n",
       "</div>"
      ],
      "text/plain": [
       "         Conventional  L2-constrainted   ArcFace   CosFace  ShpereFace  \\\n",
       "<unk> 0      1.318760         2.654624  2.869160  1.888709    2.655453   \n",
       "<unk> 1      2.455330         8.128843  2.731899  2.670242    4.151782   \n",
       "<unk> 2      2.649727        11.967156  3.066858  3.838435    3.550223   \n",
       "3            1.062988         0.851900  1.260647  0.847578    0.992200   \n",
       "4            1.007875         1.081513  0.750622  1.308170    0.945297   \n",
       "5            1.104526         1.328084  1.200925  0.926151    1.254170   \n",
       "6            0.765782         0.692897  0.592675  0.756983    1.071972   \n",
       "7            0.863944         1.247065  1.115248  1.197492    0.852209   \n",
       "<unk> 8      2.661531         8.707804  2.947579  3.165639    3.090216   \n",
       "<unk> 9      2.399878        12.902796  3.323683  3.571829    3.914617   \n",
       "\n",
       "         CenterLoss  \n",
       "<unk> 0    2.091076  \n",
       "<unk> 1   15.299075  \n",
       "<unk> 2   11.066682  \n",
       "3          1.038431  \n",
       "4          0.884628  \n",
       "5          0.877280  \n",
       "6          0.698450  \n",
       "7          1.213456  \n",
       "<unk> 8   10.241943  \n",
       "<unk> 9   12.342718  "
      ]
     },
     "metadata": {},
     "output_type": "display_data"
    },
    {
     "name": "stdout",
     "output_type": "stream",
     "text": [
      "\n",
      "## [9, 0, 1, 2, 3]: normalized mean distance\n"
     ]
    },
    {
     "data": {
      "text/html": [
       "<div>\n",
       "<style scoped>\n",
       "    .dataframe tbody tr th:only-of-type {\n",
       "        vertical-align: middle;\n",
       "    }\n",
       "\n",
       "    .dataframe tbody tr th {\n",
       "        vertical-align: top;\n",
       "    }\n",
       "\n",
       "    .dataframe thead th {\n",
       "        text-align: right;\n",
       "    }\n",
       "</style>\n",
       "<table border=\"1\" class=\"dataframe\">\n",
       "  <thead>\n",
       "    <tr style=\"text-align: right;\">\n",
       "      <th></th>\n",
       "      <th>Conventional</th>\n",
       "      <th>L2-constrainted</th>\n",
       "      <th>ArcFace</th>\n",
       "      <th>CosFace</th>\n",
       "      <th>ShpereFace</th>\n",
       "      <th>CenterLoss</th>\n",
       "    </tr>\n",
       "  </thead>\n",
       "  <tbody>\n",
       "    <tr>\n",
       "      <th>&lt;unk&gt; 0</th>\n",
       "      <td>2.299376</td>\n",
       "      <td>3.761642</td>\n",
       "      <td>2.881817</td>\n",
       "      <td>1.895109</td>\n",
       "      <td>3.845698</td>\n",
       "      <td>4.291254</td>\n",
       "    </tr>\n",
       "    <tr>\n",
       "      <th>&lt;unk&gt; 1</th>\n",
       "      <td>2.630077</td>\n",
       "      <td>14.300702</td>\n",
       "      <td>4.136381</td>\n",
       "      <td>3.568721</td>\n",
       "      <td>4.322441</td>\n",
       "      <td>12.983753</td>\n",
       "    </tr>\n",
       "    <tr>\n",
       "      <th>&lt;unk&gt; 2</th>\n",
       "      <td>2.006354</td>\n",
       "      <td>9.165103</td>\n",
       "      <td>3.102866</td>\n",
       "      <td>3.206853</td>\n",
       "      <td>3.333857</td>\n",
       "      <td>12.127328</td>\n",
       "    </tr>\n",
       "    <tr>\n",
       "      <th>&lt;unk&gt; 3</th>\n",
       "      <td>2.134574</td>\n",
       "      <td>11.790294</td>\n",
       "      <td>3.206887</td>\n",
       "      <td>3.582856</td>\n",
       "      <td>3.474482</td>\n",
       "      <td>5.196075</td>\n",
       "    </tr>\n",
       "    <tr>\n",
       "      <th>4</th>\n",
       "      <td>1.105113</td>\n",
       "      <td>1.090126</td>\n",
       "      <td>1.292839</td>\n",
       "      <td>1.389651</td>\n",
       "      <td>0.971372</td>\n",
       "      <td>0.810958</td>\n",
       "    </tr>\n",
       "    <tr>\n",
       "      <th>5</th>\n",
       "      <td>0.995614</td>\n",
       "      <td>0.823379</td>\n",
       "      <td>1.021575</td>\n",
       "      <td>1.133396</td>\n",
       "      <td>1.159046</td>\n",
       "      <td>0.754664</td>\n",
       "    </tr>\n",
       "    <tr>\n",
       "      <th>6</th>\n",
       "      <td>1.181131</td>\n",
       "      <td>1.057828</td>\n",
       "      <td>0.918243</td>\n",
       "      <td>0.583133</td>\n",
       "      <td>1.209662</td>\n",
       "      <td>0.761897</td>\n",
       "    </tr>\n",
       "    <tr>\n",
       "      <th>7</th>\n",
       "      <td>0.743505</td>\n",
       "      <td>0.743187</td>\n",
       "      <td>0.960909</td>\n",
       "      <td>0.783725</td>\n",
       "      <td>0.807527</td>\n",
       "      <td>0.896771</td>\n",
       "    </tr>\n",
       "    <tr>\n",
       "      <th>8</th>\n",
       "      <td>0.927789</td>\n",
       "      <td>1.125847</td>\n",
       "      <td>1.235660</td>\n",
       "      <td>1.137333</td>\n",
       "      <td>1.202521</td>\n",
       "      <td>1.147642</td>\n",
       "    </tr>\n",
       "    <tr>\n",
       "      <th>&lt;unk&gt; 9</th>\n",
       "      <td>2.185638</td>\n",
       "      <td>13.110395</td>\n",
       "      <td>3.234947</td>\n",
       "      <td>3.738116</td>\n",
       "      <td>4.235679</td>\n",
       "      <td>14.563132</td>\n",
       "    </tr>\n",
       "  </tbody>\n",
       "</table>\n",
       "</div>"
      ],
      "text/plain": [
       "         Conventional  L2-constrainted   ArcFace   CosFace  ShpereFace  \\\n",
       "<unk> 0      2.299376         3.761642  2.881817  1.895109    3.845698   \n",
       "<unk> 1      2.630077        14.300702  4.136381  3.568721    4.322441   \n",
       "<unk> 2      2.006354         9.165103  3.102866  3.206853    3.333857   \n",
       "<unk> 3      2.134574        11.790294  3.206887  3.582856    3.474482   \n",
       "4            1.105113         1.090126  1.292839  1.389651    0.971372   \n",
       "5            0.995614         0.823379  1.021575  1.133396    1.159046   \n",
       "6            1.181131         1.057828  0.918243  0.583133    1.209662   \n",
       "7            0.743505         0.743187  0.960909  0.783725    0.807527   \n",
       "8            0.927789         1.125847  1.235660  1.137333    1.202521   \n",
       "<unk> 9      2.185638        13.110395  3.234947  3.738116    4.235679   \n",
       "\n",
       "         CenterLoss  \n",
       "<unk> 0    4.291254  \n",
       "<unk> 1   12.983753  \n",
       "<unk> 2   12.127328  \n",
       "<unk> 3    5.196075  \n",
       "4          0.810958  \n",
       "5          0.754664  \n",
       "6          0.761897  \n",
       "7          0.896771  \n",
       "8          1.147642  \n",
       "<unk> 9   14.563132  "
      ]
     },
     "metadata": {},
     "output_type": "display_data"
    }
   ],
   "source": [
    "toytest.test_summary(auc_range=[0.85, 1.0], dist_range=None)\n",
    "toytest.save_results('results_AnomalyMNIST')"
   ]
  },
  {
   "cell_type": "code",
   "execution_count": 20,
   "metadata": {
    "scrolled": false
   },
   "outputs": [
    {
     "data": {
      "image/png": "[encoded data removed]",
      "text/plain": [
       "<Figure size 1296x504 with 10 Axes>"
      ]
     },
     "metadata": {},
     "output_type": "display_data"
    },
    {
     "data": {
      "image/png": "[encoded data removed]",
      "text/plain": [
       "<Figure size 1296x504 with 10 Axes>"
      ]
     },
     "metadata": {},
     "output_type": "display_data"
    },
    {
     "data": {
      "image/png": "[encoded data removed]",
      "text/plain": [
       "<Figure size 1296x504 with 10 Axes>"
      ]
     },
     "metadata": {},
     "output_type": "display_data"
    },
    {
     "data": {
      "image/png": "[encoded data removed]",
      "text/plain": [
       "<Figure size 1296x504 with 10 Axes>"
      ]
     },
     "metadata": {},
     "output_type": "display_data"
    },
    {
     "data": {
      "image/png": "[encoded data removed]",
      "text/plain": [
       "<Figure size 1296x504 with 10 Axes>"
      ]
     },
     "metadata": {},
     "output_type": "display_data"
    },
    {
     "data": {
      "image/png": "[encoded data removed]",
      "text/plain": [
       "<Figure size 1296x504 with 10 Axes>"
      ]
     },
     "metadata": {},
     "output_type": "display_data"
    },
    {
     "data": {
      "image/png": "[encoded data removed]",
      "text/plain": [
       "<Figure size 1296x504 with 10 Axes>"
      ]
     },
     "metadata": {},
     "output_type": "display_data"
    },
    {
     "data": {
      "image/png": "[encoded data removed]",
      "text/plain": [
       "<Figure size 1296x504 with 10 Axes>"
      ]
     },
     "metadata": {},
     "output_type": "display_data"
    },
    {
     "data": {
      "image/png": "[encoded data removed]",
      "text/plain": [
       "<Figure size 1296x504 with 10 Axes>"
      ]
     },
     "metadata": {},
     "output_type": "display_data"
    },
    {
     "data": {
      "image/png": "[encoded data removed]",
      "text/plain": [
       "<Figure size 1296x504 with 10 Axes>"
      ]
     },
     "metadata": {},
     "output_type": "display_data"
    },
    {
     "data": {
      "image/png": "[encoded data removed]",
      "text/plain": [
       "<Figure size 1296x504 with 10 Axes>"
      ]
     },
     "metadata": {},
     "output_type": "display_data"
    },
    {
     "data": {
      "image/png": "[encoded data removed]",
      "text/plain": [
       "<Figure size 1296x504 with 10 Axes>"
      ]
     },
     "metadata": {},
     "output_type": "display_data"
    }
   ],
   "source": [
    "for i in [0, 5]: toytest.show_all_worst_test_images(i)"
   ]
  },
  {
   "cell_type": "code",
   "execution_count": null,
   "metadata": {},
   "outputs": [],
   "source": []
  }
 ],
 "metadata": {
  "kernelspec": {
   "display_name": "Python 3",
   "language": "python",
   "name": "python3"
  },
  "language_info": {
   "codemirror_mode": {
    "name": "ipython",
    "version": 3
   },
   "file_extension": ".py",
   "mimetype": "text/x-python",
   "name": "python",
   "nbconvert_exporter": "python",
   "pygments_lexer": "ipython3",
   "version": "3.6.4"
  }
 },
 "nbformat": 4,
 "nbformat_minor": 2
}
